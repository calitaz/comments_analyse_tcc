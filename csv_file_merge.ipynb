{
 "cells": [
  {
   "cell_type": "code",
   "execution_count": 1,
   "metadata": {},
   "outputs": [],
   "source": [
    "import glob\n",
    "import pandas as pd\n",
    "import os"
   ]
  },
  {
   "cell_type": "code",
   "execution_count": 2,
   "metadata": {},
   "outputs": [],
   "source": [
    "# comentarios\n",
    "comentarios_path = \"C:\\\\Users\\\\180100527\\\\Documents\\\\tccpratico\\\\comments_analyse_tcc\\\\dados_scrap_converted\\\\csv_comentarios\"\n",
    "\n",
    "# dados comentarios\n",
    "dados_comentarios_path = \"C:\\\\Users\\\\180100527\\\\Documents\\\\tccpratico\\\\comments_analyse_tcc\\\\dados_scrap_converted\\\\csv_dados_comentarios\"\n",
    "\n",
    "# path diretorio\n",
    "os.chdir(dados_comentarios_path)"
   ]
  },
  {
   "cell_type": "code",
   "execution_count": 3,
   "metadata": {},
   "outputs": [],
   "source": [
    "# tipo de extensão\n",
    "extension = 'csv'\n",
    "\n",
    "# encontra todos os arquivos com .csv\n",
    "all_filenames = [i for i in glob.glob('*.{}'.format(extension))]"
   ]
  },
  {
   "cell_type": "code",
   "execution_count": 4,
   "metadata": {},
   "outputs": [],
   "source": [
    "# concatena todos os files que possuem .csv\n",
    "combined_csv = pd.concat([pd.read_csv(f, sep=';', encoding='utf-8',) for f in all_filenames ])\n",
    "\n",
    "# exporta\n",
    "nomedocombinado = \"combined_dados_comentarios.csv\"\n",
    "\n",
    "combined_csv.to_csv(nomedocombinado, index=False, encoding='utf-8')"
   ]
  },
  {
   "cell_type": "code",
   "execution_count": null,
   "metadata": {},
   "outputs": [],
   "source": []
  }
 ],
 "metadata": {
  "kernelspec": {
   "display_name": "Python 3",
   "language": "python",
   "name": "python3"
  },
  "language_info": {
   "codemirror_mode": {
    "name": "ipython",
    "version": 3
   },
   "file_extension": ".py",
   "mimetype": "text/x-python",
   "name": "python",
   "nbconvert_exporter": "python",
   "pygments_lexer": "ipython3",
   "version": "3.7.6"
  }
 },
 "nbformat": 4,
 "nbformat_minor": 4
}
