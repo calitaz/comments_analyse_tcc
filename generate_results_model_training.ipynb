{
 "cells": [
  {
   "cell_type": "markdown",
   "metadata": {},
   "source": [
    "#  Criação e modelagem de machine learning"
   ]
  },
  {
   "cell_type": "markdown",
   "metadata": {},
   "source": [
    "#### Fazer importações"
   ]
  },
  {
   "cell_type": "code",
   "execution_count": 1,
   "metadata": {},
   "outputs": [],
   "source": [
    "# Imports\n",
    "import pandas as pd\n",
    "from sklearn.utils import shuffle\n",
    "import spacy\n",
    "from sklearn.feature_extraction.text import CountVectorizer\n",
    "from sklearn.model_selection import train_test_split\n",
    "from sklearn.metrics import accuracy_score, precision_score, classification_report\n",
    "from sklearn.linear_model import LogisticRegression\n",
    "from sklearn.ensemble import GradientBoostingClassifier\n",
    "import joblib\n",
    "import unidecode\n",
    "from string import punctuation\n",
    "from xgboost import XGBClassifier\n",
    "from sklearn.metrics import confusion_matrix \n",
    "import seaborn as sn\n",
    "import numpy as np \n",
    "import matplotlib.pyplot as plt\n",
    "import pickle\n",
    "\n",
    "# inicializa o nlp do spacy\n",
    "nlp = spacy.load(\"pt_core_news_sm\")"
   ]
  },
  {
   "cell_type": "markdown",
   "metadata": {},
   "source": [
    "#### Leitura da base em JSON"
   ]
  },
  {
   "cell_type": "code",
   "execution_count": 2,
   "metadata": {},
   "outputs": [
    {
     "data": {
      "text/html": [
       "<div>\n",
       "<style scoped>\n",
       "    .dataframe tbody tr th:only-of-type {\n",
       "        vertical-align: middle;\n",
       "    }\n",
       "\n",
       "    .dataframe tbody tr th {\n",
       "        vertical-align: top;\n",
       "    }\n",
       "\n",
       "    .dataframe thead th {\n",
       "        text-align: right;\n",
       "    }\n",
       "</style>\n",
       "<table border=\"1\" class=\"dataframe\">\n",
       "  <thead>\n",
       "    <tr style=\"text-align: right;\">\n",
       "      <th></th>\n",
       "      <th>idcomentario</th>\n",
       "      <th>toxico</th>\n",
       "      <th>comentario</th>\n",
       "      <th>tipo</th>\n",
       "    </tr>\n",
       "  </thead>\n",
       "  <tbody>\n",
       "    <tr>\n",
       "      <th>0</th>\n",
       "      <td>5e52b6f032766bbb6d01c5cc</td>\n",
       "      <td>False</td>\n",
       "      <td>Passando o pacote anti crime na camara e sena...</td>\n",
       "      <td></td>\n",
       "    </tr>\n",
       "    <tr>\n",
       "      <th>1</th>\n",
       "      <td>5e52b83c32766bbb6d01d2c0</td>\n",
       "      <td>False</td>\n",
       "      <td>nossa ai fica dificil...antes sobia 20 reais ...</td>\n",
       "      <td></td>\n",
       "    </tr>\n",
       "    <tr>\n",
       "      <th>2</th>\n",
       "      <td>5e52b83c32766bbb6d01d1e2</td>\n",
       "      <td>False</td>\n",
       "      <td>Até quando ele vai comparar tudo a um casamen...</td>\n",
       "      <td></td>\n",
       "    </tr>\n",
       "    <tr>\n",
       "      <th>3</th>\n",
       "      <td>5e52b84f32766bbb6d01db26</td>\n",
       "      <td>False</td>\n",
       "      <td>99 nunca mais! Usei o 99 para pagar com cartã...</td>\n",
       "      <td></td>\n",
       "    </tr>\n",
       "    <tr>\n",
       "      <th>4</th>\n",
       "      <td>5e52b84f32766bbb6d01d883</td>\n",
       "      <td>False</td>\n",
       "      <td>Já foi confirmado pela UFBA que é óleo venezu...</td>\n",
       "      <td></td>\n",
       "    </tr>\n",
       "  </tbody>\n",
       "</table>\n",
       "</div>"
      ],
      "text/plain": [
       "               idcomentario  toxico  \\\n",
       "0  5e52b6f032766bbb6d01c5cc   False   \n",
       "1  5e52b83c32766bbb6d01d2c0   False   \n",
       "2  5e52b83c32766bbb6d01d1e2   False   \n",
       "3  5e52b84f32766bbb6d01db26   False   \n",
       "4  5e52b84f32766bbb6d01d883   False   \n",
       "\n",
       "                                          comentario tipo  \n",
       "0   Passando o pacote anti crime na camara e sena...       \n",
       "1   nossa ai fica dificil...antes sobia 20 reais ...       \n",
       "2   Até quando ele vai comparar tudo a um casamen...       \n",
       "3   99 nunca mais! Usei o 99 para pagar com cartã...       \n",
       "4   Já foi confirmado pela UFBA que é óleo venezu...       "
      ]
     },
     "execution_count": 2,
     "metadata": {},
     "output_type": "execute_result"
    }
   ],
   "source": [
    "# Ler arquivo Json - arquivo usando com orient=records\n",
    "data = pd.read_json('definedcommentsdf.json')\n",
    "\n",
    "# Cria um dataframe so para os valores das colunas toxico e comentario\n",
    "comments_toxico = data.drop(['link','datahora'], axis=1)\n",
    "comments_toxico.head()"
   ]
  },
  {
   "cell_type": "markdown",
   "metadata": {},
   "source": [
    "## Aqui começa o tratamento da base"
   ]
  },
  {
   "cell_type": "code",
   "execution_count": 3,
   "metadata": {},
   "outputs": [],
   "source": [
    "# Modifica valores false/true para 0,1\n",
    "comments_toxico.loc[(comments_toxico.toxico == True),'toxico'] = 1\n",
    "comments_toxico.loc[(comments_toxico.toxico == False),'toxico'] = 0"
   ]
  },
  {
   "cell_type": "code",
   "execution_count": 4,
   "metadata": {},
   "outputs": [],
   "source": [
    "# DataFrame com toxicos e não toxicos\n",
    "toxic_data = comments_toxico[comments_toxico.toxico == 1]\n",
    "nontoxic_data = comments_toxico[comments_toxico.toxico == 0]"
   ]
  },
  {
   "cell_type": "code",
   "execution_count": 5,
   "metadata": {},
   "outputs": [],
   "source": [
    "# Conta quantidade de cada classificacao\n",
    "count_toxic = toxic_data.shape[0]\n",
    "count_nontoxic = nontoxic_data.shape[0]\n",
    "\n",
    "# Checa a quantidade de cada dataset e deixa 50%/50% de cada classificacao \n",
    "if count_nontoxic > count_toxic:\n",
    "    nontoxic_data = nontoxic_data.sample(count_toxic, replace=True)\n",
    "    \n",
    "if count_toxic > count_nontoxic:\n",
    "    toxic_data = toxic_data.sample(count_nontoxic, replace=True)\n",
    "    \n",
    "# Ignora Warnings de indexação\n",
    "pd.options.mode.chained_assignment = None\n",
    "\n",
    "# Cria contagem de idcomentarios iguais\n",
    "nontoxic_data['amount_idcomentario']= nontoxic_data.idcomentario.map(nontoxic_data.idcomentario.value_counts())\n",
    "toxic_data['amount_idcomentario']= toxic_data.idcomentario.map(toxic_data.idcomentario.value_counts())\n",
    "\n",
    "# Criar listas de apoio\n",
    "data_bigtoxic = [] \n",
    "data_bignontoxic = []\n",
    "dataigual = []\n",
    "for row in nontoxic_data.itertuples():\n",
    "    for row1 in toxic_data.itertuples():\n",
    "        if row1.idcomentario == row.idcomentario and row1.amount_idcomentario > row.amount_idcomentario:\n",
    "            data_bigtoxic.append(row1)\n",
    "        elif row1.idcomentario == row.idcomentario and row1.amount_idcomentario < row.amount_idcomentario:\n",
    "            data_bignontoxic.append(row)\n",
    "        elif row1.idcomentario == row.idcomentario and row1.amount_idcomentario == row.amount_idcomentario:\n",
    "            dataigual.append(row1.idcomentario)\n",
    "            "
   ]
  },
  {
   "cell_type": "code",
   "execution_count": 6,
   "metadata": {},
   "outputs": [],
   "source": [
    "# Recria dataframe com samples de toxic e non toxic, resetando index \n",
    "mergedata = [nontoxic_data,toxic_data]\n",
    "new_dataframe = pd.concat(mergedata)\n",
    "new_dataframe.reset_index(drop=True, inplace=True)"
   ]
  },
  {
   "cell_type": "code",
   "execution_count": 7,
   "metadata": {},
   "outputs": [],
   "source": [
    "# Remove comentarios que tem mesmo valor de toxico e nao toxico\n",
    "data_framefinal = new_dataframe[~new_dataframe.idcomentario.isin(dataigual)]"
   ]
  },
  {
   "cell_type": "code",
   "execution_count": 8,
   "metadata": {
    "scrolled": true
   },
   "outputs": [
    {
     "data": {
      "text/html": [
       "<div>\n",
       "<style scoped>\n",
       "    .dataframe tbody tr th:only-of-type {\n",
       "        vertical-align: middle;\n",
       "    }\n",
       "\n",
       "    .dataframe tbody tr th {\n",
       "        vertical-align: top;\n",
       "    }\n",
       "\n",
       "    .dataframe thead th {\n",
       "        text-align: right;\n",
       "    }\n",
       "</style>\n",
       "<table border=\"1\" class=\"dataframe\">\n",
       "  <thead>\n",
       "    <tr style=\"text-align: right;\">\n",
       "      <th></th>\n",
       "      <th>toxico</th>\n",
       "      <th>comentario</th>\n",
       "    </tr>\n",
       "  </thead>\n",
       "  <tbody>\n",
       "    <tr>\n",
       "      <th>0</th>\n",
       "      <td>0</td>\n",
       "      <td>Basta o imposto retornar ao povo em serviços,...</td>\n",
       "    </tr>\n",
       "    <tr>\n",
       "      <th>1</th>\n",
       "      <td>0</td>\n",
       "      <td>Prezado. No caso, usa-se o verbo no infinitivo.</td>\n",
       "    </tr>\n",
       "    <tr>\n",
       "      <th>2</th>\n",
       "      <td>0</td>\n",
       "      <td>A manchete deveria ser: 62% aprovam o governo...</td>\n",
       "    </tr>\n",
       "    <tr>\n",
       "      <th>3</th>\n",
       "      <td>0</td>\n",
       "      <td>Guerra de bandidos,  cade  os grupos de  dire...</td>\n",
       "    </tr>\n",
       "    <tr>\n",
       "      <th>4</th>\n",
       "      <td>0</td>\n",
       "      <td>Quem tá mentindo?\\nO Sr das armas ou o tiro n...</td>\n",
       "    </tr>\n",
       "    <tr>\n",
       "      <th>...</th>\n",
       "      <td>...</td>\n",
       "      <td>...</td>\n",
       "    </tr>\n",
       "    <tr>\n",
       "      <th>1566</th>\n",
       "      <td>1</td>\n",
       "      <td>Cara chato !</td>\n",
       "    </tr>\n",
       "    <tr>\n",
       "      <th>1567</th>\n",
       "      <td>1</td>\n",
       "      <td>Fala M não vai...</td>\n",
       "    </tr>\n",
       "    <tr>\n",
       "      <th>1570</th>\n",
       "      <td>1</td>\n",
       "      <td>Eu agora vou dormir!!!  Mas vocês não podem!!...</td>\n",
       "    </tr>\n",
       "    <tr>\n",
       "      <th>1572</th>\n",
       "      <td>1</td>\n",
       "      <td>BoIsotrooper, a GIobo de.ve mais de um biIhão...</td>\n",
       "    </tr>\n",
       "    <tr>\n",
       "      <th>1573</th>\n",
       "      <td>1</td>\n",
       "      <td>Tá aí consumidores de drogas essa guerra é po...</td>\n",
       "    </tr>\n",
       "  </tbody>\n",
       "</table>\n",
       "<p>1273 rows × 2 columns</p>\n",
       "</div>"
      ],
      "text/plain": [
       "     toxico                                         comentario\n",
       "0         0   Basta o imposto retornar ao povo em serviços,...\n",
       "1         0   Prezado. No caso, usa-se o verbo no infinitivo. \n",
       "2         0   A manchete deveria ser: 62% aprovam o governo...\n",
       "3         0   Guerra de bandidos,  cade  os grupos de  dire...\n",
       "4         0   Quem tá mentindo?\\nO Sr das armas ou o tiro n...\n",
       "...     ...                                                ...\n",
       "1566      1                                      Cara chato ! \n",
       "1567      1                                 Fala M não vai... \n",
       "1570      1   Eu agora vou dormir!!!  Mas vocês não podem!!...\n",
       "1572      1   BoIsotrooper, a GIobo de.ve mais de um biIhão...\n",
       "1573      1   Tá aí consumidores de drogas essa guerra é po...\n",
       "\n",
       "[1273 rows x 2 columns]"
      ]
     },
     "execution_count": 8,
     "metadata": {},
     "output_type": "execute_result"
    }
   ],
   "source": [
    "# DataFrame axuliar para criar tokens do nlp do spacy\n",
    "comentarios_df = data_framefinal.drop(['idcomentario','tipo','amount_idcomentario'], axis=1)\n",
    "comentarios_df = comentarios_df.drop_duplicates(subset=['toxico', 'comentario'], keep='first') # remove itens duplicados\n",
    "comentarios_df"
   ]
  },
  {
   "cell_type": "markdown",
   "metadata": {},
   "source": [
    "## Aqui começa o pré-processamento"
   ]
  },
  {
   "cell_type": "markdown",
   "metadata": {},
   "source": [
    "#### Cada pré-processamento foi separado em uma coluna do DataFrame de forma a treinar a ML individualmente para cada coluna do DataFrame"
   ]
  },
  {
   "cell_type": "code",
   "execution_count": 9,
   "metadata": {},
   "outputs": [
    {
     "data": {
      "text/html": [
       "<div>\n",
       "<style scoped>\n",
       "    .dataframe tbody tr th:only-of-type {\n",
       "        vertical-align: middle;\n",
       "    }\n",
       "\n",
       "    .dataframe tbody tr th {\n",
       "        vertical-align: top;\n",
       "    }\n",
       "\n",
       "    .dataframe thead th {\n",
       "        text-align: right;\n",
       "    }\n",
       "</style>\n",
       "<table border=\"1\" class=\"dataframe\">\n",
       "  <thead>\n",
       "    <tr style=\"text-align: right;\">\n",
       "      <th></th>\n",
       "      <th>toxico</th>\n",
       "      <th>comentario</th>\n",
       "    </tr>\n",
       "  </thead>\n",
       "  <tbody>\n",
       "    <tr>\n",
       "      <th>0</th>\n",
       "      <td>0</td>\n",
       "      <td>Basta o imposto retornar ao povo em serviços,...</td>\n",
       "    </tr>\n",
       "    <tr>\n",
       "      <th>1</th>\n",
       "      <td>0</td>\n",
       "      <td>Prezado. No caso, usa-se o verbo no infinitivo.</td>\n",
       "    </tr>\n",
       "    <tr>\n",
       "      <th>2</th>\n",
       "      <td>0</td>\n",
       "      <td>A manchete deveria ser: 62% aprovam o governo...</td>\n",
       "    </tr>\n",
       "    <tr>\n",
       "      <th>3</th>\n",
       "      <td>0</td>\n",
       "      <td>Guerra de bandidos,  cade  os grupos de  dire...</td>\n",
       "    </tr>\n",
       "    <tr>\n",
       "      <th>4</th>\n",
       "      <td>0</td>\n",
       "      <td>Quem tá mentindo? O Sr das armas ou o tiro na...</td>\n",
       "    </tr>\n",
       "    <tr>\n",
       "      <th>...</th>\n",
       "      <td>...</td>\n",
       "      <td>...</td>\n",
       "    </tr>\n",
       "    <tr>\n",
       "      <th>1566</th>\n",
       "      <td>1</td>\n",
       "      <td>Cara chato !</td>\n",
       "    </tr>\n",
       "    <tr>\n",
       "      <th>1567</th>\n",
       "      <td>1</td>\n",
       "      <td>Fala M não vai...</td>\n",
       "    </tr>\n",
       "    <tr>\n",
       "      <th>1570</th>\n",
       "      <td>1</td>\n",
       "      <td>Eu agora vou dormir!!!  Mas vocês não podem!!...</td>\n",
       "    </tr>\n",
       "    <tr>\n",
       "      <th>1572</th>\n",
       "      <td>1</td>\n",
       "      <td>BoIsotrooper, a GIobo de.ve mais de um biIhão...</td>\n",
       "    </tr>\n",
       "    <tr>\n",
       "      <th>1573</th>\n",
       "      <td>1</td>\n",
       "      <td>Tá aí consumidores de drogas essa guerra é po...</td>\n",
       "    </tr>\n",
       "  </tbody>\n",
       "</table>\n",
       "<p>1273 rows × 2 columns</p>\n",
       "</div>"
      ],
      "text/plain": [
       "      toxico                                         comentario\n",
       "0          0   Basta o imposto retornar ao povo em serviços,...\n",
       "1          0   Prezado. No caso, usa-se o verbo no infinitivo. \n",
       "2          0   A manchete deveria ser: 62% aprovam o governo...\n",
       "3          0   Guerra de bandidos,  cade  os grupos de  dire...\n",
       "4          0   Quem tá mentindo? O Sr das armas ou o tiro na...\n",
       "...      ...                                                ...\n",
       "1566       1                                      Cara chato ! \n",
       "1567       1                                 Fala M não vai... \n",
       "1570       1   Eu agora vou dormir!!!  Mas vocês não podem!!...\n",
       "1572       1   BoIsotrooper, a GIobo de.ve mais de um biIhão...\n",
       "1573       1   Tá aí consumidores de drogas essa guerra é po...\n",
       "\n",
       "[1273 rows x 2 columns]"
      ]
     },
     "execution_count": 9,
     "metadata": {},
     "output_type": "execute_result"
    }
   ],
   "source": [
    "comentarios_df = comentarios_df.replace(r'\\n', ' ', regex=True) \n",
    "comentarios_df"
   ]
  },
  {
   "cell_type": "code",
   "execution_count": 10,
   "metadata": {},
   "outputs": [
    {
     "data": {
      "text/html": [
       "<div>\n",
       "<style scoped>\n",
       "    .dataframe tbody tr th:only-of-type {\n",
       "        vertical-align: middle;\n",
       "    }\n",
       "\n",
       "    .dataframe tbody tr th {\n",
       "        vertical-align: top;\n",
       "    }\n",
       "\n",
       "    .dataframe thead th {\n",
       "        text-align: right;\n",
       "    }\n",
       "</style>\n",
       "<table border=\"1\" class=\"dataframe\">\n",
       "  <thead>\n",
       "    <tr style=\"text-align: right;\">\n",
       "      <th></th>\n",
       "      <th>toxico</th>\n",
       "      <th>comentario</th>\n",
       "      <th>minusculo</th>\n",
       "    </tr>\n",
       "  </thead>\n",
       "  <tbody>\n",
       "    <tr>\n",
       "      <th>0</th>\n",
       "      <td>0</td>\n",
       "      <td>Basta o imposto retornar ao povo em serviços,...</td>\n",
       "      <td>basta o imposto retornar ao povo em serviços,...</td>\n",
       "    </tr>\n",
       "    <tr>\n",
       "      <th>1</th>\n",
       "      <td>0</td>\n",
       "      <td>Prezado. No caso, usa-se o verbo no infinitivo.</td>\n",
       "      <td>prezado. no caso, usa-se o verbo no infinitivo.</td>\n",
       "    </tr>\n",
       "    <tr>\n",
       "      <th>2</th>\n",
       "      <td>0</td>\n",
       "      <td>A manchete deveria ser: 62% aprovam o governo...</td>\n",
       "      <td>a manchete deveria ser: 62% aprovam o governo...</td>\n",
       "    </tr>\n",
       "    <tr>\n",
       "      <th>3</th>\n",
       "      <td>0</td>\n",
       "      <td>Guerra de bandidos,  cade  os grupos de  dire...</td>\n",
       "      <td>guerra de bandidos,  cade  os grupos de  dire...</td>\n",
       "    </tr>\n",
       "    <tr>\n",
       "      <th>4</th>\n",
       "      <td>0</td>\n",
       "      <td>Quem tá mentindo? O Sr das armas ou o tiro na...</td>\n",
       "      <td>quem tá mentindo? o sr das armas ou o tiro na...</td>\n",
       "    </tr>\n",
       "    <tr>\n",
       "      <th>...</th>\n",
       "      <td>...</td>\n",
       "      <td>...</td>\n",
       "      <td>...</td>\n",
       "    </tr>\n",
       "    <tr>\n",
       "      <th>1566</th>\n",
       "      <td>1</td>\n",
       "      <td>Cara chato !</td>\n",
       "      <td>cara chato !</td>\n",
       "    </tr>\n",
       "    <tr>\n",
       "      <th>1567</th>\n",
       "      <td>1</td>\n",
       "      <td>Fala M não vai...</td>\n",
       "      <td>fala m não vai...</td>\n",
       "    </tr>\n",
       "    <tr>\n",
       "      <th>1570</th>\n",
       "      <td>1</td>\n",
       "      <td>Eu agora vou dormir!!!  Mas vocês não podem!!...</td>\n",
       "      <td>eu agora vou dormir!!!  mas vocês não podem!!...</td>\n",
       "    </tr>\n",
       "    <tr>\n",
       "      <th>1572</th>\n",
       "      <td>1</td>\n",
       "      <td>BoIsotrooper, a GIobo de.ve mais de um biIhão...</td>\n",
       "      <td>boisotrooper, a giobo de.ve mais de um biihão...</td>\n",
       "    </tr>\n",
       "    <tr>\n",
       "      <th>1573</th>\n",
       "      <td>1</td>\n",
       "      <td>Tá aí consumidores de drogas essa guerra é po...</td>\n",
       "      <td>tá aí consumidores de drogas essa guerra é po...</td>\n",
       "    </tr>\n",
       "  </tbody>\n",
       "</table>\n",
       "<p>1273 rows × 3 columns</p>\n",
       "</div>"
      ],
      "text/plain": [
       "      toxico                                         comentario  \\\n",
       "0          0   Basta o imposto retornar ao povo em serviços,...   \n",
       "1          0   Prezado. No caso, usa-se o verbo no infinitivo.    \n",
       "2          0   A manchete deveria ser: 62% aprovam o governo...   \n",
       "3          0   Guerra de bandidos,  cade  os grupos de  dire...   \n",
       "4          0   Quem tá mentindo? O Sr das armas ou o tiro na...   \n",
       "...      ...                                                ...   \n",
       "1566       1                                      Cara chato !    \n",
       "1567       1                                 Fala M não vai...    \n",
       "1570       1   Eu agora vou dormir!!!  Mas vocês não podem!!...   \n",
       "1572       1   BoIsotrooper, a GIobo de.ve mais de um biIhão...   \n",
       "1573       1   Tá aí consumidores de drogas essa guerra é po...   \n",
       "\n",
       "                                              minusculo  \n",
       "0      basta o imposto retornar ao povo em serviços,...  \n",
       "1      prezado. no caso, usa-se o verbo no infinitivo.   \n",
       "2      a manchete deveria ser: 62% aprovam o governo...  \n",
       "3      guerra de bandidos,  cade  os grupos de  dire...  \n",
       "4      quem tá mentindo? o sr das armas ou o tiro na...  \n",
       "...                                                 ...  \n",
       "1566                                      cara chato !   \n",
       "1567                                 fala m não vai...   \n",
       "1570   eu agora vou dormir!!!  mas vocês não podem!!...  \n",
       "1572   boisotrooper, a giobo de.ve mais de um biihão...  \n",
       "1573   tá aí consumidores de drogas essa guerra é po...  \n",
       "\n",
       "[1273 rows x 3 columns]"
      ]
     },
     "execution_count": 10,
     "metadata": {},
     "output_type": "execute_result"
    }
   ],
   "source": [
    "# Transforma todas as letras em minusculo\n",
    "minusculo = []\n",
    "for comentario in comentarios_df['comentario']:\n",
    "    minusculo.append(comentario.lower())\n",
    "    \n",
    "comentarios_df['minusculo'] = minusculo\n",
    "\n",
    "comentarios_df"
   ]
  },
  {
   "cell_type": "code",
   "execution_count": 11,
   "metadata": {
    "scrolled": true
   },
   "outputs": [
    {
     "data": {
      "text/html": [
       "<div>\n",
       "<style scoped>\n",
       "    .dataframe tbody tr th:only-of-type {\n",
       "        vertical-align: middle;\n",
       "    }\n",
       "\n",
       "    .dataframe tbody tr th {\n",
       "        vertical-align: top;\n",
       "    }\n",
       "\n",
       "    .dataframe thead th {\n",
       "        text-align: right;\n",
       "    }\n",
       "</style>\n",
       "<table border=\"1\" class=\"dataframe\">\n",
       "  <thead>\n",
       "    <tr style=\"text-align: right;\">\n",
       "      <th></th>\n",
       "      <th>toxico</th>\n",
       "      <th>comentario</th>\n",
       "      <th>minusculo</th>\n",
       "      <th>whitespacesnone</th>\n",
       "    </tr>\n",
       "  </thead>\n",
       "  <tbody>\n",
       "    <tr>\n",
       "      <th>0</th>\n",
       "      <td>0</td>\n",
       "      <td>Basta o imposto retornar ao povo em serviços,...</td>\n",
       "      <td>basta o imposto retornar ao povo em serviços,...</td>\n",
       "      <td>basta o imposto retornar ao povo em serviços, ...</td>\n",
       "    </tr>\n",
       "    <tr>\n",
       "      <th>1</th>\n",
       "      <td>0</td>\n",
       "      <td>Prezado. No caso, usa-se o verbo no infinitivo.</td>\n",
       "      <td>prezado. no caso, usa-se o verbo no infinitivo.</td>\n",
       "      <td>prezado. no caso, usa-se o verbo no infinitivo.</td>\n",
       "    </tr>\n",
       "    <tr>\n",
       "      <th>2</th>\n",
       "      <td>0</td>\n",
       "      <td>A manchete deveria ser: 62% aprovam o governo...</td>\n",
       "      <td>a manchete deveria ser: 62% aprovam o governo...</td>\n",
       "      <td>a manchete deveria ser: 62% aprovam o governo ...</td>\n",
       "    </tr>\n",
       "    <tr>\n",
       "      <th>3</th>\n",
       "      <td>0</td>\n",
       "      <td>Guerra de bandidos,  cade  os grupos de  dire...</td>\n",
       "      <td>guerra de bandidos,  cade  os grupos de  dire...</td>\n",
       "      <td>guerra de bandidos,  cade  os grupos de  direi...</td>\n",
       "    </tr>\n",
       "    <tr>\n",
       "      <th>4</th>\n",
       "      <td>0</td>\n",
       "      <td>Quem tá mentindo? O Sr das armas ou o tiro na...</td>\n",
       "      <td>quem tá mentindo? o sr das armas ou o tiro na...</td>\n",
       "      <td>quem tá mentindo? o sr das armas ou o tiro na ...</td>\n",
       "    </tr>\n",
       "    <tr>\n",
       "      <th>...</th>\n",
       "      <td>...</td>\n",
       "      <td>...</td>\n",
       "      <td>...</td>\n",
       "      <td>...</td>\n",
       "    </tr>\n",
       "    <tr>\n",
       "      <th>1566</th>\n",
       "      <td>1</td>\n",
       "      <td>Cara chato !</td>\n",
       "      <td>cara chato !</td>\n",
       "      <td>cara chato !</td>\n",
       "    </tr>\n",
       "    <tr>\n",
       "      <th>1567</th>\n",
       "      <td>1</td>\n",
       "      <td>Fala M não vai...</td>\n",
       "      <td>fala m não vai...</td>\n",
       "      <td>fala m não vai...</td>\n",
       "    </tr>\n",
       "    <tr>\n",
       "      <th>1570</th>\n",
       "      <td>1</td>\n",
       "      <td>Eu agora vou dormir!!!  Mas vocês não podem!!...</td>\n",
       "      <td>eu agora vou dormir!!!  mas vocês não podem!!...</td>\n",
       "      <td>eu agora vou dormir!!!  mas vocês não podem!!!...</td>\n",
       "    </tr>\n",
       "    <tr>\n",
       "      <th>1572</th>\n",
       "      <td>1</td>\n",
       "      <td>BoIsotrooper, a GIobo de.ve mais de um biIhão...</td>\n",
       "      <td>boisotrooper, a giobo de.ve mais de um biihão...</td>\n",
       "      <td>boisotrooper, a giobo de.ve mais de um biihão ...</td>\n",
       "    </tr>\n",
       "    <tr>\n",
       "      <th>1573</th>\n",
       "      <td>1</td>\n",
       "      <td>Tá aí consumidores de drogas essa guerra é po...</td>\n",
       "      <td>tá aí consumidores de drogas essa guerra é po...</td>\n",
       "      <td>tá aí consumidores de drogas essa guerra é por...</td>\n",
       "    </tr>\n",
       "  </tbody>\n",
       "</table>\n",
       "<p>1273 rows × 4 columns</p>\n",
       "</div>"
      ],
      "text/plain": [
       "      toxico                                         comentario  \\\n",
       "0          0   Basta o imposto retornar ao povo em serviços,...   \n",
       "1          0   Prezado. No caso, usa-se o verbo no infinitivo.    \n",
       "2          0   A manchete deveria ser: 62% aprovam o governo...   \n",
       "3          0   Guerra de bandidos,  cade  os grupos de  dire...   \n",
       "4          0   Quem tá mentindo? O Sr das armas ou o tiro na...   \n",
       "...      ...                                                ...   \n",
       "1566       1                                      Cara chato !    \n",
       "1567       1                                 Fala M não vai...    \n",
       "1570       1   Eu agora vou dormir!!!  Mas vocês não podem!!...   \n",
       "1572       1   BoIsotrooper, a GIobo de.ve mais de um biIhão...   \n",
       "1573       1   Tá aí consumidores de drogas essa guerra é po...   \n",
       "\n",
       "                                              minusculo  \\\n",
       "0      basta o imposto retornar ao povo em serviços,...   \n",
       "1      prezado. no caso, usa-se o verbo no infinitivo.    \n",
       "2      a manchete deveria ser: 62% aprovam o governo...   \n",
       "3      guerra de bandidos,  cade  os grupos de  dire...   \n",
       "4      quem tá mentindo? o sr das armas ou o tiro na...   \n",
       "...                                                 ...   \n",
       "1566                                      cara chato !    \n",
       "1567                                 fala m não vai...    \n",
       "1570   eu agora vou dormir!!!  mas vocês não podem!!...   \n",
       "1572   boisotrooper, a giobo de.ve mais de um biihão...   \n",
       "1573   tá aí consumidores de drogas essa guerra é po...   \n",
       "\n",
       "                                        whitespacesnone  \n",
       "0     basta o imposto retornar ao povo em serviços, ...  \n",
       "1       prezado. no caso, usa-se o verbo no infinitivo.  \n",
       "2     a manchete deveria ser: 62% aprovam o governo ...  \n",
       "3     guerra de bandidos,  cade  os grupos de  direi...  \n",
       "4     quem tá mentindo? o sr das armas ou o tiro na ...  \n",
       "...                                                 ...  \n",
       "1566                                       cara chato !  \n",
       "1567                                  fala m não vai...  \n",
       "1570  eu agora vou dormir!!!  mas vocês não podem!!!...  \n",
       "1572  boisotrooper, a giobo de.ve mais de um biihão ...  \n",
       "1573  tá aí consumidores de drogas essa guerra é por...  \n",
       "\n",
       "[1273 rows x 4 columns]"
      ]
     },
     "execution_count": 11,
     "metadata": {},
     "output_type": "execute_result"
    }
   ],
   "source": [
    "# Remove espaços em brancos das strings\n",
    "comentarios_df['whitespacesnone'] = [comentario.strip() for comentario in comentarios_df['minusculo']] # unidecode\n",
    "\n",
    "comentarios_df"
   ]
  },
  {
   "cell_type": "code",
   "execution_count": 12,
   "metadata": {},
   "outputs": [],
   "source": [
    "# Remove acentuação\n",
    "comentarios_df['unidecode'] = [unidecode.unidecode(comentario) for comentario in comentarios_df['whitespacesnone']]"
   ]
  },
  {
   "cell_type": "code",
   "execution_count": 13,
   "metadata": {
    "scrolled": true
   },
   "outputs": [
    {
     "data": {
      "text/html": [
       "<div>\n",
       "<style scoped>\n",
       "    .dataframe tbody tr th:only-of-type {\n",
       "        vertical-align: middle;\n",
       "    }\n",
       "\n",
       "    .dataframe tbody tr th {\n",
       "        vertical-align: top;\n",
       "    }\n",
       "\n",
       "    .dataframe thead th {\n",
       "        text-align: right;\n",
       "    }\n",
       "</style>\n",
       "<table border=\"1\" class=\"dataframe\">\n",
       "  <thead>\n",
       "    <tr style=\"text-align: right;\">\n",
       "      <th></th>\n",
       "      <th>toxico</th>\n",
       "      <th>comentario</th>\n",
       "      <th>minusculo</th>\n",
       "      <th>whitespacesnone</th>\n",
       "      <th>unidecode</th>\n",
       "      <th>comentario_final_su</th>\n",
       "    </tr>\n",
       "  </thead>\n",
       "  <tbody>\n",
       "    <tr>\n",
       "      <th>0</th>\n",
       "      <td>0</td>\n",
       "      <td>Basta o imposto retornar ao povo em serviços,...</td>\n",
       "      <td>basta o imposto retornar ao povo em serviços,...</td>\n",
       "      <td>basta o imposto retornar ao povo em serviços, ...</td>\n",
       "      <td>basta o imposto retornar ao povo em servicos, ...</td>\n",
       "      <td>basta o imposto retornar a o serviços saúde ed...</td>\n",
       "    </tr>\n",
       "    <tr>\n",
       "      <th>1</th>\n",
       "      <td>0</td>\n",
       "      <td>Prezado. No caso, usa-se o verbo no infinitivo.</td>\n",
       "      <td>prezado. no caso, usa-se o verbo no infinitivo.</td>\n",
       "      <td>prezado. no caso, usa-se o verbo no infinitivo.</td>\n",
       "      <td>prezado. no caso, usa-se o verbo no infinitivo.</td>\n",
       "      <td>prezado caso usa-se o verbo infinitivo</td>\n",
       "    </tr>\n",
       "    <tr>\n",
       "      <th>2</th>\n",
       "      <td>0</td>\n",
       "      <td>A manchete deveria ser: 62% aprovam o governo...</td>\n",
       "      <td>a manchete deveria ser: 62% aprovam o governo...</td>\n",
       "      <td>a manchete deveria ser: 62% aprovam o governo ...</td>\n",
       "      <td>a manchete deveria ser: 62% aprovam o governo ...</td>\n",
       "      <td>a manchete deveria aprovam o governo ótimo reg...</td>\n",
       "    </tr>\n",
       "    <tr>\n",
       "      <th>3</th>\n",
       "      <td>0</td>\n",
       "      <td>Guerra de bandidos,  cade  os grupos de  dire...</td>\n",
       "      <td>guerra de bandidos,  cade  os grupos de  dire...</td>\n",
       "      <td>guerra de bandidos,  cade  os grupos de  direi...</td>\n",
       "      <td>guerra de bandidos,  cade  os grupos de  direi...</td>\n",
       "      <td>guerra bandidos   cade   grupos   direitos   h...</td>\n",
       "    </tr>\n",
       "    <tr>\n",
       "      <th>4</th>\n",
       "      <td>0</td>\n",
       "      <td>Quem tá mentindo? O Sr das armas ou o tiro na...</td>\n",
       "      <td>quem tá mentindo? o sr das armas ou o tiro na...</td>\n",
       "      <td>quem tá mentindo? o sr das armas ou o tiro na ...</td>\n",
       "      <td>quem ta mentindo? o sr das armas ou o tiro na ...</td>\n",
       "      <td>tá mentindo o sr armas o tiro cabecinha verdad...</td>\n",
       "    </tr>\n",
       "    <tr>\n",
       "      <th>...</th>\n",
       "      <td>...</td>\n",
       "      <td>...</td>\n",
       "      <td>...</td>\n",
       "      <td>...</td>\n",
       "      <td>...</td>\n",
       "      <td>...</td>\n",
       "    </tr>\n",
       "    <tr>\n",
       "      <th>1566</th>\n",
       "      <td>1</td>\n",
       "      <td>Cara chato !</td>\n",
       "      <td>cara chato !</td>\n",
       "      <td>cara chato !</td>\n",
       "      <td>cara chato !</td>\n",
       "      <td>cara chato</td>\n",
       "    </tr>\n",
       "    <tr>\n",
       "      <th>1567</th>\n",
       "      <td>1</td>\n",
       "      <td>Fala M não vai...</td>\n",
       "      <td>fala m não vai...</td>\n",
       "      <td>fala m não vai...</td>\n",
       "      <td>fala m nao vai...</td>\n",
       "      <td>fala m ...</td>\n",
       "    </tr>\n",
       "    <tr>\n",
       "      <th>1570</th>\n",
       "      <td>1</td>\n",
       "      <td>Eu agora vou dormir!!!  Mas vocês não podem!!...</td>\n",
       "      <td>eu agora vou dormir!!!  mas vocês não podem!!...</td>\n",
       "      <td>eu agora vou dormir!!!  mas vocês não podem!!!...</td>\n",
       "      <td>eu agora vou dormir!!!  mas voces nao podem!!!...</td>\n",
       "      <td>vou dormir      o plantão completo senão o dindin</td>\n",
       "    </tr>\n",
       "    <tr>\n",
       "      <th>1572</th>\n",
       "      <td>1</td>\n",
       "      <td>BoIsotrooper, a GIobo de.ve mais de um biIhão...</td>\n",
       "      <td>boisotrooper, a giobo de.ve mais de um biihão...</td>\n",
       "      <td>boisotrooper, a giobo de.ve mais de um biihão ...</td>\n",
       "      <td>boisotrooper, a giobo de.ve mais de um biihao ...</td>\n",
       "      <td>boisotrooper a giobo de.ve biihão o flsc0 e co...</td>\n",
       "    </tr>\n",
       "    <tr>\n",
       "      <th>1573</th>\n",
       "      <td>1</td>\n",
       "      <td>Tá aí consumidores de drogas essa guerra é po...</td>\n",
       "      <td>tá aí consumidores de drogas essa guerra é po...</td>\n",
       "      <td>tá aí consumidores de drogas essa guerra é por...</td>\n",
       "      <td>ta ai consumidores de drogas essa guerra e por...</td>\n",
       "      <td>tá consumidores drogas guerra vcs kd o freixo ...</td>\n",
       "    </tr>\n",
       "  </tbody>\n",
       "</table>\n",
       "<p>1273 rows × 6 columns</p>\n",
       "</div>"
      ],
      "text/plain": [
       "      toxico                                         comentario  \\\n",
       "0          0   Basta o imposto retornar ao povo em serviços,...   \n",
       "1          0   Prezado. No caso, usa-se o verbo no infinitivo.    \n",
       "2          0   A manchete deveria ser: 62% aprovam o governo...   \n",
       "3          0   Guerra de bandidos,  cade  os grupos de  dire...   \n",
       "4          0   Quem tá mentindo? O Sr das armas ou o tiro na...   \n",
       "...      ...                                                ...   \n",
       "1566       1                                      Cara chato !    \n",
       "1567       1                                 Fala M não vai...    \n",
       "1570       1   Eu agora vou dormir!!!  Mas vocês não podem!!...   \n",
       "1572       1   BoIsotrooper, a GIobo de.ve mais de um biIhão...   \n",
       "1573       1   Tá aí consumidores de drogas essa guerra é po...   \n",
       "\n",
       "                                              minusculo  \\\n",
       "0      basta o imposto retornar ao povo em serviços,...   \n",
       "1      prezado. no caso, usa-se o verbo no infinitivo.    \n",
       "2      a manchete deveria ser: 62% aprovam o governo...   \n",
       "3      guerra de bandidos,  cade  os grupos de  dire...   \n",
       "4      quem tá mentindo? o sr das armas ou o tiro na...   \n",
       "...                                                 ...   \n",
       "1566                                      cara chato !    \n",
       "1567                                 fala m não vai...    \n",
       "1570   eu agora vou dormir!!!  mas vocês não podem!!...   \n",
       "1572   boisotrooper, a giobo de.ve mais de um biihão...   \n",
       "1573   tá aí consumidores de drogas essa guerra é po...   \n",
       "\n",
       "                                        whitespacesnone  \\\n",
       "0     basta o imposto retornar ao povo em serviços, ...   \n",
       "1       prezado. no caso, usa-se o verbo no infinitivo.   \n",
       "2     a manchete deveria ser: 62% aprovam o governo ...   \n",
       "3     guerra de bandidos,  cade  os grupos de  direi...   \n",
       "4     quem tá mentindo? o sr das armas ou o tiro na ...   \n",
       "...                                                 ...   \n",
       "1566                                       cara chato !   \n",
       "1567                                  fala m não vai...   \n",
       "1570  eu agora vou dormir!!!  mas vocês não podem!!!...   \n",
       "1572  boisotrooper, a giobo de.ve mais de um biihão ...   \n",
       "1573  tá aí consumidores de drogas essa guerra é por...   \n",
       "\n",
       "                                              unidecode  \\\n",
       "0     basta o imposto retornar ao povo em servicos, ...   \n",
       "1       prezado. no caso, usa-se o verbo no infinitivo.   \n",
       "2     a manchete deveria ser: 62% aprovam o governo ...   \n",
       "3     guerra de bandidos,  cade  os grupos de  direi...   \n",
       "4     quem ta mentindo? o sr das armas ou o tiro na ...   \n",
       "...                                                 ...   \n",
       "1566                                       cara chato !   \n",
       "1567                                  fala m nao vai...   \n",
       "1570  eu agora vou dormir!!!  mas voces nao podem!!!...   \n",
       "1572  boisotrooper, a giobo de.ve mais de um biihao ...   \n",
       "1573  ta ai consumidores de drogas essa guerra e por...   \n",
       "\n",
       "                                    comentario_final_su  \n",
       "0     basta o imposto retornar a o serviços saúde ed...  \n",
       "1                prezado caso usa-se o verbo infinitivo  \n",
       "2     a manchete deveria aprovam o governo ótimo reg...  \n",
       "3     guerra bandidos   cade   grupos   direitos   h...  \n",
       "4     tá mentindo o sr armas o tiro cabecinha verdad...  \n",
       "...                                                 ...  \n",
       "1566                                         cara chato  \n",
       "1567                                         fala m ...  \n",
       "1570  vou dormir      o plantão completo senão o dindin  \n",
       "1572  boisotrooper a giobo de.ve biihão o flsc0 e co...  \n",
       "1573  tá consumidores drogas guerra vcs kd o freixo ...  \n",
       "\n",
       "[1273 rows x 6 columns]"
      ]
     },
     "execution_count": 13,
     "metadata": {},
     "output_type": "execute_result"
    }
   ],
   "source": [
    "# Remove pontuação, stopwords, números soltos e gera os tokens SEM UNIDECODE\n",
    "pontuacoes = list(punctuation)\n",
    "novo_comentario = []\n",
    "stop_word = list(nlp.Defaults.stop_words) \n",
    "\n",
    "for comentario in comentarios_df['whitespacesnone']:\n",
    "    doc = nlp(comentario)\n",
    "    c = ' '.join([token.text for token in doc if token.text not in pontuacoes and token.text not in stop_word and not token.text.isdigit()])\n",
    "    novo_comentario.append(c)\n",
    "    \n",
    "comentarios_df['comentario_final_su'] = novo_comentario\n",
    "comentarios_df"
   ]
  },
  {
   "cell_type": "code",
   "execution_count": 14,
   "metadata": {},
   "outputs": [
    {
     "data": {
      "text/html": [
       "<div>\n",
       "<style scoped>\n",
       "    .dataframe tbody tr th:only-of-type {\n",
       "        vertical-align: middle;\n",
       "    }\n",
       "\n",
       "    .dataframe tbody tr th {\n",
       "        vertical-align: top;\n",
       "    }\n",
       "\n",
       "    .dataframe thead th {\n",
       "        text-align: right;\n",
       "    }\n",
       "</style>\n",
       "<table border=\"1\" class=\"dataframe\">\n",
       "  <thead>\n",
       "    <tr style=\"text-align: right;\">\n",
       "      <th></th>\n",
       "      <th>toxico</th>\n",
       "      <th>comentario</th>\n",
       "      <th>minusculo</th>\n",
       "      <th>whitespacesnone</th>\n",
       "      <th>unidecode</th>\n",
       "      <th>comentario_final_su</th>\n",
       "      <th>comentario_final_wu</th>\n",
       "    </tr>\n",
       "  </thead>\n",
       "  <tbody>\n",
       "    <tr>\n",
       "      <th>0</th>\n",
       "      <td>0</td>\n",
       "      <td>Basta o imposto retornar ao povo em serviços,...</td>\n",
       "      <td>basta o imposto retornar ao povo em serviços,...</td>\n",
       "      <td>basta o imposto retornar ao povo em serviços, ...</td>\n",
       "      <td>basta o imposto retornar ao povo em servicos, ...</td>\n",
       "      <td>basta o imposto retornar a o serviços saúde ed...</td>\n",
       "      <td>basta o imposto retornar a o servicos saude ed...</td>\n",
       "    </tr>\n",
       "    <tr>\n",
       "      <th>1</th>\n",
       "      <td>0</td>\n",
       "      <td>Prezado. No caso, usa-se o verbo no infinitivo.</td>\n",
       "      <td>prezado. no caso, usa-se o verbo no infinitivo.</td>\n",
       "      <td>prezado. no caso, usa-se o verbo no infinitivo.</td>\n",
       "      <td>prezado. no caso, usa-se o verbo no infinitivo.</td>\n",
       "      <td>prezado caso usa-se o verbo infinitivo</td>\n",
       "      <td>prezado caso usa-se o verbo infinitivo</td>\n",
       "    </tr>\n",
       "    <tr>\n",
       "      <th>2</th>\n",
       "      <td>0</td>\n",
       "      <td>A manchete deveria ser: 62% aprovam o governo...</td>\n",
       "      <td>a manchete deveria ser: 62% aprovam o governo...</td>\n",
       "      <td>a manchete deveria ser: 62% aprovam o governo ...</td>\n",
       "      <td>a manchete deveria ser: 62% aprovam o governo ...</td>\n",
       "      <td>a manchete deveria aprovam o governo ótimo reg...</td>\n",
       "      <td>a manchete deveria aprovam o governo otimo reg...</td>\n",
       "    </tr>\n",
       "    <tr>\n",
       "      <th>3</th>\n",
       "      <td>0</td>\n",
       "      <td>Guerra de bandidos,  cade  os grupos de  dire...</td>\n",
       "      <td>guerra de bandidos,  cade  os grupos de  dire...</td>\n",
       "      <td>guerra de bandidos,  cade  os grupos de  direi...</td>\n",
       "      <td>guerra de bandidos,  cade  os grupos de  direi...</td>\n",
       "      <td>guerra bandidos   cade   grupos   direitos   h...</td>\n",
       "      <td>guerra bandidos   cade   grupos   direitos   h...</td>\n",
       "    </tr>\n",
       "    <tr>\n",
       "      <th>4</th>\n",
       "      <td>0</td>\n",
       "      <td>Quem tá mentindo? O Sr das armas ou o tiro na...</td>\n",
       "      <td>quem tá mentindo? o sr das armas ou o tiro na...</td>\n",
       "      <td>quem tá mentindo? o sr das armas ou o tiro na ...</td>\n",
       "      <td>quem ta mentindo? o sr das armas ou o tiro na ...</td>\n",
       "      <td>tá mentindo o sr armas o tiro cabecinha verdad...</td>\n",
       "      <td>ta mentindo o sr armas o tiro cabecinha verdad...</td>\n",
       "    </tr>\n",
       "    <tr>\n",
       "      <th>...</th>\n",
       "      <td>...</td>\n",
       "      <td>...</td>\n",
       "      <td>...</td>\n",
       "      <td>...</td>\n",
       "      <td>...</td>\n",
       "      <td>...</td>\n",
       "      <td>...</td>\n",
       "    </tr>\n",
       "    <tr>\n",
       "      <th>1566</th>\n",
       "      <td>1</td>\n",
       "      <td>Cara chato !</td>\n",
       "      <td>cara chato !</td>\n",
       "      <td>cara chato !</td>\n",
       "      <td>cara chato !</td>\n",
       "      <td>cara chato</td>\n",
       "      <td>cara chato</td>\n",
       "    </tr>\n",
       "    <tr>\n",
       "      <th>1567</th>\n",
       "      <td>1</td>\n",
       "      <td>Fala M não vai...</td>\n",
       "      <td>fala m não vai...</td>\n",
       "      <td>fala m não vai...</td>\n",
       "      <td>fala m nao vai...</td>\n",
       "      <td>fala m ...</td>\n",
       "      <td>fala m nao ...</td>\n",
       "    </tr>\n",
       "    <tr>\n",
       "      <th>1570</th>\n",
       "      <td>1</td>\n",
       "      <td>Eu agora vou dormir!!!  Mas vocês não podem!!...</td>\n",
       "      <td>eu agora vou dormir!!!  mas vocês não podem!!...</td>\n",
       "      <td>eu agora vou dormir!!!  mas vocês não podem!!!...</td>\n",
       "      <td>eu agora vou dormir!!!  mas voces nao podem!!!...</td>\n",
       "      <td>vou dormir      o plantão completo senão o dindin</td>\n",
       "      <td>vou dormir   voces nao    o plantao completo s...</td>\n",
       "    </tr>\n",
       "    <tr>\n",
       "      <th>1572</th>\n",
       "      <td>1</td>\n",
       "      <td>BoIsotrooper, a GIobo de.ve mais de um biIhão...</td>\n",
       "      <td>boisotrooper, a giobo de.ve mais de um biihão...</td>\n",
       "      <td>boisotrooper, a giobo de.ve mais de um biihão ...</td>\n",
       "      <td>boisotrooper, a giobo de.ve mais de um biihao ...</td>\n",
       "      <td>boisotrooper a giobo de.ve biihão o flsc0 e co...</td>\n",
       "      <td>boisotrooper a giobo de.ve biihao o flsc0 e co...</td>\n",
       "    </tr>\n",
       "    <tr>\n",
       "      <th>1573</th>\n",
       "      <td>1</td>\n",
       "      <td>Tá aí consumidores de drogas essa guerra é po...</td>\n",
       "      <td>tá aí consumidores de drogas essa guerra é po...</td>\n",
       "      <td>tá aí consumidores de drogas essa guerra é por...</td>\n",
       "      <td>ta ai consumidores de drogas essa guerra e por...</td>\n",
       "      <td>tá consumidores drogas guerra vcs kd o freixo ...</td>\n",
       "      <td>ta ai consumidores drogas guerra e vcs kd o fr...</td>\n",
       "    </tr>\n",
       "  </tbody>\n",
       "</table>\n",
       "<p>1273 rows × 7 columns</p>\n",
       "</div>"
      ],
      "text/plain": [
       "      toxico                                         comentario  \\\n",
       "0          0   Basta o imposto retornar ao povo em serviços,...   \n",
       "1          0   Prezado. No caso, usa-se o verbo no infinitivo.    \n",
       "2          0   A manchete deveria ser: 62% aprovam o governo...   \n",
       "3          0   Guerra de bandidos,  cade  os grupos de  dire...   \n",
       "4          0   Quem tá mentindo? O Sr das armas ou o tiro na...   \n",
       "...      ...                                                ...   \n",
       "1566       1                                      Cara chato !    \n",
       "1567       1                                 Fala M não vai...    \n",
       "1570       1   Eu agora vou dormir!!!  Mas vocês não podem!!...   \n",
       "1572       1   BoIsotrooper, a GIobo de.ve mais de um biIhão...   \n",
       "1573       1   Tá aí consumidores de drogas essa guerra é po...   \n",
       "\n",
       "                                              minusculo  \\\n",
       "0      basta o imposto retornar ao povo em serviços,...   \n",
       "1      prezado. no caso, usa-se o verbo no infinitivo.    \n",
       "2      a manchete deveria ser: 62% aprovam o governo...   \n",
       "3      guerra de bandidos,  cade  os grupos de  dire...   \n",
       "4      quem tá mentindo? o sr das armas ou o tiro na...   \n",
       "...                                                 ...   \n",
       "1566                                      cara chato !    \n",
       "1567                                 fala m não vai...    \n",
       "1570   eu agora vou dormir!!!  mas vocês não podem!!...   \n",
       "1572   boisotrooper, a giobo de.ve mais de um biihão...   \n",
       "1573   tá aí consumidores de drogas essa guerra é po...   \n",
       "\n",
       "                                        whitespacesnone  \\\n",
       "0     basta o imposto retornar ao povo em serviços, ...   \n",
       "1       prezado. no caso, usa-se o verbo no infinitivo.   \n",
       "2     a manchete deveria ser: 62% aprovam o governo ...   \n",
       "3     guerra de bandidos,  cade  os grupos de  direi...   \n",
       "4     quem tá mentindo? o sr das armas ou o tiro na ...   \n",
       "...                                                 ...   \n",
       "1566                                       cara chato !   \n",
       "1567                                  fala m não vai...   \n",
       "1570  eu agora vou dormir!!!  mas vocês não podem!!!...   \n",
       "1572  boisotrooper, a giobo de.ve mais de um biihão ...   \n",
       "1573  tá aí consumidores de drogas essa guerra é por...   \n",
       "\n",
       "                                              unidecode  \\\n",
       "0     basta o imposto retornar ao povo em servicos, ...   \n",
       "1       prezado. no caso, usa-se o verbo no infinitivo.   \n",
       "2     a manchete deveria ser: 62% aprovam o governo ...   \n",
       "3     guerra de bandidos,  cade  os grupos de  direi...   \n",
       "4     quem ta mentindo? o sr das armas ou o tiro na ...   \n",
       "...                                                 ...   \n",
       "1566                                       cara chato !   \n",
       "1567                                  fala m nao vai...   \n",
       "1570  eu agora vou dormir!!!  mas voces nao podem!!!...   \n",
       "1572  boisotrooper, a giobo de.ve mais de um biihao ...   \n",
       "1573  ta ai consumidores de drogas essa guerra e por...   \n",
       "\n",
       "                                    comentario_final_su  \\\n",
       "0     basta o imposto retornar a o serviços saúde ed...   \n",
       "1                prezado caso usa-se o verbo infinitivo   \n",
       "2     a manchete deveria aprovam o governo ótimo reg...   \n",
       "3     guerra bandidos   cade   grupos   direitos   h...   \n",
       "4     tá mentindo o sr armas o tiro cabecinha verdad...   \n",
       "...                                                 ...   \n",
       "1566                                         cara chato   \n",
       "1567                                         fala m ...   \n",
       "1570  vou dormir      o plantão completo senão o dindin   \n",
       "1572  boisotrooper a giobo de.ve biihão o flsc0 e co...   \n",
       "1573  tá consumidores drogas guerra vcs kd o freixo ...   \n",
       "\n",
       "                                    comentario_final_wu  \n",
       "0     basta o imposto retornar a o servicos saude ed...  \n",
       "1                prezado caso usa-se o verbo infinitivo  \n",
       "2     a manchete deveria aprovam o governo otimo reg...  \n",
       "3     guerra bandidos   cade   grupos   direitos   h...  \n",
       "4     ta mentindo o sr armas o tiro cabecinha verdad...  \n",
       "...                                                 ...  \n",
       "1566                                         cara chato  \n",
       "1567                                     fala m nao ...  \n",
       "1570  vou dormir   voces nao    o plantao completo s...  \n",
       "1572  boisotrooper a giobo de.ve biihao o flsc0 e co...  \n",
       "1573  ta ai consumidores drogas guerra e vcs kd o fr...  \n",
       "\n",
       "[1273 rows x 7 columns]"
      ]
     },
     "execution_count": 14,
     "metadata": {},
     "output_type": "execute_result"
    }
   ],
   "source": [
    "# Remove pontuação, stopwords, números soltos e gera os tokens COM UNIDECODE\n",
    "pontuacoes = list(punctuation)\n",
    "novo_comentario = []\n",
    "stop_word = list(nlp.Defaults.stop_words) \n",
    "\n",
    "for comentario in comentarios_df['unidecode']:\n",
    "    doc = nlp(comentario)\n",
    "    c = ' '.join([token.text for token in doc if token.text not in pontuacoes and token.text not in stop_word and not token.text.isdigit()])\n",
    "    novo_comentario.append(c)\n",
    "    \n",
    "comentarios_df['comentario_final_wu'] = novo_comentario\n",
    "comentarios_df"
   ]
  },
  {
   "cell_type": "code",
   "execution_count": 15,
   "metadata": {
    "scrolled": true
   },
   "outputs": [
    {
     "data": {
      "text/html": [
       "<div>\n",
       "<style scoped>\n",
       "    .dataframe tbody tr th:only-of-type {\n",
       "        vertical-align: middle;\n",
       "    }\n",
       "\n",
       "    .dataframe tbody tr th {\n",
       "        vertical-align: top;\n",
       "    }\n",
       "\n",
       "    .dataframe thead th {\n",
       "        text-align: right;\n",
       "    }\n",
       "</style>\n",
       "<table border=\"1\" class=\"dataframe\">\n",
       "  <thead>\n",
       "    <tr style=\"text-align: right;\">\n",
       "      <th></th>\n",
       "      <th>toxico</th>\n",
       "      <th>comentario</th>\n",
       "      <th>minusculo</th>\n",
       "      <th>whitespacesnone</th>\n",
       "      <th>unidecode</th>\n",
       "      <th>comentario_final_su</th>\n",
       "      <th>comentario_final_wu</th>\n",
       "    </tr>\n",
       "  </thead>\n",
       "  <tbody>\n",
       "    <tr>\n",
       "      <th>0</th>\n",
       "      <td>1</td>\n",
       "      <td>Tem algo errado.Como os procuradores chegaram...</td>\n",
       "      <td>tem algo errado.como os procuradores chegaram...</td>\n",
       "      <td>tem algo errado.como os procuradores chegaram ...</td>\n",
       "      <td>tem algo errado.como os procuradores chegaram ...</td>\n",
       "      <td>errado.como procuradores chegaram a o stf?como...</td>\n",
       "      <td>errado.como procuradores chegaram ate a o stf?...</td>\n",
       "    </tr>\n",
       "    <tr>\n",
       "      <th>1</th>\n",
       "      <td>0</td>\n",
       "      <td>Na quarta parte nova os campos ara, e se mais...</td>\n",
       "      <td>na quarta parte nova os campos ara, e se mais...</td>\n",
       "      <td>na quarta parte nova os campos ara, e se mais ...</td>\n",
       "      <td>na quarta parte nova os campos ara, e se mais ...</td>\n",
       "      <td>campos ara e mundo houvera chegara ...</td>\n",
       "      <td>campos ara e mundo houvera la chegara ...</td>\n",
       "    </tr>\n",
       "    <tr>\n",
       "      <th>2</th>\n",
       "      <td>1</td>\n",
       "      <td>S e u c u!</td>\n",
       "      <td>s e u c u!</td>\n",
       "      <td>s e u c u!</td>\n",
       "      <td>s e u c u!</td>\n",
       "      <td>s e u c u</td>\n",
       "      <td>s e u c u</td>\n",
       "    </tr>\n",
       "    <tr>\n",
       "      <th>3</th>\n",
       "      <td>1</td>\n",
       "      <td>Edison dá uma olhada na sua mulher agora lá n...</td>\n",
       "      <td>edison dá uma olhada na sua mulher agora lá n...</td>\n",
       "      <td>edison dá uma olhada na sua mulher agora lá no...</td>\n",
       "      <td>edison da uma olhada na sua mulher agora la no...</td>\n",
       "      <td>edison olhada mulher acho o presidente tá come...</td>\n",
       "      <td>edison olhada mulher la acho o presidente ta c...</td>\n",
       "    </tr>\n",
       "    <tr>\n",
       "      <th>4</th>\n",
       "      <td>1</td>\n",
       "      <td>Livre da esposa, claro!</td>\n",
       "      <td>livre da esposa, claro!</td>\n",
       "      <td>livre da esposa, claro!</td>\n",
       "      <td>livre da esposa, claro!</td>\n",
       "      <td>livre esposa claro</td>\n",
       "      <td>livre esposa claro</td>\n",
       "    </tr>\n",
       "    <tr>\n",
       "      <th>...</th>\n",
       "      <td>...</td>\n",
       "      <td>...</td>\n",
       "      <td>...</td>\n",
       "      <td>...</td>\n",
       "      <td>...</td>\n",
       "      <td>...</td>\n",
       "      <td>...</td>\n",
       "    </tr>\n",
       "    <tr>\n",
       "      <th>1268</th>\n",
       "      <td>0</td>\n",
       "      <td>Sujou, de verdade!!!</td>\n",
       "      <td>sujou, de verdade!!!</td>\n",
       "      <td>sujou, de verdade!!!</td>\n",
       "      <td>sujou, de verdade!!!</td>\n",
       "      <td>sujou verdade</td>\n",
       "      <td>sujou verdade</td>\n",
       "    </tr>\n",
       "    <tr>\n",
       "      <th>1269</th>\n",
       "      <td>1</td>\n",
       "      <td>Obama ama Bo... Safadinho!</td>\n",
       "      <td>obama ama bo... safadinho!</td>\n",
       "      <td>obama ama bo... safadinho!</td>\n",
       "      <td>obama ama bo... safadinho!</td>\n",
       "      <td>obama ama bo ... safadinho</td>\n",
       "      <td>obama ama bo ... safadinho</td>\n",
       "    </tr>\n",
       "    <tr>\n",
       "      <th>1270</th>\n",
       "      <td>1</td>\n",
       "      <td>Onde tem mais corrupção e lavagem de dinheiro...</td>\n",
       "      <td>onde tem mais corrupção e lavagem de dinheiro...</td>\n",
       "      <td>onde tem mais corrupção e lavagem de dinheiro ...</td>\n",
       "      <td>onde tem mais corrupcao e lavagem de dinheiro ...</td>\n",
       "      <td>corrupção e lavagem dinheiro empresas a petrob...</td>\n",
       "      <td>corrupcao e lavagem dinheiro sao empresas sao ...</td>\n",
       "    </tr>\n",
       "    <tr>\n",
       "      <th>1271</th>\n",
       "      <td>0</td>\n",
       "      <td>Kkkkkkk rindo até 2022.</td>\n",
       "      <td>kkkkkkk rindo até 2022.</td>\n",
       "      <td>kkkkkkk rindo até 2022.</td>\n",
       "      <td>kkkkkkk rindo ate 2022.</td>\n",
       "      <td>kkkkkkk rindo</td>\n",
       "      <td>kkkkkkk rindo ate</td>\n",
       "    </tr>\n",
       "    <tr>\n",
       "      <th>1272</th>\n",
       "      <td>0</td>\n",
       "      <td>Temos que livrar o Brasil de mais esse pesade...</td>\n",
       "      <td>temos que livrar o brasil de mais esse pesade...</td>\n",
       "      <td>temos que livrar o brasil de mais esse pesadel...</td>\n",
       "      <td>temos que livrar o brasil de mais esse pesadel...</td>\n",
       "      <td>livrar o brasil pesadelo cadê o ruas</td>\n",
       "      <td>livrar o brasil pesadelo cade o ruas</td>\n",
       "    </tr>\n",
       "  </tbody>\n",
       "</table>\n",
       "<p>1273 rows × 7 columns</p>\n",
       "</div>"
      ],
      "text/plain": [
       "      toxico                                         comentario  \\\n",
       "0          1   Tem algo errado.Como os procuradores chegaram...   \n",
       "1          0   Na quarta parte nova os campos ara, e se mais...   \n",
       "2          1                                        S e u c u!    \n",
       "3          1   Edison dá uma olhada na sua mulher agora lá n...   \n",
       "4          1                           Livre da esposa, claro!    \n",
       "...      ...                                                ...   \n",
       "1268       0                              Sujou, de verdade!!!    \n",
       "1269       1                        Obama ama Bo... Safadinho!    \n",
       "1270       1   Onde tem mais corrupção e lavagem de dinheiro...   \n",
       "1271       0                           Kkkkkkk rindo até 2022.    \n",
       "1272       0   Temos que livrar o Brasil de mais esse pesade...   \n",
       "\n",
       "                                              minusculo  \\\n",
       "0      tem algo errado.como os procuradores chegaram...   \n",
       "1      na quarta parte nova os campos ara, e se mais...   \n",
       "2                                           s e u c u!    \n",
       "3      edison dá uma olhada na sua mulher agora lá n...   \n",
       "4                              livre da esposa, claro!    \n",
       "...                                                 ...   \n",
       "1268                              sujou, de verdade!!!    \n",
       "1269                        obama ama bo... safadinho!    \n",
       "1270   onde tem mais corrupção e lavagem de dinheiro...   \n",
       "1271                           kkkkkkk rindo até 2022.    \n",
       "1272   temos que livrar o brasil de mais esse pesade...   \n",
       "\n",
       "                                        whitespacesnone  \\\n",
       "0     tem algo errado.como os procuradores chegaram ...   \n",
       "1     na quarta parte nova os campos ara, e se mais ...   \n",
       "2                                            s e u c u!   \n",
       "3     edison dá uma olhada na sua mulher agora lá no...   \n",
       "4                               livre da esposa, claro!   \n",
       "...                                                 ...   \n",
       "1268                               sujou, de verdade!!!   \n",
       "1269                         obama ama bo... safadinho!   \n",
       "1270  onde tem mais corrupção e lavagem de dinheiro ...   \n",
       "1271                            kkkkkkk rindo até 2022.   \n",
       "1272  temos que livrar o brasil de mais esse pesadel...   \n",
       "\n",
       "                                              unidecode  \\\n",
       "0     tem algo errado.como os procuradores chegaram ...   \n",
       "1     na quarta parte nova os campos ara, e se mais ...   \n",
       "2                                            s e u c u!   \n",
       "3     edison da uma olhada na sua mulher agora la no...   \n",
       "4                               livre da esposa, claro!   \n",
       "...                                                 ...   \n",
       "1268                               sujou, de verdade!!!   \n",
       "1269                         obama ama bo... safadinho!   \n",
       "1270  onde tem mais corrupcao e lavagem de dinheiro ...   \n",
       "1271                            kkkkkkk rindo ate 2022.   \n",
       "1272  temos que livrar o brasil de mais esse pesadel...   \n",
       "\n",
       "                                    comentario_final_su  \\\n",
       "0     errado.como procuradores chegaram a o stf?como...   \n",
       "1                campos ara e mundo houvera chegara ...   \n",
       "2                                             s e u c u   \n",
       "3     edison olhada mulher acho o presidente tá come...   \n",
       "4                                    livre esposa claro   \n",
       "...                                                 ...   \n",
       "1268                                      sujou verdade   \n",
       "1269                         obama ama bo ... safadinho   \n",
       "1270  corrupção e lavagem dinheiro empresas a petrob...   \n",
       "1271                                      kkkkkkk rindo   \n",
       "1272               livrar o brasil pesadelo cadê o ruas   \n",
       "\n",
       "                                    comentario_final_wu  \n",
       "0     errado.como procuradores chegaram ate a o stf?...  \n",
       "1             campos ara e mundo houvera la chegara ...  \n",
       "2                                             s e u c u  \n",
       "3     edison olhada mulher la acho o presidente ta c...  \n",
       "4                                    livre esposa claro  \n",
       "...                                                 ...  \n",
       "1268                                      sujou verdade  \n",
       "1269                         obama ama bo ... safadinho  \n",
       "1270  corrupcao e lavagem dinheiro sao empresas sao ...  \n",
       "1271                                  kkkkkkk rindo ate  \n",
       "1272               livrar o brasil pesadelo cade o ruas  \n",
       "\n",
       "[1273 rows x 7 columns]"
      ]
     },
     "execution_count": 15,
     "metadata": {},
     "output_type": "execute_result"
    }
   ],
   "source": [
    "# Mistura os dados que estão no DataFrame para não ter vicio\n",
    "comentarios_df = comentarios_df.sample(frac=1).reset_index(drop=True)\n",
    "comentarios_df"
   ]
  },
  {
   "cell_type": "code",
   "execution_count": 16,
   "metadata": {},
   "outputs": [],
   "source": [
    "# Transforma tóxico em int\n",
    "comentarios_df[\"toxico\"] = pd.to_numeric(comentarios_df[\"toxico\"])"
   ]
  },
  {
   "cell_type": "code",
   "execution_count": 17,
   "metadata": {},
   "outputs": [],
   "source": [
    "# Gera um Json com o dataframe com tratamento \n",
    "with open('comentarios_df.json', 'w', encoding='utf-8') as file:\n",
    "    comentarios_df.to_json(file, force_ascii=False, orient='index')"
   ]
  },
  {
   "cell_type": "markdown",
   "metadata": {},
   "source": [
    "### Palavras frequentes e visualização"
   ]
  },
  {
   "cell_type": "code",
   "execution_count": 18,
   "metadata": {},
   "outputs": [
    {
     "data": {
      "text/html": [
       "<div>\n",
       "<style scoped>\n",
       "    .dataframe tbody tr th:only-of-type {\n",
       "        vertical-align: middle;\n",
       "    }\n",
       "\n",
       "    .dataframe tbody tr th {\n",
       "        vertical-align: top;\n",
       "    }\n",
       "\n",
       "    .dataframe thead th {\n",
       "        text-align: right;\n",
       "    }\n",
       "</style>\n",
       "<table border=\"1\" class=\"dataframe\">\n",
       "  <thead>\n",
       "    <tr style=\"text-align: right;\">\n",
       "      <th></th>\n",
       "      <th>Palavras</th>\n",
       "      <th>Frequencia</th>\n",
       "    </tr>\n",
       "  </thead>\n",
       "  <tbody>\n",
       "    <tr>\n",
       "      <th>0</th>\n",
       "      <td>errado.como</td>\n",
       "      <td>1</td>\n",
       "    </tr>\n",
       "    <tr>\n",
       "      <th>1</th>\n",
       "      <td>procuradores</td>\n",
       "      <td>1</td>\n",
       "    </tr>\n",
       "    <tr>\n",
       "      <th>2</th>\n",
       "      <td>chegaram</td>\n",
       "      <td>2</td>\n",
       "    </tr>\n",
       "    <tr>\n",
       "      <th>3</th>\n",
       "      <td>ate</td>\n",
       "      <td>49</td>\n",
       "    </tr>\n",
       "    <tr>\n",
       "      <th>4</th>\n",
       "      <td>a</td>\n",
       "      <td>755</td>\n",
       "    </tr>\n",
       "    <tr>\n",
       "      <th>...</th>\n",
       "      <td>...</td>\n",
       "      <td>...</td>\n",
       "    </tr>\n",
       "    <tr>\n",
       "      <th>5343</th>\n",
       "      <td>adulterado</td>\n",
       "      <td>1</td>\n",
       "    </tr>\n",
       "    <tr>\n",
       "      <th>5344</th>\n",
       "      <td>saio</td>\n",
       "      <td>1</td>\n",
       "    </tr>\n",
       "    <tr>\n",
       "      <th>5345</th>\n",
       "      <td>privatize</td>\n",
       "      <td>1</td>\n",
       "    </tr>\n",
       "    <tr>\n",
       "      <th>5346</th>\n",
       "      <td>livrar</td>\n",
       "      <td>1</td>\n",
       "    </tr>\n",
       "    <tr>\n",
       "      <th>5347</th>\n",
       "      <td>pesadelo</td>\n",
       "      <td>1</td>\n",
       "    </tr>\n",
       "  </tbody>\n",
       "</table>\n",
       "<p>5348 rows × 2 columns</p>\n",
       "</div>"
      ],
      "text/plain": [
       "          Palavras  Frequencia\n",
       "0      errado.como           1\n",
       "1     procuradores           1\n",
       "2         chegaram           2\n",
       "3              ate          49\n",
       "4                a         755\n",
       "...            ...         ...\n",
       "5343    adulterado           1\n",
       "5344          saio           1\n",
       "5345     privatize           1\n",
       "5346        livrar           1\n",
       "5347      pesadelo           1\n",
       "\n",
       "[5348 rows x 2 columns]"
      ]
     },
     "execution_count": 18,
     "metadata": {},
     "output_type": "execute_result"
    }
   ],
   "source": [
    "import nltk\n",
    "from nltk import tokenize\n",
    "#nltk.download('stopwords') \n",
    "\n",
    "todas_palavras = ' '.join([texto for texto in comentarios_df['comentario_final_wu']])\n",
    "    \n",
    "tokens = tokenize.WhitespaceTokenizer().tokenize(todas_palavras)\n",
    "\n",
    "frequencia = nltk.FreqDist(tokens)\n",
    "\n",
    "df_frequencia = pd.DataFrame({\"Palavras\": list(frequencia.keys()),\n",
    "                             \"Frequencia\": list(frequencia.values())\n",
    "                            })\n",
    "\n",
    "df_frequencia"
   ]
  },
  {
   "cell_type": "code",
   "execution_count": 19,
   "metadata": {},
   "outputs": [
    {
     "data": {
      "text/html": [
       "<div>\n",
       "<style scoped>\n",
       "    .dataframe tbody tr th:only-of-type {\n",
       "        vertical-align: middle;\n",
       "    }\n",
       "\n",
       "    .dataframe tbody tr th {\n",
       "        vertical-align: top;\n",
       "    }\n",
       "\n",
       "    .dataframe thead th {\n",
       "        text-align: right;\n",
       "    }\n",
       "</style>\n",
       "<table border=\"1\" class=\"dataframe\">\n",
       "  <thead>\n",
       "    <tr style=\"text-align: right;\">\n",
       "      <th></th>\n",
       "      <th>Palavras</th>\n",
       "      <th>Frequencia</th>\n",
       "    </tr>\n",
       "  </thead>\n",
       "  <tbody>\n",
       "    <tr>\n",
       "      <th>22</th>\n",
       "      <td>e</td>\n",
       "      <td>1051</td>\n",
       "    </tr>\n",
       "    <tr>\n",
       "      <th>5</th>\n",
       "      <td>o</td>\n",
       "      <td>1014</td>\n",
       "    </tr>\n",
       "    <tr>\n",
       "      <th>4</th>\n",
       "      <td>a</td>\n",
       "      <td>755</td>\n",
       "    </tr>\n",
       "    <tr>\n",
       "      <th>53</th>\n",
       "      <td>nao</td>\n",
       "      <td>403</td>\n",
       "    </tr>\n",
       "    <tr>\n",
       "      <th>25</th>\n",
       "      <td>...</td>\n",
       "      <td>237</td>\n",
       "    </tr>\n",
       "    <tr>\n",
       "      <th>7</th>\n",
       "      <td>so</td>\n",
       "      <td>135</td>\n",
       "    </tr>\n",
       "    <tr>\n",
       "      <th>172</th>\n",
       "      <td>brasil</td>\n",
       "      <td>121</td>\n",
       "    </tr>\n",
       "    <tr>\n",
       "      <th>194</th>\n",
       "      <td>d</td>\n",
       "      <td>98</td>\n",
       "    </tr>\n",
       "    <tr>\n",
       "      <th>104</th>\n",
       "      <td>pra</td>\n",
       "      <td>96</td>\n",
       "    </tr>\n",
       "    <tr>\n",
       "      <th>19</th>\n",
       "      <td>bozo</td>\n",
       "      <td>86</td>\n",
       "    </tr>\n",
       "  </tbody>\n",
       "</table>\n",
       "</div>"
      ],
      "text/plain": [
       "    Palavras  Frequencia\n",
       "22         e        1051\n",
       "5          o        1014\n",
       "4          a         755\n",
       "53       nao         403\n",
       "25       ...         237\n",
       "7         so         135\n",
       "172   brasil         121\n",
       "194        d          98\n",
       "104      pra          96\n",
       "19      bozo          86"
      ]
     },
     "execution_count": 19,
     "metadata": {},
     "output_type": "execute_result"
    }
   ],
   "source": [
    "df_frequencia.nlargest(columns=['Frequencia'], n=10)"
   ]
  },
  {
   "cell_type": "code",
   "execution_count": 20,
   "metadata": {},
   "outputs": [],
   "source": [
    "# instalação do pacote 'wordcloud':\n",
    "# !pip install wordcloud"
   ]
  },
  {
   "cell_type": "code",
   "execution_count": 21,
   "metadata": {},
   "outputs": [
    {
     "data": {
      "image/png": "[encoded data removed]",
      "text/plain": [
       "<Figure size 720x576 with 1 Axes>"
      ]
     },
     "metadata": {
      "needs_background": "light"
     },
     "output_type": "display_data"
    }
   ],
   "source": [
    "from wordcloud import WordCloud\n",
    "\n",
    "%matplotlib inline\n",
    "\n",
    "word_cloud = WordCloud(height=800, width=600, max_font_size=110,\n",
    "                      collocations=False).generate(todas_palavras)\n",
    "\n",
    "plt.figure(figsize=(10,8))\n",
    "plt.imshow(word_cloud, interpolation='bilinear')\n",
    "plt.axis('off')\n",
    "plt.show()"
   ]
  },
  {
   "cell_type": "markdown",
   "metadata": {},
   "source": [
    "## Começa o treino da ML"
   ]
  },
  {
   "cell_type": "markdown",
   "metadata": {},
   "source": [
    "#### Vai estar separado o treino em base original (em minusculo), base com preprocessamento sem limpeza com unidecode, base com preprocessamento com limpeza de unidecode"
   ]
  },
  {
   "cell_type": "code",
   "execution_count": 22,
   "metadata": {
    "scrolled": false
   },
   "outputs": [],
   "source": [
    "### Criar o bagofwords\n",
    "# base original sem nada\n",
    "vectorizer = CountVectorizer(analyzer='word', lowercase=False)\n",
    "bow = vectorizer.fit_transform(comentarios_df['comentario'])\n",
    "\n",
    "# bow base original\n",
    "vectorizer_lower = CountVectorizer(analyzer='word', lowercase=False)\n",
    "bow_lower = vectorizer_lower.fit_transform(comentarios_df['minusculo'])\n",
    "\n",
    "# bow base original minusculo removendo whitespace\n",
    "vectorizer_spacelower = CountVectorizer(analyzer='word', lowercase=False)\n",
    "bow_spacelower = vectorizer_spacelower.fit_transform(comentarios_df['whitespacesnone'])\n",
    "\n",
    "# bow preprocessamento sem unidecode\n",
    "vectorizer_su = CountVectorizer(analyzer='word', lowercase=False)\n",
    "bow_su = vectorizer_su.fit_transform(comentarios_df['comentario_final_su'])\n",
    "\n",
    "# bow preprocessamento com unidecode\n",
    "vectorizer_wu = CountVectorizer(analyzer='word', lowercase=False)\n",
    "bow_wu = vectorizer_wu.fit_transform(comentarios_df['comentario_final_wu'])"
   ]
  },
  {
   "cell_type": "code",
   "execution_count": 23,
   "metadata": {},
   "outputs": [],
   "source": [
    "### Gerar treino e classe com o train_test_split\n",
    "\n",
    "# treino e classe base original\n",
    "treino, teste, classe_treino, classe_teste = train_test_split(bow,\n",
    "       comentarios_df['toxico'], random_state=42)\n",
    "\n",
    "# treino e classe base original com letras minusculas \n",
    "treino_lower, teste_lower, classe_treino_lower, classe_teste_lower = train_test_split(bow_lower,\n",
    "       comentarios_df['toxico'], random_state=42)\n",
    "\n",
    "# treino e classe base com preprocessamento sem unidecode\n",
    "treino_su, teste_su, classe_treino_su, classe_teste_su = train_test_split(bow_su,\n",
    "       comentarios_df['toxico'], random_state=42)\n",
    "\n",
    "# treino e classe base com preprocessamento com unidecode\n",
    "treino_wu, teste_wu, classe_treino_wu, classe_teste_wu = train_test_split(bow_wu,\n",
    "       comentarios_df['toxico'], random_state=42)"
   ]
  },
  {
   "cell_type": "markdown",
   "metadata": {},
   "source": [
    "### Criação dos modelos e treinamento\n",
    "\n",
    "##### Para cada tipo de modelo foi criado um heatmap de suas matrizes de confusão, gerado precisao e acuracia"
   ]
  },
  {
   "cell_type": "markdown",
   "metadata": {},
   "source": [
    "### ------------------------------ REGRESSÃO LOGÍSTICA ------------------------------\n",
    "\n",
    "##### PROCESSO COM REGRESSÃO LOGÍSTICA"
   ]
  },
  {
   "cell_type": "code",
   "execution_count": 24,
   "metadata": {},
   "outputs": [
    {
     "name": "stdout",
     "output_type": "stream",
     "text": [
      "Acuracia: 56.43% Precisao: 61.34%\n"
     ]
    }
   ],
   "source": [
    "# Base original\n",
    "classificador = LogisticRegression(solver='lbfgs')\n",
    "classificador.fit(treino, classe_treino)\n",
    "\n",
    "previsao = classificador.predict(teste)\n",
    "\n",
    "acuracia = accuracy_score(classe_teste, previsao)\n",
    "precisao = precision_score(classe_teste, previsao)\n",
    "\n",
    "print(\"Acuracia: %.2f%%\" % (acuracia * 100.0), \"Precisao: %.2f%%\" % (precisao * 100.0))\n",
    "\n",
    "#report = classification_report(previsao, classe_teste)\n",
    "\n",
    "#print('report:', report, sep='\\n')"
   ]
  },
  {
   "cell_type": "code",
   "execution_count": 25,
   "metadata": {},
   "outputs": [
    {
     "data": {
      "text/plain": [
       "<matplotlib.axes._subplots.AxesSubplot at 0x22f70e52688>"
      ]
     },
     "execution_count": 25,
     "metadata": {},
     "output_type": "execute_result"
    },
    {
     "data": {
      "image/png": "[encoded data removed]",
      "text/plain": [
       "<Figure size 432x288 with 4 Axes>"
      ]
     },
     "metadata": {
      "needs_background": "light"
     },
     "output_type": "display_data"
    }
   ],
   "source": [
    "results_classificador = confusion_matrix(previsao, classe_teste) \n",
    "\n",
    "labels_classificador = [\"True Neg\",\"False Pos\",\"False Neg\",\"True Pos\"]\n",
    "labels_classificador = np.asarray(labels_classificador).reshape(2,2)\n",
    "\n",
    "fig, axs = plt.subplots(ncols=2)\n",
    "\n",
    "sn.heatmap(results_classificador, annot=labels_classificador, fmt=\"\", cmap='Blues', ax=axs[0])\n",
    "\n",
    "sn.heatmap(results_classificador/np.sum(results_classificador), annot=True, \n",
    "            fmt='.2%', cmap='Blues', ax=axs[1])"
   ]
  },
  {
   "cell_type": "code",
   "execution_count": 26,
   "metadata": {},
   "outputs": [
    {
     "name": "stdout",
     "output_type": "stream",
     "text": [
      "Acuracia: 54.86% Precisao: 60.43%\n"
     ]
    }
   ],
   "source": [
    "# Base original com letras minusculas \n",
    "classificador_lower = LogisticRegression(solver='lbfgs')\n",
    "classificador_lower.fit(treino_lower, classe_treino_lower)\n",
    "\n",
    "previsao_lower = classificador_lower.predict(teste_lower)\n",
    "\n",
    "acuracia_lower = accuracy_score(classe_teste_lower, previsao_lower)\n",
    "precisao_lower = precision_score(classe_teste_lower, previsao_lower)\n",
    "\n",
    "print(\"Acuracia: %.2f%%\" % (acuracia_lower * 100.0), \"Precisao: %.2f%%\" % (precisao_lower * 100.0))"
   ]
  },
  {
   "cell_type": "code",
   "execution_count": 27,
   "metadata": {},
   "outputs": [
    {
     "data": {
      "text/plain": [
       "<matplotlib.axes._subplots.AxesSubplot at 0x22f739de688>"
      ]
     },
     "execution_count": 27,
     "metadata": {},
     "output_type": "execute_result"
    },
    {
     "data": {
      "image/png": "[encoded data removed]",
      "text/plain": [
       "<Figure size 432x288 with 4 Axes>"
      ]
     },
     "metadata": {
      "needs_background": "light"
     },
     "output_type": "display_data"
    }
   ],
   "source": [
    "results_classificador_lower = confusion_matrix(previsao_lower, classe_teste_lower) \n",
    "\n",
    "labels_classificador_lower = [\"True Neg\",\"False Pos\",\"False Neg\",\"True Pos\"]\n",
    "labels_classificador_lower = np.asarray(labels_classificador_lower).reshape(2,2)\n",
    "\n",
    "fig, axs = plt.subplots(ncols=2)\n",
    "\n",
    "sn.heatmap(results_classificador_lower, annot=labels_classificador_lower, fmt=\"\", cmap='Blues', ax=axs[0])\n",
    "\n",
    "sn.heatmap(results_classificador_lower/np.sum(results_classificador_lower), annot=True, \n",
    "            fmt='.2%', cmap='Blues', ax=axs[1])"
   ]
  },
  {
   "cell_type": "code",
   "execution_count": 28,
   "metadata": {},
   "outputs": [
    {
     "name": "stdout",
     "output_type": "stream",
     "text": [
      "Acuracia: 52.98% Precisao: 57.89%\n"
     ]
    }
   ],
   "source": [
    "# Base com preprocessamento sem unidecode\n",
    "classificador_su = LogisticRegression(solver='lbfgs')\n",
    "classificador_su.fit(treino_su, classe_treino_su)\n",
    "\n",
    "previsao_su = classificador_su.predict(teste_su)\n",
    "\n",
    "acuracia_su = accuracy_score(classe_teste_su, previsao_su)\n",
    "precisao_su = precision_score(classe_teste_su, previsao_su)\n",
    "\n",
    "print(\"Acuracia: %.2f%%\" % (acuracia_su * 100.0), \"Precisao: %.2f%%\" % (precisao_su * 100.0))"
   ]
  },
  {
   "cell_type": "code",
   "execution_count": 29,
   "metadata": {},
   "outputs": [
    {
     "data": {
      "text/plain": [
       "<matplotlib.axes._subplots.AxesSubplot at 0x22f73b33348>"
      ]
     },
     "execution_count": 29,
     "metadata": {},
     "output_type": "execute_result"
    },
    {
     "data": {
      "image/png": "[encoded data removed]",
      "text/plain": [
       "<Figure size 432x288 with 4 Axes>"
      ]
     },
     "metadata": {
      "needs_background": "light"
     },
     "output_type": "display_data"
    }
   ],
   "source": [
    "results_classificador_su = confusion_matrix(previsao_su, classe_teste_su) \n",
    "\n",
    "labels_classificador_su = [\"True Neg\",\"False Pos\",\"False Neg\",\"True Pos\"]\n",
    "labels_classificador_su = np.asarray(labels_classificador_su).reshape(2,2)\n",
    "\n",
    "fig, axs = plt.subplots(ncols=2)\n",
    "\n",
    "sn.heatmap(results_classificador_su, annot=labels_classificador_su, fmt=\"\", cmap='Blues', ax=axs[0])\n",
    "\n",
    "sn.heatmap(results_classificador_su/np.sum(results_classificador_su), annot=True, \n",
    "            fmt='.2%', cmap='Blues', ax=axs[1])"
   ]
  },
  {
   "cell_type": "code",
   "execution_count": 30,
   "metadata": {
    "scrolled": true
   },
   "outputs": [
    {
     "name": "stdout",
     "output_type": "stream",
     "text": [
      "Acuracia: 53.61% Precisao: 58.62%\n"
     ]
    }
   ],
   "source": [
    "# Base com preprocessamento com unidecode\n",
    "classificador_wu = LogisticRegression(solver='lbfgs')\n",
    "classificador_wu.fit(treino_wu, classe_treino_wu)\n",
    "\n",
    "previsao_wu = classificador_wu.predict(teste_wu)\n",
    "\n",
    "acuracia_wu = accuracy_score(classe_teste_wu, previsao_wu)\n",
    "precisao_wu = precision_score(classe_teste_wu, previsao_wu)\n",
    "\n",
    "print(\"Acuracia: %.2f%%\" % (acuracia_wu * 100.0), \"Precisao: %.2f%%\" % (precisao_wu * 100.0))"
   ]
  },
  {
   "cell_type": "code",
   "execution_count": 31,
   "metadata": {},
   "outputs": [
    {
     "data": {
      "text/plain": [
       "<matplotlib.axes._subplots.AxesSubplot at 0x22f769d0848>"
      ]
     },
     "execution_count": 31,
     "metadata": {},
     "output_type": "execute_result"
    },
    {
     "data": {
      "image/png": "[encoded data removed]",
      "text/plain": [
       "<Figure size 432x288 with 4 Axes>"
      ]
     },
     "metadata": {
      "needs_background": "light"
     },
     "output_type": "display_data"
    }
   ],
   "source": [
    "results_classificador_wu = confusion_matrix(previsao_wu, classe_teste_wu) \n",
    "\n",
    "labels_classificador_wu = [\"True Neg\",\"False Pos\",\"False Neg\",\"True Pos\"]\n",
    "labels_classificador_wu = np.asarray(labels_classificador_wu).reshape(2,2)\n",
    "\n",
    "fig, axs = plt.subplots(ncols=2)\n",
    "\n",
    "sn.heatmap(results_classificador_wu, annot=labels_classificador_wu, fmt=\"\", cmap='Blues', ax=axs[0])\n",
    "\n",
    "sn.heatmap(results_classificador_wu/np.sum(results_classificador_wu), annot=True, \n",
    "            fmt='.2%', cmap='Blues', ax=axs[1])"
   ]
  },
  {
   "cell_type": "markdown",
   "metadata": {},
   "source": [
    "### ------------------------------ XGBOOST ------------------------------\n",
    "\n",
    "##### PROCESSO COM XGBOOST"
   ]
  },
  {
   "cell_type": "code",
   "execution_count": 34,
   "metadata": {},
   "outputs": [
    {
     "name": "stdout",
     "output_type": "stream",
     "text": [
      "Acuracia: 54.86% Precisao: 59.07%\n"
     ]
    }
   ],
   "source": [
    "# Base original \n",
    "model = XGBClassifier()\n",
    "model.fit(treino, classe_treino)\n",
    "\n",
    "y_pred = model.predict(teste)\n",
    "predictions = [round(value) for value in y_pred]\n",
    "\n",
    "accuracy = accuracy_score(classe_teste, predictions)\n",
    "precision = precision_score(classe_teste, predictions)\n",
    "\n",
    "print(\"Acuracia: %.2f%%\" % (accuracy * 100.0), \"Precisao: %.2f%%\" % (precision * 100.0))"
   ]
  },
  {
   "cell_type": "code",
   "execution_count": 35,
   "metadata": {},
   "outputs": [
    {
     "data": {
      "text/plain": [
       "<matplotlib.axes._subplots.AxesSubplot at 0x22f77ae8fc8>"
      ]
     },
     "execution_count": 35,
     "metadata": {},
     "output_type": "execute_result"
    },
    {
     "data": {
      "image/png": "[encoded data removed]",
      "text/plain": [
       "<Figure size 432x288 with 4 Axes>"
      ]
     },
     "metadata": {
      "needs_background": "light"
     },
     "output_type": "display_data"
    }
   ],
   "source": [
    "results_model = confusion_matrix(y_pred, classe_teste) \n",
    "\n",
    "labels_model = [\"True Neg\",\"False Pos\",\"False Neg\",\"True Pos\"]\n",
    "labels_model = np.asarray(labels_model).reshape(2,2)\n",
    "\n",
    "fig, axs = plt.subplots(ncols=2)\n",
    "\n",
    "sn.heatmap(results_model, annot=labels_model, fmt=\"\", cmap='Blues', ax=axs[0])\n",
    "\n",
    "sn.heatmap(results_model/np.sum(results_model), annot=True, \n",
    "            fmt='.2%', cmap='Blues', ax=axs[1])"
   ]
  },
  {
   "cell_type": "code",
   "execution_count": 36,
   "metadata": {},
   "outputs": [
    {
     "name": "stdout",
     "output_type": "stream",
     "text": [
      "Acuracia: 53.61% Precisao: 58.45%\n"
     ]
    }
   ],
   "source": [
    "# Base original com letras minusculas \n",
    "model_lower = XGBClassifier()\n",
    "model_lower.fit(treino_lower, classe_treino_lower)\n",
    "\n",
    "y_pred_lower = model_lower.predict(teste_lower)\n",
    "predictions_lower = [round(value) for value in y_pred_lower]\n",
    "\n",
    "accuracy_lower = accuracy_score(classe_teste_lower, predictions_lower)\n",
    "precision_lower = precision_score(classe_teste_lower, predictions_lower)\n",
    "\n",
    "print(\"Acuracia: %.2f%%\" % (accuracy_lower * 100.0), \"Precisao: %.2f%%\" % (precision_lower * 100.0))"
   ]
  },
  {
   "cell_type": "code",
   "execution_count": 37,
   "metadata": {},
   "outputs": [
    {
     "data": {
      "text/plain": [
       "<matplotlib.axes._subplots.AxesSubplot at 0x22f7224e188>"
      ]
     },
     "execution_count": 37,
     "metadata": {},
     "output_type": "execute_result"
    },
    {
     "data": {
      "image/png": "[encoded data removed]",
      "text/plain": [
       "<Figure size 432x288 with 4 Axes>"
      ]
     },
     "metadata": {
      "needs_background": "light"
     },
     "output_type": "display_data"
    }
   ],
   "source": [
    "results_model_lower = confusion_matrix(y_pred_lower, classe_teste_lower) \n",
    "\n",
    "labels_model_lower = [\"True Neg\",\"False Pos\",\"False Neg\",\"True Pos\"]\n",
    "labels_model_lower = np.asarray(labels_model_lower).reshape(2,2)\n",
    "\n",
    "fig, axs = plt.subplots(ncols=2)\n",
    "\n",
    "sn.heatmap(results_model_lower, annot=labels_model_lower, fmt=\"\", cmap='Blues', ax=axs[0])\n",
    "\n",
    "sn.heatmap(results_model_lower/np.sum(results_model_lower), annot=True, \n",
    "            fmt='.2%', cmap='Blues', ax=axs[1])"
   ]
  },
  {
   "cell_type": "code",
   "execution_count": 38,
   "metadata": {},
   "outputs": [
    {
     "name": "stdout",
     "output_type": "stream",
     "text": [
      "Acuracia: 52.35% Precisao: 57.08%\n"
     ]
    }
   ],
   "source": [
    "# Base com preprocessamento sem unidecode\n",
    "\n",
    "model_su = XGBClassifier()\n",
    "model_su.fit(treino_su, classe_treino_su)\n",
    "\n",
    "y_pred_su = model_su.predict(teste_su)\n",
    "predictions_su = [round(value) for value in y_pred_su]\n",
    "\n",
    "accuracy_su = accuracy_score(classe_teste_su, predictions_su)\n",
    "precision_su = precision_score(classe_teste_su, predictions_su)\n",
    "\n",
    "print(\"Acuracia: %.2f%%\" % (accuracy_su * 100.0), \"Precisao: %.2f%%\" % (precision_su * 100.0))"
   ]
  },
  {
   "cell_type": "code",
   "execution_count": 39,
   "metadata": {},
   "outputs": [
    {
     "data": {
      "text/plain": [
       "<matplotlib.axes._subplots.AxesSubplot at 0x22f7df91b08>"
      ]
     },
     "execution_count": 39,
     "metadata": {},
     "output_type": "execute_result"
    },
    {
     "data": {
      "image/png": "[encoded data removed]",
      "text/plain": [
       "<Figure size 432x288 with 4 Axes>"
      ]
     },
     "metadata": {
      "needs_background": "light"
     },
     "output_type": "display_data"
    }
   ],
   "source": [
    "results_model_su = confusion_matrix(y_pred_su, classe_teste_su) \n",
    "\n",
    "labels_model_su = [\"True Neg\",\"False Pos\",\"False Neg\",\"True Pos\"]\n",
    "labels_model_su = np.asarray(labels_model_su).reshape(2,2)\n",
    "\n",
    "fig, axs = plt.subplots(ncols=2)\n",
    "\n",
    "sn.heatmap(results_model_su, annot=labels_model_su, fmt=\"\", cmap='Blues', ax=axs[0])\n",
    "\n",
    "sn.heatmap(results_model_su/np.sum(results_model_su), annot=True, \n",
    "            fmt='.2%', cmap='Blues', ax=axs[1])"
   ]
  },
  {
   "cell_type": "code",
   "execution_count": 40,
   "metadata": {},
   "outputs": [
    {
     "name": "stdout",
     "output_type": "stream",
     "text": [
      "Acuracia: 52.35% Precisao: 58.45%\n"
     ]
    }
   ],
   "source": [
    "# Base com preprocessamento com unidecode\n",
    "model_wu = XGBClassifier()\n",
    "model_wu.fit(treino_wu, classe_treino_wu)\n",
    "\n",
    "y_pred_wu = model_wu.predict(teste_wu)\n",
    "predictions_wu = [round(value) for value in y_pred_wu]\n",
    "\n",
    "accuracy_wu = accuracy_score(classe_teste_wu, predictions_wu)\n",
    "precision_wu = precision_score(classe_teste_wu, predictions_wu)\n",
    "\n",
    "print(\"Acuracia: %.2f%%\" % (accuracy_su * 100.0), \"Precisao: %.2f%%\" % (precision_wu * 100.0))"
   ]
  },
  {
   "cell_type": "code",
   "execution_count": 41,
   "metadata": {},
   "outputs": [
    {
     "data": {
      "text/plain": [
       "<matplotlib.axes._subplots.AxesSubplot at 0x22f7e13f208>"
      ]
     },
     "execution_count": 41,
     "metadata": {},
     "output_type": "execute_result"
    },
    {
     "data": {
      "image/png": "[encoded data removed]",
      "text/plain": [
       "<Figure size 432x288 with 4 Axes>"
      ]
     },
     "metadata": {
      "needs_background": "light"
     },
     "output_type": "display_data"
    }
   ],
   "source": [
    "results_model_wu = confusion_matrix(y_pred_wu, classe_teste_wu) \n",
    "\n",
    "labels_model_wu = [\"True Neg\",\"False Pos\",\"False Neg\",\"True Pos\"]\n",
    "labels_model_wu = np.asarray(labels_model_wu).reshape(2,2)\n",
    "\n",
    "fig, axs = plt.subplots(ncols=2)\n",
    "\n",
    "sn.heatmap(results_model_wu, annot=labels_model_wu, fmt=\"\", cmap='Blues', ax=axs[0])\n",
    "\n",
    "sn.heatmap(results_model_wu/np.sum(results_model_wu), annot=True, \n",
    "            fmt='.2%', cmap='Blues', ax=axs[1])"
   ]
  },
  {
   "cell_type": "markdown",
   "metadata": {},
   "source": [
    "### ------------------------------ GRADIENT BOOSTING CLASSIFIER ------------------------------\n",
    "\n",
    "##### PROCESSO COM GRADIENT BOOSTING CLASSIFIER"
   ]
  },
  {
   "cell_type": "code",
   "execution_count": 42,
   "metadata": {
    "scrolled": false
   },
   "outputs": [],
   "source": [
    "# Define possibilidades de valores de aprendizado e identifica qual tras o melhor scrore em acuracia para cada coluna\n",
    "learning_rates = [0.05, 0.1, 0.25, 0.5, 0.75, 1]"
   ]
  },
  {
   "cell_type": "code",
   "execution_count": 43,
   "metadata": {},
   "outputs": [
    {
     "name": "stdout",
     "output_type": "stream",
     "text": [
      "Coluna base original ------\n",
      "\n",
      "Learning rate:  0.05\n",
      "Accuracy score (training): 0.711\n",
      "Accuracy score (validation): 0.577\n",
      "\n",
      "Coluna base original ------\n",
      "\n",
      "Learning rate:  0.1\n",
      "Accuracy score (training): 0.773\n",
      "Accuracy score (validation): 0.580\n",
      "\n",
      "Coluna base original ------\n",
      "\n",
      "Learning rate:  0.25\n",
      "Accuracy score (training): 0.862\n",
      "Accuracy score (validation): 0.589\n",
      "\n",
      "Coluna base original ------\n",
      "\n",
      "Learning rate:  0.5\n",
      "Accuracy score (training): 0.942\n",
      "Accuracy score (validation): 0.555\n",
      "\n",
      "Coluna base original ------\n",
      "\n",
      "Learning rate:  0.75\n",
      "Accuracy score (training): 0.973\n",
      "Accuracy score (validation): 0.592\n",
      "\n",
      "Coluna base original ------\n",
      "\n",
      "Learning rate:  1\n",
      "Accuracy score (training): 0.978\n",
      "Accuracy score (validation): 0.577\n",
      "\n"
     ]
    }
   ],
   "source": [
    "# Coluna base original\n",
    "for learning_rate in learning_rates:\n",
    "    gb = GradientBoostingClassifier(learning_rate = learning_rate, random_state=42)\n",
    "    gb.fit(treino, classe_treino)\n",
    "    print(\"Coluna base original ------\")\n",
    "    print()\n",
    "    print(\"Learning rate: \", learning_rate)\n",
    "    print(\"Accuracy score (training): {0:.3f}\".format(gb.score(treino, classe_treino)))\n",
    "    print(\"Accuracy score (validation): {0:.3f}\".format(gb.score(teste, classe_teste)))\n",
    "    print()"
   ]
  },
  {
   "cell_type": "code",
   "execution_count": 44,
   "metadata": {},
   "outputs": [
    {
     "name": "stdout",
     "output_type": "stream",
     "text": [
      "Coluna minusculo ------\n",
      "\n",
      "Learning rate:  0.05\n",
      "Accuracy score (training): 0.719\n",
      "Accuracy score (validation): 0.599\n",
      "\n",
      "Coluna minusculo ------\n",
      "\n",
      "Learning rate:  0.1\n",
      "Accuracy score (training): 0.786\n",
      "Accuracy score (validation): 0.567\n",
      "\n",
      "Coluna minusculo ------\n",
      "\n",
      "Learning rate:  0.25\n",
      "Accuracy score (training): 0.857\n",
      "Accuracy score (validation): 0.567\n",
      "\n",
      "Coluna minusculo ------\n",
      "\n",
      "Learning rate:  0.5\n",
      "Accuracy score (training): 0.941\n",
      "Accuracy score (validation): 0.574\n",
      "\n",
      "Coluna minusculo ------\n",
      "\n",
      "Learning rate:  0.75\n",
      "Accuracy score (training): 0.960\n",
      "Accuracy score (validation): 0.552\n",
      "\n",
      "Coluna minusculo ------\n",
      "\n",
      "Learning rate:  1\n",
      "Accuracy score (training): 0.973\n",
      "Accuracy score (validation): 0.574\n",
      "\n"
     ]
    }
   ],
   "source": [
    "# Coluna minusculo\n",
    "for learning_rate in learning_rates:\n",
    "    gb = GradientBoostingClassifier(learning_rate = learning_rate, random_state=42)\n",
    "    gb.fit(treino_lower, classe_treino_lower)\n",
    "    print(\"Coluna minusculo ------\")\n",
    "    print()\n",
    "    print(\"Learning rate: \", learning_rate)\n",
    "    print(\"Accuracy score (training): {0:.3f}\".format(gb.score(treino_lower, classe_treino_lower)))\n",
    "    print(\"Accuracy score (validation): {0:.3f}\".format(gb.score(teste_lower, classe_teste_lower)))\n",
    "    print()"
   ]
  },
  {
   "cell_type": "code",
   "execution_count": 46,
   "metadata": {},
   "outputs": [
    {
     "name": "stdout",
     "output_type": "stream",
     "text": [
      "Coluna preprocessamento sem unidecode ------\n",
      "\n",
      "Learning rate:  0.05\n",
      "Accuracy score (training): 0.690\n",
      "Accuracy score (validation): 0.592\n",
      "\n",
      "Coluna preprocessamento sem unidecode ------\n",
      "\n",
      "Learning rate:  0.1\n",
      "Accuracy score (training): 0.791\n",
      "Accuracy score (validation): 0.571\n",
      "\n",
      "Coluna preprocessamento sem unidecode ------\n",
      "\n",
      "Learning rate:  0.25\n",
      "Accuracy score (training): 0.846\n",
      "Accuracy score (validation): 0.583\n",
      "\n",
      "Coluna preprocessamento sem unidecode ------\n",
      "\n",
      "Learning rate:  0.5\n",
      "Accuracy score (training): 0.952\n",
      "Accuracy score (validation): 0.608\n",
      "\n",
      "Coluna preprocessamento sem unidecode ------\n",
      "\n",
      "Learning rate:  0.75\n",
      "Accuracy score (training): 0.965\n",
      "Accuracy score (validation): 0.577\n",
      "\n",
      "Coluna preprocessamento sem unidecode ------\n",
      "\n",
      "Learning rate:  1\n",
      "Accuracy score (training): 0.968\n",
      "Accuracy score (validation): 0.574\n",
      "\n"
     ]
    }
   ],
   "source": [
    "# Coluna preprocessamento sem unidecode\n",
    "for learning_rate in learning_rates:\n",
    "    gb = GradientBoostingClassifier(learning_rate = learning_rate, random_state=42)\n",
    "    gb.fit(treino_su, classe_treino_su)\n",
    "    print(\"Coluna preprocessamento sem unidecode ------\")\n",
    "    print()\n",
    "    print(\"Learning rate: \", learning_rate)\n",
    "    print(\"Accuracy score (training): {0:.3f}\".format(gb.score(treino_su, classe_treino_su)))\n",
    "    print(\"Accuracy score (validation): {0:.3f}\".format(gb.score(teste_su, classe_teste_su)))\n",
    "    print()"
   ]
  },
  {
   "cell_type": "code",
   "execution_count": 48,
   "metadata": {},
   "outputs": [
    {
     "name": "stdout",
     "output_type": "stream",
     "text": [
      "Coluna preprocessamento com unidecode ------\n",
      "\n",
      "Learning rate:  0.05\n",
      "Accuracy score (training): 0.696\n",
      "Accuracy score (validation): 0.592\n",
      "\n",
      "Coluna preprocessamento com unidecode ------\n",
      "\n",
      "Learning rate:  0.1\n",
      "Accuracy score (training): 0.779\n",
      "Accuracy score (validation): 0.561\n",
      "\n",
      "Coluna preprocessamento com unidecode ------\n",
      "\n",
      "Learning rate:  0.25\n",
      "Accuracy score (training): 0.851\n",
      "Accuracy score (validation): 0.589\n",
      "\n",
      "Coluna preprocessamento com unidecode ------\n",
      "\n",
      "Learning rate:  0.5\n",
      "Accuracy score (training): 0.930\n",
      "Accuracy score (validation): 0.614\n",
      "\n",
      "Coluna preprocessamento com unidecode ------\n",
      "\n",
      "Learning rate:  0.75\n",
      "Accuracy score (training): 0.928\n",
      "Accuracy score (validation): 0.589\n",
      "\n",
      "Coluna preprocessamento com unidecode ------\n",
      "\n",
      "Learning rate:  1\n",
      "Accuracy score (training): 0.970\n",
      "Accuracy score (validation): 0.580\n",
      "\n"
     ]
    }
   ],
   "source": [
    "# Coluna preprocessamento com unidecode\n",
    "for learning_rate in learning_rates:\n",
    "    gb = GradientBoostingClassifier(learning_rate = learning_rate, random_state=42)\n",
    "    gb.fit(treino_wu, classe_treino_wu)\n",
    "    print(\"Coluna preprocessamento com unidecode ------\")\n",
    "    print()\n",
    "    print(\"Learning rate: \", learning_rate)\n",
    "    print(\"Accuracy score (training): {0:.3f}\".format(gb.score(treino_wu, classe_treino_wu)))\n",
    "    print(\"Accuracy score (validation): {0:.3f}\".format(gb.score(teste_wu, classe_teste_wu)))\n",
    "    print()"
   ]
  },
  {
   "cell_type": "code",
   "execution_count": 49,
   "metadata": {},
   "outputs": [
    {
     "name": "stdout",
     "output_type": "stream",
     "text": [
      "Acuracia: 59.25% Precisao: 61.57%\n"
     ]
    }
   ],
   "source": [
    "# Base original \n",
    "gb = GradientBoostingClassifier(learning_rate = 0.75, random_state = 42)\n",
    "gb.fit(treino, classe_treino)\n",
    "predictions = gb.predict(teste)\n",
    "\n",
    "accuracy0 = accuracy_score(classe_teste, predictions)\n",
    "precision0 = precision_score(classe_teste, predictions)\n",
    "print(\"Acuracia: %.2f%%\" % (accuracy0 * 100.0), \"Precisao: %.2f%%\" % (precision0 * 100.0))"
   ]
  },
  {
   "cell_type": "code",
   "execution_count": 50,
   "metadata": {},
   "outputs": [
    {
     "data": {
      "text/plain": [
       "<matplotlib.axes._subplots.AxesSubplot at 0x22f7e2c46c8>"
      ]
     },
     "execution_count": 50,
     "metadata": {},
     "output_type": "execute_result"
    },
    {
     "data": {
      "image/png": "[encoded data removed]",
      "text/plain": [
       "<Figure size 432x288 with 4 Axes>"
      ]
     },
     "metadata": {
      "needs_background": "light"
     },
     "output_type": "display_data"
    }
   ],
   "source": [
    "results_gb = confusion_matrix(predictions, classe_teste) \n",
    "\n",
    "labels_gb = [\"True Neg\",\"False Pos\",\"False Neg\",\"True Pos\"]\n",
    "labels_gb = np.asarray(labels_gb).reshape(2,2)\n",
    "\n",
    "fig, axs = plt.subplots(ncols=2)\n",
    "\n",
    "sn.heatmap(results_gb, annot=labels_gb, fmt=\"\", cmap='Blues', ax=axs[0])\n",
    "\n",
    "sn.heatmap(results_gb/np.sum(results_gb), annot=True, \n",
    "            fmt='.2%', cmap='Blues', ax=axs[1])"
   ]
  },
  {
   "cell_type": "code",
   "execution_count": 52,
   "metadata": {},
   "outputs": [
    {
     "ename": "ValueError",
     "evalue": "Number of features of the model must match the input. Model n_features is 6855 and input n_features is 5736 ",
     "output_type": "error",
     "traceback": [
      "\u001b[1;31m---------------------------------------------------------------------------\u001b[0m",
      "\u001b[1;31mValueError\u001b[0m                                Traceback (most recent call last)",
      "\u001b[1;32m<ipython-input-52-a549b1c4d275>\u001b[0m in \u001b[0;36m<module>\u001b[1;34m\u001b[0m\n\u001b[0;32m      2\u001b[0m \u001b[0mgb_lower\u001b[0m \u001b[1;33m=\u001b[0m \u001b[0mGradientBoostingClassifier\u001b[0m\u001b[1;33m(\u001b[0m\u001b[0mlearning_rate\u001b[0m \u001b[1;33m=\u001b[0m \u001b[1;36m0.5\u001b[0m\u001b[1;33m,\u001b[0m \u001b[0mrandom_state\u001b[0m \u001b[1;33m=\u001b[0m \u001b[1;36m42\u001b[0m\u001b[1;33m)\u001b[0m\u001b[1;33m\u001b[0m\u001b[1;33m\u001b[0m\u001b[0m\n\u001b[0;32m      3\u001b[0m \u001b[0mgb_lower\u001b[0m\u001b[1;33m.\u001b[0m\u001b[0mfit\u001b[0m\u001b[1;33m(\u001b[0m\u001b[0mtreino_lower\u001b[0m\u001b[1;33m,\u001b[0m \u001b[0mclasse_treino_lower\u001b[0m\u001b[1;33m)\u001b[0m\u001b[1;33m\u001b[0m\u001b[1;33m\u001b[0m\u001b[0m\n\u001b[1;32m----> 4\u001b[1;33m \u001b[0mpredictions_lower\u001b[0m \u001b[1;33m=\u001b[0m \u001b[0mgb\u001b[0m\u001b[1;33m.\u001b[0m\u001b[0mpredict\u001b[0m\u001b[1;33m(\u001b[0m\u001b[0mteste_lower\u001b[0m\u001b[1;33m)\u001b[0m\u001b[1;33m\u001b[0m\u001b[1;33m\u001b[0m\u001b[0m\n\u001b[0m\u001b[0;32m      5\u001b[0m \u001b[1;33m\u001b[0m\u001b[0m\n\u001b[0;32m      6\u001b[0m \u001b[0maccuracy1\u001b[0m \u001b[1;33m=\u001b[0m \u001b[0maccuracy_score\u001b[0m\u001b[1;33m(\u001b[0m\u001b[0mclasse_teste_lower\u001b[0m\u001b[1;33m,\u001b[0m \u001b[0mpredictions_lower\u001b[0m\u001b[1;33m)\u001b[0m\u001b[1;33m\u001b[0m\u001b[1;33m\u001b[0m\u001b[0m\n",
      "\u001b[1;32mG:\\anaconda3\\envs\\data_manipulation\\lib\\site-packages\\sklearn\\ensemble\\_gb.py\u001b[0m in \u001b[0;36mpredict\u001b[1;34m(self, X)\u001b[0m\n\u001b[0;32m   2163\u001b[0m             \u001b[0mThe\u001b[0m \u001b[0mpredicted\u001b[0m \u001b[0mvalues\u001b[0m\u001b[1;33m.\u001b[0m\u001b[1;33m\u001b[0m\u001b[1;33m\u001b[0m\u001b[0m\n\u001b[0;32m   2164\u001b[0m         \"\"\"\n\u001b[1;32m-> 2165\u001b[1;33m         \u001b[0mraw_predictions\u001b[0m \u001b[1;33m=\u001b[0m \u001b[0mself\u001b[0m\u001b[1;33m.\u001b[0m\u001b[0mdecision_function\u001b[0m\u001b[1;33m(\u001b[0m\u001b[0mX\u001b[0m\u001b[1;33m)\u001b[0m\u001b[1;33m\u001b[0m\u001b[1;33m\u001b[0m\u001b[0m\n\u001b[0m\u001b[0;32m   2166\u001b[0m         \u001b[0mencoded_labels\u001b[0m \u001b[1;33m=\u001b[0m\u001b[0;31m \u001b[0m\u001b[0;31m\\\u001b[0m\u001b[1;33m\u001b[0m\u001b[1;33m\u001b[0m\u001b[0m\n\u001b[0;32m   2167\u001b[0m             \u001b[0mself\u001b[0m\u001b[1;33m.\u001b[0m\u001b[0mloss_\u001b[0m\u001b[1;33m.\u001b[0m\u001b[0m_raw_prediction_to_decision\u001b[0m\u001b[1;33m(\u001b[0m\u001b[0mraw_predictions\u001b[0m\u001b[1;33m)\u001b[0m\u001b[1;33m\u001b[0m\u001b[1;33m\u001b[0m\u001b[0m\n",
      "\u001b[1;32mG:\\anaconda3\\envs\\data_manipulation\\lib\\site-packages\\sklearn\\ensemble\\_gb.py\u001b[0m in \u001b[0;36mdecision_function\u001b[1;34m(self, X)\u001b[0m\n\u001b[0;32m   2119\u001b[0m         \"\"\"\n\u001b[0;32m   2120\u001b[0m         \u001b[0mX\u001b[0m \u001b[1;33m=\u001b[0m \u001b[0mcheck_array\u001b[0m\u001b[1;33m(\u001b[0m\u001b[0mX\u001b[0m\u001b[1;33m,\u001b[0m \u001b[0mdtype\u001b[0m\u001b[1;33m=\u001b[0m\u001b[0mDTYPE\u001b[0m\u001b[1;33m,\u001b[0m \u001b[0morder\u001b[0m\u001b[1;33m=\u001b[0m\u001b[1;34m\"C\"\u001b[0m\u001b[1;33m,\u001b[0m \u001b[0maccept_sparse\u001b[0m\u001b[1;33m=\u001b[0m\u001b[1;34m'csr'\u001b[0m\u001b[1;33m)\u001b[0m\u001b[1;33m\u001b[0m\u001b[1;33m\u001b[0m\u001b[0m\n\u001b[1;32m-> 2121\u001b[1;33m         \u001b[0mraw_predictions\u001b[0m \u001b[1;33m=\u001b[0m \u001b[0mself\u001b[0m\u001b[1;33m.\u001b[0m\u001b[0m_raw_predict\u001b[0m\u001b[1;33m(\u001b[0m\u001b[0mX\u001b[0m\u001b[1;33m)\u001b[0m\u001b[1;33m\u001b[0m\u001b[1;33m\u001b[0m\u001b[0m\n\u001b[0m\u001b[0;32m   2122\u001b[0m         \u001b[1;32mif\u001b[0m \u001b[0mraw_predictions\u001b[0m\u001b[1;33m.\u001b[0m\u001b[0mshape\u001b[0m\u001b[1;33m[\u001b[0m\u001b[1;36m1\u001b[0m\u001b[1;33m]\u001b[0m \u001b[1;33m==\u001b[0m \u001b[1;36m1\u001b[0m\u001b[1;33m:\u001b[0m\u001b[1;33m\u001b[0m\u001b[1;33m\u001b[0m\u001b[0m\n\u001b[0;32m   2123\u001b[0m             \u001b[1;32mreturn\u001b[0m \u001b[0mraw_predictions\u001b[0m\u001b[1;33m.\u001b[0m\u001b[0mravel\u001b[0m\u001b[1;33m(\u001b[0m\u001b[1;33m)\u001b[0m\u001b[1;33m\u001b[0m\u001b[1;33m\u001b[0m\u001b[0m\n",
      "\u001b[1;32mG:\\anaconda3\\envs\\data_manipulation\\lib\\site-packages\\sklearn\\ensemble\\_gb.py\u001b[0m in \u001b[0;36m_raw_predict\u001b[1;34m(self, X)\u001b[0m\n\u001b[0;32m   1653\u001b[0m     \u001b[1;32mdef\u001b[0m \u001b[0m_raw_predict\u001b[0m\u001b[1;33m(\u001b[0m\u001b[0mself\u001b[0m\u001b[1;33m,\u001b[0m \u001b[0mX\u001b[0m\u001b[1;33m)\u001b[0m\u001b[1;33m:\u001b[0m\u001b[1;33m\u001b[0m\u001b[1;33m\u001b[0m\u001b[0m\n\u001b[0;32m   1654\u001b[0m         \u001b[1;34m\"\"\"Return the sum of the trees raw predictions (+ init estimator).\"\"\"\u001b[0m\u001b[1;33m\u001b[0m\u001b[1;33m\u001b[0m\u001b[0m\n\u001b[1;32m-> 1655\u001b[1;33m         \u001b[0mraw_predictions\u001b[0m \u001b[1;33m=\u001b[0m \u001b[0mself\u001b[0m\u001b[1;33m.\u001b[0m\u001b[0m_raw_predict_init\u001b[0m\u001b[1;33m(\u001b[0m\u001b[0mX\u001b[0m\u001b[1;33m)\u001b[0m\u001b[1;33m\u001b[0m\u001b[1;33m\u001b[0m\u001b[0m\n\u001b[0m\u001b[0;32m   1656\u001b[0m         predict_stages(self.estimators_, X, self.learning_rate,\n\u001b[0;32m   1657\u001b[0m                        raw_predictions)\n",
      "\u001b[1;32mG:\\anaconda3\\envs\\data_manipulation\\lib\\site-packages\\sklearn\\ensemble\\_gb.py\u001b[0m in \u001b[0;36m_raw_predict_init\u001b[1;34m(self, X)\u001b[0m\n\u001b[0;32m   1639\u001b[0m         \u001b[1;34m\"\"\"Check input and compute raw predictions of the init estimator.\"\"\"\u001b[0m\u001b[1;33m\u001b[0m\u001b[1;33m\u001b[0m\u001b[0m\n\u001b[0;32m   1640\u001b[0m         \u001b[0mself\u001b[0m\u001b[1;33m.\u001b[0m\u001b[0m_check_initialized\u001b[0m\u001b[1;33m(\u001b[0m\u001b[1;33m)\u001b[0m\u001b[1;33m\u001b[0m\u001b[1;33m\u001b[0m\u001b[0m\n\u001b[1;32m-> 1641\u001b[1;33m         \u001b[0mX\u001b[0m \u001b[1;33m=\u001b[0m \u001b[0mself\u001b[0m\u001b[1;33m.\u001b[0m\u001b[0mestimators_\u001b[0m\u001b[1;33m[\u001b[0m\u001b[1;36m0\u001b[0m\u001b[1;33m,\u001b[0m \u001b[1;36m0\u001b[0m\u001b[1;33m]\u001b[0m\u001b[1;33m.\u001b[0m\u001b[0m_validate_X_predict\u001b[0m\u001b[1;33m(\u001b[0m\u001b[0mX\u001b[0m\u001b[1;33m,\u001b[0m \u001b[0mcheck_input\u001b[0m\u001b[1;33m=\u001b[0m\u001b[1;32mTrue\u001b[0m\u001b[1;33m)\u001b[0m\u001b[1;33m\u001b[0m\u001b[1;33m\u001b[0m\u001b[0m\n\u001b[0m\u001b[0;32m   1642\u001b[0m         \u001b[1;32mif\u001b[0m \u001b[0mX\u001b[0m\u001b[1;33m.\u001b[0m\u001b[0mshape\u001b[0m\u001b[1;33m[\u001b[0m\u001b[1;36m1\u001b[0m\u001b[1;33m]\u001b[0m \u001b[1;33m!=\u001b[0m \u001b[0mself\u001b[0m\u001b[1;33m.\u001b[0m\u001b[0mn_features_\u001b[0m\u001b[1;33m:\u001b[0m\u001b[1;33m\u001b[0m\u001b[1;33m\u001b[0m\u001b[0m\n\u001b[0;32m   1643\u001b[0m             raise ValueError(\"X.shape[1] should be {0:d}, not {1:d}.\".format(\n",
      "\u001b[1;32mG:\\anaconda3\\envs\\data_manipulation\\lib\\site-packages\\sklearn\\tree\\_classes.py\u001b[0m in \u001b[0;36m_validate_X_predict\u001b[1;34m(self, X, check_input)\u001b[0m\n\u001b[0;32m    389\u001b[0m                              \u001b[1;34m\"match the input. Model n_features is %s and \"\u001b[0m\u001b[1;33m\u001b[0m\u001b[1;33m\u001b[0m\u001b[0m\n\u001b[0;32m    390\u001b[0m                              \u001b[1;34m\"input n_features is %s \"\u001b[0m\u001b[1;33m\u001b[0m\u001b[1;33m\u001b[0m\u001b[0m\n\u001b[1;32m--> 391\u001b[1;33m                              % (self.n_features_, n_features))\n\u001b[0m\u001b[0;32m    392\u001b[0m \u001b[1;33m\u001b[0m\u001b[0m\n\u001b[0;32m    393\u001b[0m         \u001b[1;32mreturn\u001b[0m \u001b[0mX\u001b[0m\u001b[1;33m\u001b[0m\u001b[1;33m\u001b[0m\u001b[0m\n",
      "\u001b[1;31mValueError\u001b[0m: Number of features of the model must match the input. Model n_features is 6855 and input n_features is 5736 "
     ]
    }
   ],
   "source": [
    "# Base original com letras minusculas \n",
    "gb_lower = GradientBoostingClassifier(learning_rate = 0.5, random_state = 42)\n",
    "gb_lower.fit(treino_lower, classe_treino_lower)\n",
    "predictions_lower = gb.predict(teste_lower)\n",
    "\n",
    "accuracy1 = accuracy_score(classe_teste_lower, predictions_lower)\n",
    "precision1 = precision_score(classe_teste_lower, predictions_lower)\n",
    "print(\"Acuracia: %.2f%%\" % (accuracy1 * 100.0), \"Precisao: %.2f%%\" % (precision1 * 100.0))"
   ]
  },
  {
   "cell_type": "code",
   "execution_count": null,
   "metadata": {},
   "outputs": [],
   "source": [
    "results_gb_lower = confusion_matrix(predictions_lower, classe_teste_lower) \n",
    "\n",
    "labels_gb_lower = [\"True Neg\",\"False Pos\",\"False Neg\",\"True Pos\"]\n",
    "labels_gb_lower = np.asarray(labels_gb_lower).reshape(2,2)\n",
    "\n",
    "fig, axs = plt.subplots(ncols=2)\n",
    "\n",
    "sn.heatmap(results_gb_lower, annot=labels_gb_lower, fmt=\"\", cmap='Blues', ax=axs[0])\n",
    "\n",
    "sn.heatmap(results_gb_lower/np.sum(results_gb_lower), annot=True, \n",
    "            fmt='.2%', cmap='Blues', ax=axs[1])"
   ]
  },
  {
   "cell_type": "code",
   "execution_count": 53,
   "metadata": {},
   "outputs": [
    {
     "name": "stdout",
     "output_type": "stream",
     "text": [
      "Acuracia: 60.82% Precisao: 62.61%\n"
     ]
    }
   ],
   "source": [
    "# Base com preprocessamento sem unidecode\n",
    "gb_su = GradientBoostingClassifier(learning_rate = 0.5, random_state = 42)\n",
    "gb_su.fit(treino_su, classe_treino_su)\n",
    "predictions_su = gb_su.predict(teste_su)\n",
    "\n",
    "accuracy2 = accuracy_score(classe_teste_su, predictions_su)\n",
    "precision2 = precision_score(classe_teste_su, predictions_su)\n",
    "print(\"Acuracia: %.2f%%\" % (accuracy2 * 100.0), \"Precisao: %.2f%%\" % (precision2 * 100.0))"
   ]
  },
  {
   "cell_type": "code",
   "execution_count": 54,
   "metadata": {},
   "outputs": [
    {
     "data": {
      "text/plain": [
       "<matplotlib.axes._subplots.AxesSubplot at 0x22f7e484108>"
      ]
     },
     "execution_count": 54,
     "metadata": {},
     "output_type": "execute_result"
    },
    {
     "data": {
      "image/png": "[encoded data removed]",
      "text/plain": [
       "<Figure size 432x288 with 4 Axes>"
      ]
     },
     "metadata": {
      "needs_background": "light"
     },
     "output_type": "display_data"
    }
   ],
   "source": [
    "results_gb_su = confusion_matrix(predictions_su, classe_teste_su) \n",
    "\n",
    "labels_gb_su = [\"True Neg\",\"False Pos\",\"False Neg\",\"True Pos\"]\n",
    "labels_gb_su = np.asarray(labels_gb_su).reshape(2,2)\n",
    "\n",
    "fig, axs = plt.subplots(ncols=2)\n",
    "\n",
    "sn.heatmap(results_gb_su, annot=labels_gb_su, fmt=\"\", cmap='Blues', ax=axs[0])\n",
    "\n",
    "sn.heatmap(results_gb_su/np.sum(results_gb_su), annot=True, \n",
    "            fmt='.2%', cmap='Blues', ax=axs[1])"
   ]
  },
  {
   "cell_type": "code",
   "execution_count": 55,
   "metadata": {},
   "outputs": [
    {
     "name": "stdout",
     "output_type": "stream",
     "text": [
      "Acuracia: 61.44% Precisao: 63.04%\n"
     ]
    }
   ],
   "source": [
    "# Base com preprocessamento com unidecode\n",
    "gb_wu = GradientBoostingClassifier(learning_rate = 0.5, random_state = 42)\n",
    "gb_wu.fit(treino_wu, classe_treino_wu)\n",
    "predictions_wu = gb_wu.predict(teste_wu)\n",
    "\n",
    "accuracy3 = accuracy_score(classe_teste_wu, predictions_wu)\n",
    "precision3 = precision_score(classe_teste_wu, predictions_wu)\n",
    "print(\"Acuracia: %.2f%%\" % (accuracy3 * 100.0), \"Precisao: %.2f%%\" % (precision3 * 100.0))"
   ]
  },
  {
   "cell_type": "code",
   "execution_count": 56,
   "metadata": {},
   "outputs": [
    {
     "data": {
      "text/plain": [
       "<matplotlib.axes._subplots.AxesSubplot at 0x22f7e5c6908>"
      ]
     },
     "execution_count": 56,
     "metadata": {},
     "output_type": "execute_result"
    },
    {
     "data": {
      "image/png": "[encoded data removed]",
      "text/plain": [
       "<Figure size 432x288 with 4 Axes>"
      ]
     },
     "metadata": {
      "needs_background": "light"
     },
     "output_type": "display_data"
    }
   ],
   "source": [
    "results_gb_wu = confusion_matrix(predictions_wu, classe_teste_wu) \n",
    "\n",
    "labels_gb_wu = [\"True Neg\",\"False Pos\",\"False Neg\",\"True Pos\"]\n",
    "labels_gb_wu = np.asarray(labels_gb_wu).reshape(2,2)\n",
    "\n",
    "fig, axs = plt.subplots(ncols=2)\n",
    "\n",
    "sn.heatmap(results_gb_wu, annot=labels_gb_wu, fmt=\"\", cmap='Blues', ax=axs[0])\n",
    "\n",
    "sn.heatmap(results_gb_wu/np.sum(results_gb_wu), annot=True, \n",
    "            fmt='.2%', cmap='Blues', ax=axs[1])"
   ]
  },
  {
   "cell_type": "markdown",
   "metadata": {},
   "source": [
    "## Salva os modelos com pickle"
   ]
  },
  {
   "cell_type": "code",
   "execution_count": null,
   "metadata": {},
   "outputs": [],
   "source": [
    "joblib.dump(classificador_lower, 'lr_classificador_lower.pkl')\n",
    "joblib.dump(vectorizer_lower, 'cv_lower.pkl')\n",
    "print(\"Modelo regressao logistica lower\")\n",
    "#lr_lower = joblib.load('lr_classificador_lower.pkl')"
   ]
  },
  {
   "cell_type": "code",
   "execution_count": null,
   "metadata": {},
   "outputs": [],
   "source": [
    "model_loaded = open('lr_classificador_lower.pkl', 'rb')\n",
    "cv_loaded = open('cv_lower.pkl', 'rb')\n",
    "clf = joblib.load(model_loaded)\n",
    "cvteste = joblib.load(cv_loaded)\n",
    "\n",
    "datateste = ['sera possivel que sempre vai dar 1 acho que ta viciado']\n",
    "vectteste = cvteste.transform(datateste).toarray()\n",
    "predictteste = clf.predict(vectteste)\n",
    "\n",
    "print(predictteste)"
   ]
  },
  {
   "cell_type": "code",
   "execution_count": null,
   "metadata": {},
   "outputs": [],
   "source": [
    "joblib.dump(classificador_wu, 'lr_classificador_wu.pkl')\n",
    "joblib.dump(vectorizer_wu, 'cv_wu.pkl')\n",
    "print(\"Modelo regressao logistica wu\")\n",
    "#lr_lower = joblib.load('lr_classificador_lower.pkl')"
   ]
  },
  {
   "cell_type": "code",
   "execution_count": null,
   "metadata": {},
   "outputs": [],
   "source": [
    "model_loaded2 = open('lr_classificador_wu.pkl', 'rb')\n",
    "cv_loaded2 = open('cv_wu.pkl', 'rb')\n",
    "clf2 = joblib.load(model_loaded2)\n",
    "cvteste2 = joblib.load(cv_loaded2)\n",
    "\n",
    "datateste2 = ['sera possivel que sempre vai dar 1 acho que ta viciado']\n",
    "\n",
    "#doc2 = nlp(datateste2)\n",
    "#c2 = ' '.join([token.text for token in doc2 if token.text not in pontuacoes and token.text not in stop_word and not token.text.isdigit()])\n",
    "    \n",
    "vectteste2 = cvteste2.transform(datateste2).toarray()\n",
    "predictteste2 = clf2.predict(vectteste2)\n",
    "\n",
    "print(predictteste2)"
   ]
  },
  {
   "cell_type": "code",
   "execution_count": null,
   "metadata": {},
   "outputs": [],
   "source": [
    "joblib.dump(classificador_su, 'lr_classificador_su.pkl')\n",
    "joblib.dump(vectorizer_su, 'cv_su.pkl')\n",
    "print(\"Modelo regressao logistica su\")\n",
    "#lr_lower = joblib.load('lr_classificador_lower.pkl')"
   ]
  },
  {
   "cell_type": "code",
   "execution_count": null,
   "metadata": {},
   "outputs": [],
   "source": [
    "model_loaded3 = open('lr_classificador_su.pkl', 'rb')\n",
    "cv_loaded3 = open('cv_su.pkl', 'rb')\n",
    "clf3 = joblib.load(model_loaded3)\n",
    "cvteste3 = joblib.load(cv_loaded3)\n",
    "\n",
    "datateste3 = ['sera possivel que sempre vai dar 1 acho que ta viciado']\n",
    "vectteste3 = cvteste3.transform(datateste3).toarray()\n",
    "predictteste3 = clf3.predict(vectteste3)\n",
    "\n",
    "print(predictteste3)"
   ]
  },
  {
   "cell_type": "code",
   "execution_count": null,
   "metadata": {},
   "outputs": [],
   "source": []
  }
 ],
 "metadata": {
  "kernelspec": {
   "display_name": "Python 3",
   "language": "python",
   "name": "python3"
  },
  "language_info": {
   "codemirror_mode": {
    "name": "ipython",
    "version": 3
   },
   "file_extension": ".py",
   "mimetype": "text/x-python",
   "name": "python",
   "nbconvert_exporter": "python",
   "pygments_lexer": "ipython3",
   "version": "3.7.6"
  }
 },
 "nbformat": 4,
 "nbformat_minor": 4
}
