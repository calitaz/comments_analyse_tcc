{
 "cells": [
  {
   "cell_type": "markdown",
   "metadata": {},
   "source": [
    "#  Criação e modelagem de machine learning"
   ]
  },
  {
   "cell_type": "markdown",
   "metadata": {},
   "source": [
    "#### Fazer importações"
   ]
  },
  {
   "cell_type": "code",
   "execution_count": 1,
   "metadata": {},
   "outputs": [],
   "source": [
    "# Imports\n",
    "import pandas as pd\n",
    "from sklearn.utils import shuffle\n",
    "import spacy\n",
    "from sklearn.feature_extraction.text import CountVectorizer\n",
    "from sklearn.model_selection import train_test_split\n",
    "from sklearn.metrics import accuracy_score, precision_score, classification_report\n",
    "from sklearn.linear_model import LogisticRegression\n",
    "from sklearn.ensemble import GradientBoostingClassifier\n",
    "import joblib\n",
    "import unidecode\n",
    "from string import punctuation\n",
    "from xgboost import XGBClassifier\n",
    "from sklearn.metrics import confusion_matrix \n",
    "import seaborn as sn\n",
    "import numpy as np \n",
    "import matplotlib.pyplot as plt\n",
    "import pickle\n",
    "\n",
    "# inicializa o nlp do spacy\n",
    "nlp = spacy.load(\"pt_core_news_sm\")"
   ]
  },
  {
   "cell_type": "markdown",
   "metadata": {},
   "source": [
    "#### Leitura da base em JSON"
   ]
  },
  {
   "cell_type": "code",
   "execution_count": 2,
   "metadata": {},
   "outputs": [
    {
     "data": {
      "text/html": [
       "<div>\n",
       "<style scoped>\n",
       "    .dataframe tbody tr th:only-of-type {\n",
       "        vertical-align: middle;\n",
       "    }\n",
       "\n",
       "    .dataframe tbody tr th {\n",
       "        vertical-align: top;\n",
       "    }\n",
       "\n",
       "    .dataframe thead th {\n",
       "        text-align: right;\n",
       "    }\n",
       "</style>\n",
       "<table border=\"1\" class=\"dataframe\">\n",
       "  <thead>\n",
       "    <tr style=\"text-align: right;\">\n",
       "      <th></th>\n",
       "      <th>idcomentario</th>\n",
       "      <th>toxico</th>\n",
       "      <th>comentario</th>\n",
       "      <th>tipo</th>\n",
       "    </tr>\n",
       "  </thead>\n",
       "  <tbody>\n",
       "    <tr>\n",
       "      <th>0</th>\n",
       "      <td>5e52b6f032766bbb6d01c5cc</td>\n",
       "      <td>False</td>\n",
       "      <td>Passando o pacote anti crime na camara e sena...</td>\n",
       "      <td></td>\n",
       "    </tr>\n",
       "    <tr>\n",
       "      <th>1</th>\n",
       "      <td>5e52b83c32766bbb6d01d2c0</td>\n",
       "      <td>False</td>\n",
       "      <td>nossa ai fica dificil...antes sobia 20 reais ...</td>\n",
       "      <td></td>\n",
       "    </tr>\n",
       "    <tr>\n",
       "      <th>2</th>\n",
       "      <td>5e52b83c32766bbb6d01d1e2</td>\n",
       "      <td>False</td>\n",
       "      <td>Até quando ele vai comparar tudo a um casamen...</td>\n",
       "      <td></td>\n",
       "    </tr>\n",
       "    <tr>\n",
       "      <th>3</th>\n",
       "      <td>5e52b84f32766bbb6d01db26</td>\n",
       "      <td>False</td>\n",
       "      <td>99 nunca mais! Usei o 99 para pagar com cartã...</td>\n",
       "      <td></td>\n",
       "    </tr>\n",
       "    <tr>\n",
       "      <th>4</th>\n",
       "      <td>5e52b84f32766bbb6d01d883</td>\n",
       "      <td>False</td>\n",
       "      <td>Já foi confirmado pela UFBA que é óleo venezu...</td>\n",
       "      <td></td>\n",
       "    </tr>\n",
       "  </tbody>\n",
       "</table>\n",
       "</div>"
      ],
      "text/plain": [
       "               idcomentario  toxico  \\\n",
       "0  5e52b6f032766bbb6d01c5cc   False   \n",
       "1  5e52b83c32766bbb6d01d2c0   False   \n",
       "2  5e52b83c32766bbb6d01d1e2   False   \n",
       "3  5e52b84f32766bbb6d01db26   False   \n",
       "4  5e52b84f32766bbb6d01d883   False   \n",
       "\n",
       "                                          comentario tipo  \n",
       "0   Passando o pacote anti crime na camara e sena...       \n",
       "1   nossa ai fica dificil...antes sobia 20 reais ...       \n",
       "2   Até quando ele vai comparar tudo a um casamen...       \n",
       "3   99 nunca mais! Usei o 99 para pagar com cartã...       \n",
       "4   Já foi confirmado pela UFBA que é óleo venezu...       "
      ]
     },
     "execution_count": 2,
     "metadata": {},
     "output_type": "execute_result"
    }
   ],
   "source": [
    "# Ler arquivo Json - arquivo usando com orient=records\n",
    "data = pd.read_json('definedcommentsdf.json')\n",
    "\n",
    "# Cria um dataframe so para os valores das colunas toxico e comentario\n",
    "comments_toxico = data.drop(['link','datahora'], axis=1)\n",
    "comments_toxico.head()"
   ]
  },
  {
   "cell_type": "markdown",
   "metadata": {},
   "source": [
    "## Aqui começa o tratamento da base"
   ]
  },
  {
   "cell_type": "code",
   "execution_count": 3,
   "metadata": {},
   "outputs": [],
   "source": [
    "# Modifica valores false/true para 0,1\n",
    "comments_toxico.loc[(comments_toxico.toxico == True),'toxico'] = 1\n",
    "comments_toxico.loc[(comments_toxico.toxico == False),'toxico'] = 0"
   ]
  },
  {
   "cell_type": "code",
   "execution_count": 4,
   "metadata": {},
   "outputs": [],
   "source": [
    "# DataFrame com toxicos e não toxicos\n",
    "toxic_data = comments_toxico[comments_toxico.toxico == 1]\n",
    "nontoxic_data = comments_toxico[comments_toxico.toxico == 0]"
   ]
  },
  {
   "cell_type": "code",
   "execution_count": 5,
   "metadata": {},
   "outputs": [],
   "source": [
    "# Conta quantidade de cada classificacao\n",
    "count_toxic = toxic_data.shape[0]\n",
    "count_nontoxic = nontoxic_data.shape[0]\n",
    "\n",
    "# Checa a quantidade de cada dataset e deixa 50%/50% de cada classificacao \n",
    "if count_nontoxic > count_toxic:\n",
    "    nontoxic_data = nontoxic_data.sample(count_toxic, replace=True)\n",
    "    \n",
    "if count_toxic > count_nontoxic:\n",
    "    toxic_data = toxic_data.sample(count_nontoxic, replace=True)\n",
    "    \n",
    "# Ignora Warnings de indexação\n",
    "pd.options.mode.chained_assignment = None\n",
    "\n",
    "# Cria contagem de idcomentarios iguais\n",
    "nontoxic_data['amount_idcomentario']= nontoxic_data.idcomentario.map(nontoxic_data.idcomentario.value_counts())\n",
    "toxic_data['amount_idcomentario']= toxic_data.idcomentario.map(toxic_data.idcomentario.value_counts())\n",
    "\n",
    "# Criar listas de apoio\n",
    "data_bigtoxic = [] \n",
    "data_bignontoxic = []\n",
    "dataigual = []\n",
    "for row in nontoxic_data.itertuples():\n",
    "    for row1 in toxic_data.itertuples():\n",
    "        if row1.idcomentario == row.idcomentario and row1.amount_idcomentario > row.amount_idcomentario:\n",
    "            data_bigtoxic.append(row1)\n",
    "        elif row1.idcomentario == row.idcomentario and row1.amount_idcomentario < row.amount_idcomentario:\n",
    "            data_bignontoxic.append(row)\n",
    "        elif row1.idcomentario == row.idcomentario and row1.amount_idcomentario == row.amount_idcomentario:\n",
    "            dataigual.append(row1.idcomentario)\n",
    "            "
   ]
  },
  {
   "cell_type": "code",
   "execution_count": 6,
   "metadata": {},
   "outputs": [],
   "source": [
    "# Recria dataframe com samples de toxic e non toxic, resetando index \n",
    "mergedata = [nontoxic_data,toxic_data]\n",
    "new_dataframe = pd.concat(mergedata)\n",
    "new_dataframe.reset_index(drop=True, inplace=True)"
   ]
  },
  {
   "cell_type": "code",
   "execution_count": 7,
   "metadata": {},
   "outputs": [],
   "source": [
    "# Remove comentarios que tem mesmo valor de toxico e nao toxico\n",
    "data_framefinal = new_dataframe[~new_dataframe.idcomentario.isin(dataigual)]"
   ]
  },
  {
   "cell_type": "code",
   "execution_count": 8,
   "metadata": {
    "scrolled": true
   },
   "outputs": [
    {
     "data": {
      "text/html": [
       "<div>\n",
       "<style scoped>\n",
       "    .dataframe tbody tr th:only-of-type {\n",
       "        vertical-align: middle;\n",
       "    }\n",
       "\n",
       "    .dataframe tbody tr th {\n",
       "        vertical-align: top;\n",
       "    }\n",
       "\n",
       "    .dataframe thead th {\n",
       "        text-align: right;\n",
       "    }\n",
       "</style>\n",
       "<table border=\"1\" class=\"dataframe\">\n",
       "  <thead>\n",
       "    <tr style=\"text-align: right;\">\n",
       "      <th></th>\n",
       "      <th>toxico</th>\n",
       "      <th>comentario</th>\n",
       "    </tr>\n",
       "  </thead>\n",
       "  <tbody>\n",
       "    <tr>\n",
       "      <th>0</th>\n",
       "      <td>0</td>\n",
       "      <td>kkkkkkkk\\n</td>\n",
       "    </tr>\n",
       "    <tr>\n",
       "      <th>1</th>\n",
       "      <td>0</td>\n",
       "      <td>Não faz sentido isso que o porteiro disse uma...</td>\n",
       "    </tr>\n",
       "    <tr>\n",
       "      <th>2</th>\n",
       "      <td>0</td>\n",
       "      <td>O NOME DISSO É USO DA MÁQUINA PÚBLICA PARA BE...</td>\n",
       "    </tr>\n",
       "    <tr>\n",
       "      <th>3</th>\n",
       "      <td>0</td>\n",
       "      <td>Oliveira, não é só pq não é militar que não t...</td>\n",
       "    </tr>\n",
       "    <tr>\n",
       "      <th>4</th>\n",
       "      <td>0</td>\n",
       "      <td>Alarmada*</td>\n",
       "    </tr>\n",
       "    <tr>\n",
       "      <th>...</th>\n",
       "      <td>...</td>\n",
       "      <td>...</td>\n",
       "    </tr>\n",
       "    <tr>\n",
       "      <th>1566</th>\n",
       "      <td>1</td>\n",
       "      <td>Cara chato !</td>\n",
       "    </tr>\n",
       "    <tr>\n",
       "      <th>1567</th>\n",
       "      <td>1</td>\n",
       "      <td>Fala M não vai...</td>\n",
       "    </tr>\n",
       "    <tr>\n",
       "      <th>1570</th>\n",
       "      <td>1</td>\n",
       "      <td>Eu agora vou dormir!!!  Mas vocês não podem!!...</td>\n",
       "    </tr>\n",
       "    <tr>\n",
       "      <th>1572</th>\n",
       "      <td>1</td>\n",
       "      <td>BoIsotrooper, a GIobo de.ve mais de um biIhão...</td>\n",
       "    </tr>\n",
       "    <tr>\n",
       "      <th>1573</th>\n",
       "      <td>1</td>\n",
       "      <td>Tá aí consumidores de drogas essa guerra é po...</td>\n",
       "    </tr>\n",
       "  </tbody>\n",
       "</table>\n",
       "<p>1250 rows × 2 columns</p>\n",
       "</div>"
      ],
      "text/plain": [
       "     toxico                                         comentario\n",
       "0         0                                        kkkkkkkk\\n \n",
       "1         0   Não faz sentido isso que o porteiro disse uma...\n",
       "2         0   O NOME DISSO É USO DA MÁQUINA PÚBLICA PARA BE...\n",
       "3         0   Oliveira, não é só pq não é militar que não t...\n",
       "4         0                                         Alarmada* \n",
       "...     ...                                                ...\n",
       "1566      1                                      Cara chato ! \n",
       "1567      1                                 Fala M não vai... \n",
       "1570      1   Eu agora vou dormir!!!  Mas vocês não podem!!...\n",
       "1572      1   BoIsotrooper, a GIobo de.ve mais de um biIhão...\n",
       "1573      1   Tá aí consumidores de drogas essa guerra é po...\n",
       "\n",
       "[1250 rows x 2 columns]"
      ]
     },
     "execution_count": 8,
     "metadata": {},
     "output_type": "execute_result"
    }
   ],
   "source": [
    "# DataFrame axuliar para criar tokens do nlp do spacy\n",
    "comentarios_df = data_framefinal.drop(['idcomentario','tipo','amount_idcomentario'], axis=1)\n",
    "comentarios_df = comentarios_df.drop_duplicates(subset=['toxico', 'comentario'], keep='first') # remove itens duplicados\n",
    "comentarios_df"
   ]
  },
  {
   "cell_type": "markdown",
   "metadata": {},
   "source": [
    "## Aqui começa o pré-processamento"
   ]
  },
  {
   "cell_type": "markdown",
   "metadata": {},
   "source": [
    "#### Cada pré-processamento foi separado em uma coluna do DataFrame de forma a treinar a ML individualmente para cada coluna do DataFrame"
   ]
  },
  {
   "cell_type": "code",
   "execution_count": 9,
   "metadata": {},
   "outputs": [
    {
     "data": {
      "text/html": [
       "<div>\n",
       "<style scoped>\n",
       "    .dataframe tbody tr th:only-of-type {\n",
       "        vertical-align: middle;\n",
       "    }\n",
       "\n",
       "    .dataframe tbody tr th {\n",
       "        vertical-align: top;\n",
       "    }\n",
       "\n",
       "    .dataframe thead th {\n",
       "        text-align: right;\n",
       "    }\n",
       "</style>\n",
       "<table border=\"1\" class=\"dataframe\">\n",
       "  <thead>\n",
       "    <tr style=\"text-align: right;\">\n",
       "      <th></th>\n",
       "      <th>toxico</th>\n",
       "      <th>comentario</th>\n",
       "    </tr>\n",
       "  </thead>\n",
       "  <tbody>\n",
       "    <tr>\n",
       "      <th>0</th>\n",
       "      <td>0</td>\n",
       "      <td>kkkkkkkk</td>\n",
       "    </tr>\n",
       "    <tr>\n",
       "      <th>1</th>\n",
       "      <td>0</td>\n",
       "      <td>Não faz sentido isso que o porteiro disse uma...</td>\n",
       "    </tr>\n",
       "    <tr>\n",
       "      <th>2</th>\n",
       "      <td>0</td>\n",
       "      <td>O NOME DISSO É USO DA MÁQUINA PÚBLICA PARA BE...</td>\n",
       "    </tr>\n",
       "    <tr>\n",
       "      <th>3</th>\n",
       "      <td>0</td>\n",
       "      <td>Oliveira, não é só pq não é militar que não t...</td>\n",
       "    </tr>\n",
       "    <tr>\n",
       "      <th>4</th>\n",
       "      <td>0</td>\n",
       "      <td>Alarmada*</td>\n",
       "    </tr>\n",
       "    <tr>\n",
       "      <th>...</th>\n",
       "      <td>...</td>\n",
       "      <td>...</td>\n",
       "    </tr>\n",
       "    <tr>\n",
       "      <th>1566</th>\n",
       "      <td>1</td>\n",
       "      <td>Cara chato !</td>\n",
       "    </tr>\n",
       "    <tr>\n",
       "      <th>1567</th>\n",
       "      <td>1</td>\n",
       "      <td>Fala M não vai...</td>\n",
       "    </tr>\n",
       "    <tr>\n",
       "      <th>1570</th>\n",
       "      <td>1</td>\n",
       "      <td>Eu agora vou dormir!!!  Mas vocês não podem!!...</td>\n",
       "    </tr>\n",
       "    <tr>\n",
       "      <th>1572</th>\n",
       "      <td>1</td>\n",
       "      <td>BoIsotrooper, a GIobo de.ve mais de um biIhão...</td>\n",
       "    </tr>\n",
       "    <tr>\n",
       "      <th>1573</th>\n",
       "      <td>1</td>\n",
       "      <td>Tá aí consumidores de drogas essa guerra é po...</td>\n",
       "    </tr>\n",
       "  </tbody>\n",
       "</table>\n",
       "<p>1250 rows × 2 columns</p>\n",
       "</div>"
      ],
      "text/plain": [
       "      toxico                                         comentario\n",
       "0          0                                         kkkkkkkk  \n",
       "1          0   Não faz sentido isso que o porteiro disse uma...\n",
       "2          0   O NOME DISSO É USO DA MÁQUINA PÚBLICA PARA BE...\n",
       "3          0   Oliveira, não é só pq não é militar que não t...\n",
       "4          0                                         Alarmada* \n",
       "...      ...                                                ...\n",
       "1566       1                                      Cara chato ! \n",
       "1567       1                                 Fala M não vai... \n",
       "1570       1   Eu agora vou dormir!!!  Mas vocês não podem!!...\n",
       "1572       1   BoIsotrooper, a GIobo de.ve mais de um biIhão...\n",
       "1573       1   Tá aí consumidores de drogas essa guerra é po...\n",
       "\n",
       "[1250 rows x 2 columns]"
      ]
     },
     "execution_count": 9,
     "metadata": {},
     "output_type": "execute_result"
    }
   ],
   "source": [
    "comentarios_df = comentarios_df.replace(r'\\n', ' ', regex=True) \n",
    "comentarios_df"
   ]
  },
  {
   "cell_type": "code",
   "execution_count": 10,
   "metadata": {},
   "outputs": [
    {
     "data": {
      "text/html": [
       "<div>\n",
       "<style scoped>\n",
       "    .dataframe tbody tr th:only-of-type {\n",
       "        vertical-align: middle;\n",
       "    }\n",
       "\n",
       "    .dataframe tbody tr th {\n",
       "        vertical-align: top;\n",
       "    }\n",
       "\n",
       "    .dataframe thead th {\n",
       "        text-align: right;\n",
       "    }\n",
       "</style>\n",
       "<table border=\"1\" class=\"dataframe\">\n",
       "  <thead>\n",
       "    <tr style=\"text-align: right;\">\n",
       "      <th></th>\n",
       "      <th>toxico</th>\n",
       "      <th>comentario</th>\n",
       "      <th>minusculo</th>\n",
       "    </tr>\n",
       "  </thead>\n",
       "  <tbody>\n",
       "    <tr>\n",
       "      <th>0</th>\n",
       "      <td>0</td>\n",
       "      <td>kkkkkkkk</td>\n",
       "      <td>kkkkkkkk</td>\n",
       "    </tr>\n",
       "    <tr>\n",
       "      <th>1</th>\n",
       "      <td>0</td>\n",
       "      <td>Não faz sentido isso que o porteiro disse uma...</td>\n",
       "      <td>não faz sentido isso que o porteiro disse uma...</td>\n",
       "    </tr>\n",
       "    <tr>\n",
       "      <th>2</th>\n",
       "      <td>0</td>\n",
       "      <td>O NOME DISSO É USO DA MÁQUINA PÚBLICA PARA BE...</td>\n",
       "      <td>o nome disso é uso da máquina pública para be...</td>\n",
       "    </tr>\n",
       "    <tr>\n",
       "      <th>3</th>\n",
       "      <td>0</td>\n",
       "      <td>Oliveira, não é só pq não é militar que não t...</td>\n",
       "      <td>oliveira, não é só pq não é militar que não t...</td>\n",
       "    </tr>\n",
       "    <tr>\n",
       "      <th>4</th>\n",
       "      <td>0</td>\n",
       "      <td>Alarmada*</td>\n",
       "      <td>alarmada*</td>\n",
       "    </tr>\n",
       "    <tr>\n",
       "      <th>...</th>\n",
       "      <td>...</td>\n",
       "      <td>...</td>\n",
       "      <td>...</td>\n",
       "    </tr>\n",
       "    <tr>\n",
       "      <th>1566</th>\n",
       "      <td>1</td>\n",
       "      <td>Cara chato !</td>\n",
       "      <td>cara chato !</td>\n",
       "    </tr>\n",
       "    <tr>\n",
       "      <th>1567</th>\n",
       "      <td>1</td>\n",
       "      <td>Fala M não vai...</td>\n",
       "      <td>fala m não vai...</td>\n",
       "    </tr>\n",
       "    <tr>\n",
       "      <th>1570</th>\n",
       "      <td>1</td>\n",
       "      <td>Eu agora vou dormir!!!  Mas vocês não podem!!...</td>\n",
       "      <td>eu agora vou dormir!!!  mas vocês não podem!!...</td>\n",
       "    </tr>\n",
       "    <tr>\n",
       "      <th>1572</th>\n",
       "      <td>1</td>\n",
       "      <td>BoIsotrooper, a GIobo de.ve mais de um biIhão...</td>\n",
       "      <td>boisotrooper, a giobo de.ve mais de um biihão...</td>\n",
       "    </tr>\n",
       "    <tr>\n",
       "      <th>1573</th>\n",
       "      <td>1</td>\n",
       "      <td>Tá aí consumidores de drogas essa guerra é po...</td>\n",
       "      <td>tá aí consumidores de drogas essa guerra é po...</td>\n",
       "    </tr>\n",
       "  </tbody>\n",
       "</table>\n",
       "<p>1250 rows × 3 columns</p>\n",
       "</div>"
      ],
      "text/plain": [
       "      toxico                                         comentario  \\\n",
       "0          0                                         kkkkkkkk     \n",
       "1          0   Não faz sentido isso que o porteiro disse uma...   \n",
       "2          0   O NOME DISSO É USO DA MÁQUINA PÚBLICA PARA BE...   \n",
       "3          0   Oliveira, não é só pq não é militar que não t...   \n",
       "4          0                                         Alarmada*    \n",
       "...      ...                                                ...   \n",
       "1566       1                                      Cara chato !    \n",
       "1567       1                                 Fala M não vai...    \n",
       "1570       1   Eu agora vou dormir!!!  Mas vocês não podem!!...   \n",
       "1572       1   BoIsotrooper, a GIobo de.ve mais de um biIhão...   \n",
       "1573       1   Tá aí consumidores de drogas essa guerra é po...   \n",
       "\n",
       "                                              minusculo  \n",
       "0                                            kkkkkkkk    \n",
       "1      não faz sentido isso que o porteiro disse uma...  \n",
       "2      o nome disso é uso da máquina pública para be...  \n",
       "3      oliveira, não é só pq não é militar que não t...  \n",
       "4                                            alarmada*   \n",
       "...                                                 ...  \n",
       "1566                                      cara chato !   \n",
       "1567                                 fala m não vai...   \n",
       "1570   eu agora vou dormir!!!  mas vocês não podem!!...  \n",
       "1572   boisotrooper, a giobo de.ve mais de um biihão...  \n",
       "1573   tá aí consumidores de drogas essa guerra é po...  \n",
       "\n",
       "[1250 rows x 3 columns]"
      ]
     },
     "execution_count": 10,
     "metadata": {},
     "output_type": "execute_result"
    }
   ],
   "source": [
    "# Transforma todas as letras em minusculo\n",
    "minusculo = []\n",
    "for comentario in comentarios_df['comentario']:\n",
    "    minusculo.append(comentario.lower())\n",
    "    \n",
    "comentarios_df['minusculo'] = minusculo\n",
    "\n",
    "comentarios_df"
   ]
  },
  {
   "cell_type": "code",
   "execution_count": 11,
   "metadata": {
    "scrolled": true
   },
   "outputs": [
    {
     "data": {
      "text/html": [
       "<div>\n",
       "<style scoped>\n",
       "    .dataframe tbody tr th:only-of-type {\n",
       "        vertical-align: middle;\n",
       "    }\n",
       "\n",
       "    .dataframe tbody tr th {\n",
       "        vertical-align: top;\n",
       "    }\n",
       "\n",
       "    .dataframe thead th {\n",
       "        text-align: right;\n",
       "    }\n",
       "</style>\n",
       "<table border=\"1\" class=\"dataframe\">\n",
       "  <thead>\n",
       "    <tr style=\"text-align: right;\">\n",
       "      <th></th>\n",
       "      <th>toxico</th>\n",
       "      <th>comentario</th>\n",
       "      <th>minusculo</th>\n",
       "      <th>whitespacesnone</th>\n",
       "    </tr>\n",
       "  </thead>\n",
       "  <tbody>\n",
       "    <tr>\n",
       "      <th>0</th>\n",
       "      <td>0</td>\n",
       "      <td>kkkkkkkk</td>\n",
       "      <td>kkkkkkkk</td>\n",
       "      <td>kkkkkkkk</td>\n",
       "    </tr>\n",
       "    <tr>\n",
       "      <th>1</th>\n",
       "      <td>0</td>\n",
       "      <td>Não faz sentido isso que o porteiro disse uma...</td>\n",
       "      <td>não faz sentido isso que o porteiro disse uma...</td>\n",
       "      <td>não faz sentido isso que o porteiro disse uma ...</td>\n",
       "    </tr>\n",
       "    <tr>\n",
       "      <th>2</th>\n",
       "      <td>0</td>\n",
       "      <td>O NOME DISSO É USO DA MÁQUINA PÚBLICA PARA BE...</td>\n",
       "      <td>o nome disso é uso da máquina pública para be...</td>\n",
       "      <td>o nome disso é uso da máquina pública para ben...</td>\n",
       "    </tr>\n",
       "    <tr>\n",
       "      <th>3</th>\n",
       "      <td>0</td>\n",
       "      <td>Oliveira, não é só pq não é militar que não t...</td>\n",
       "      <td>oliveira, não é só pq não é militar que não t...</td>\n",
       "      <td>oliveira, não é só pq não é militar que não te...</td>\n",
       "    </tr>\n",
       "    <tr>\n",
       "      <th>4</th>\n",
       "      <td>0</td>\n",
       "      <td>Alarmada*</td>\n",
       "      <td>alarmada*</td>\n",
       "      <td>alarmada*</td>\n",
       "    </tr>\n",
       "    <tr>\n",
       "      <th>...</th>\n",
       "      <td>...</td>\n",
       "      <td>...</td>\n",
       "      <td>...</td>\n",
       "      <td>...</td>\n",
       "    </tr>\n",
       "    <tr>\n",
       "      <th>1566</th>\n",
       "      <td>1</td>\n",
       "      <td>Cara chato !</td>\n",
       "      <td>cara chato !</td>\n",
       "      <td>cara chato !</td>\n",
       "    </tr>\n",
       "    <tr>\n",
       "      <th>1567</th>\n",
       "      <td>1</td>\n",
       "      <td>Fala M não vai...</td>\n",
       "      <td>fala m não vai...</td>\n",
       "      <td>fala m não vai...</td>\n",
       "    </tr>\n",
       "    <tr>\n",
       "      <th>1570</th>\n",
       "      <td>1</td>\n",
       "      <td>Eu agora vou dormir!!!  Mas vocês não podem!!...</td>\n",
       "      <td>eu agora vou dormir!!!  mas vocês não podem!!...</td>\n",
       "      <td>eu agora vou dormir!!!  mas vocês não podem!!!...</td>\n",
       "    </tr>\n",
       "    <tr>\n",
       "      <th>1572</th>\n",
       "      <td>1</td>\n",
       "      <td>BoIsotrooper, a GIobo de.ve mais de um biIhão...</td>\n",
       "      <td>boisotrooper, a giobo de.ve mais de um biihão...</td>\n",
       "      <td>boisotrooper, a giobo de.ve mais de um biihão ...</td>\n",
       "    </tr>\n",
       "    <tr>\n",
       "      <th>1573</th>\n",
       "      <td>1</td>\n",
       "      <td>Tá aí consumidores de drogas essa guerra é po...</td>\n",
       "      <td>tá aí consumidores de drogas essa guerra é po...</td>\n",
       "      <td>tá aí consumidores de drogas essa guerra é por...</td>\n",
       "    </tr>\n",
       "  </tbody>\n",
       "</table>\n",
       "<p>1250 rows × 4 columns</p>\n",
       "</div>"
      ],
      "text/plain": [
       "      toxico                                         comentario  \\\n",
       "0          0                                         kkkkkkkk     \n",
       "1          0   Não faz sentido isso que o porteiro disse uma...   \n",
       "2          0   O NOME DISSO É USO DA MÁQUINA PÚBLICA PARA BE...   \n",
       "3          0   Oliveira, não é só pq não é militar que não t...   \n",
       "4          0                                         Alarmada*    \n",
       "...      ...                                                ...   \n",
       "1566       1                                      Cara chato !    \n",
       "1567       1                                 Fala M não vai...    \n",
       "1570       1   Eu agora vou dormir!!!  Mas vocês não podem!!...   \n",
       "1572       1   BoIsotrooper, a GIobo de.ve mais de um biIhão...   \n",
       "1573       1   Tá aí consumidores de drogas essa guerra é po...   \n",
       "\n",
       "                                              minusculo  \\\n",
       "0                                            kkkkkkkk     \n",
       "1      não faz sentido isso que o porteiro disse uma...   \n",
       "2      o nome disso é uso da máquina pública para be...   \n",
       "3      oliveira, não é só pq não é militar que não t...   \n",
       "4                                            alarmada*    \n",
       "...                                                 ...   \n",
       "1566                                      cara chato !    \n",
       "1567                                 fala m não vai...    \n",
       "1570   eu agora vou dormir!!!  mas vocês não podem!!...   \n",
       "1572   boisotrooper, a giobo de.ve mais de um biihão...   \n",
       "1573   tá aí consumidores de drogas essa guerra é po...   \n",
       "\n",
       "                                        whitespacesnone  \n",
       "0                                              kkkkkkkk  \n",
       "1     não faz sentido isso que o porteiro disse uma ...  \n",
       "2     o nome disso é uso da máquina pública para ben...  \n",
       "3     oliveira, não é só pq não é militar que não te...  \n",
       "4                                             alarmada*  \n",
       "...                                                 ...  \n",
       "1566                                       cara chato !  \n",
       "1567                                  fala m não vai...  \n",
       "1570  eu agora vou dormir!!!  mas vocês não podem!!!...  \n",
       "1572  boisotrooper, a giobo de.ve mais de um biihão ...  \n",
       "1573  tá aí consumidores de drogas essa guerra é por...  \n",
       "\n",
       "[1250 rows x 4 columns]"
      ]
     },
     "execution_count": 11,
     "metadata": {},
     "output_type": "execute_result"
    }
   ],
   "source": [
    "# Remove espaços em brancos das strings\n",
    "comentarios_df['whitespacesnone'] = [comentario.strip() for comentario in comentarios_df['minusculo']] # unidecode\n",
    "\n",
    "comentarios_df"
   ]
  },
  {
   "cell_type": "code",
   "execution_count": 12,
   "metadata": {},
   "outputs": [],
   "source": [
    "# Remove acentuação\n",
    "comentarios_df['unidecode'] = [unidecode.unidecode(comentario) for comentario in comentarios_df['whitespacesnone']]"
   ]
  },
  {
   "cell_type": "code",
   "execution_count": 13,
   "metadata": {
    "scrolled": true
   },
   "outputs": [
    {
     "data": {
      "text/html": [
       "<div>\n",
       "<style scoped>\n",
       "    .dataframe tbody tr th:only-of-type {\n",
       "        vertical-align: middle;\n",
       "    }\n",
       "\n",
       "    .dataframe tbody tr th {\n",
       "        vertical-align: top;\n",
       "    }\n",
       "\n",
       "    .dataframe thead th {\n",
       "        text-align: right;\n",
       "    }\n",
       "</style>\n",
       "<table border=\"1\" class=\"dataframe\">\n",
       "  <thead>\n",
       "    <tr style=\"text-align: right;\">\n",
       "      <th></th>\n",
       "      <th>toxico</th>\n",
       "      <th>comentario</th>\n",
       "      <th>minusculo</th>\n",
       "      <th>whitespacesnone</th>\n",
       "      <th>unidecode</th>\n",
       "      <th>comentario_final_su</th>\n",
       "    </tr>\n",
       "  </thead>\n",
       "  <tbody>\n",
       "    <tr>\n",
       "      <th>0</th>\n",
       "      <td>0</td>\n",
       "      <td>kkkkkkkk</td>\n",
       "      <td>kkkkkkkk</td>\n",
       "      <td>kkkkkkkk</td>\n",
       "      <td>kkkkkkkk</td>\n",
       "      <td>kkkkkkkk</td>\n",
       "    </tr>\n",
       "    <tr>\n",
       "      <th>1</th>\n",
       "      <td>0</td>\n",
       "      <td>Não faz sentido isso que o porteiro disse uma...</td>\n",
       "      <td>não faz sentido isso que o porteiro disse uma...</td>\n",
       "      <td>não faz sentido isso que o porteiro disse uma ...</td>\n",
       "      <td>nao faz sentido isso que o porteiro disse uma ...</td>\n",
       "      <td>sentido o porteiro disse o presidentebolsonaro...</td>\n",
       "    </tr>\n",
       "    <tr>\n",
       "      <th>2</th>\n",
       "      <td>0</td>\n",
       "      <td>O NOME DISSO É USO DA MÁQUINA PÚBLICA PARA BE...</td>\n",
       "      <td>o nome disso é uso da máquina pública para be...</td>\n",
       "      <td>o nome disso é uso da máquina pública para ben...</td>\n",
       "      <td>o nome disso e uso da maquina publica para ben...</td>\n",
       "      <td>o nome d uso máquina pública benefício ... est...</td>\n",
       "    </tr>\n",
       "    <tr>\n",
       "      <th>3</th>\n",
       "      <td>0</td>\n",
       "      <td>Oliveira, não é só pq não é militar que não t...</td>\n",
       "      <td>oliveira, não é só pq não é militar que não t...</td>\n",
       "      <td>oliveira, não é só pq não é militar que não te...</td>\n",
       "      <td>oliveira, nao e so pq nao e militar que nao te...</td>\n",
       "      <td>oliveira pq militar treinamento</td>\n",
       "    </tr>\n",
       "    <tr>\n",
       "      <th>4</th>\n",
       "      <td>0</td>\n",
       "      <td>Alarmada*</td>\n",
       "      <td>alarmada*</td>\n",
       "      <td>alarmada*</td>\n",
       "      <td>alarmada*</td>\n",
       "      <td>alarmada</td>\n",
       "    </tr>\n",
       "    <tr>\n",
       "      <th>...</th>\n",
       "      <td>...</td>\n",
       "      <td>...</td>\n",
       "      <td>...</td>\n",
       "      <td>...</td>\n",
       "      <td>...</td>\n",
       "      <td>...</td>\n",
       "    </tr>\n",
       "    <tr>\n",
       "      <th>1566</th>\n",
       "      <td>1</td>\n",
       "      <td>Cara chato !</td>\n",
       "      <td>cara chato !</td>\n",
       "      <td>cara chato !</td>\n",
       "      <td>cara chato !</td>\n",
       "      <td>cara chato</td>\n",
       "    </tr>\n",
       "    <tr>\n",
       "      <th>1567</th>\n",
       "      <td>1</td>\n",
       "      <td>Fala M não vai...</td>\n",
       "      <td>fala m não vai...</td>\n",
       "      <td>fala m não vai...</td>\n",
       "      <td>fala m nao vai...</td>\n",
       "      <td>fala m ...</td>\n",
       "    </tr>\n",
       "    <tr>\n",
       "      <th>1570</th>\n",
       "      <td>1</td>\n",
       "      <td>Eu agora vou dormir!!!  Mas vocês não podem!!...</td>\n",
       "      <td>eu agora vou dormir!!!  mas vocês não podem!!...</td>\n",
       "      <td>eu agora vou dormir!!!  mas vocês não podem!!!...</td>\n",
       "      <td>eu agora vou dormir!!!  mas voces nao podem!!!...</td>\n",
       "      <td>vou dormir      o plantão completo senão o dindin</td>\n",
       "    </tr>\n",
       "    <tr>\n",
       "      <th>1572</th>\n",
       "      <td>1</td>\n",
       "      <td>BoIsotrooper, a GIobo de.ve mais de um biIhão...</td>\n",
       "      <td>boisotrooper, a giobo de.ve mais de um biihão...</td>\n",
       "      <td>boisotrooper, a giobo de.ve mais de um biihão ...</td>\n",
       "      <td>boisotrooper, a giobo de.ve mais de um biihao ...</td>\n",
       "      <td>boisotrooper a giobo de.ve biihão o flsc0 e co...</td>\n",
       "    </tr>\n",
       "    <tr>\n",
       "      <th>1573</th>\n",
       "      <td>1</td>\n",
       "      <td>Tá aí consumidores de drogas essa guerra é po...</td>\n",
       "      <td>tá aí consumidores de drogas essa guerra é po...</td>\n",
       "      <td>tá aí consumidores de drogas essa guerra é por...</td>\n",
       "      <td>ta ai consumidores de drogas essa guerra e por...</td>\n",
       "      <td>tá consumidores drogas guerra vcs kd o freixo ...</td>\n",
       "    </tr>\n",
       "  </tbody>\n",
       "</table>\n",
       "<p>1250 rows × 6 columns</p>\n",
       "</div>"
      ],
      "text/plain": [
       "      toxico                                         comentario  \\\n",
       "0          0                                         kkkkkkkk     \n",
       "1          0   Não faz sentido isso que o porteiro disse uma...   \n",
       "2          0   O NOME DISSO É USO DA MÁQUINA PÚBLICA PARA BE...   \n",
       "3          0   Oliveira, não é só pq não é militar que não t...   \n",
       "4          0                                         Alarmada*    \n",
       "...      ...                                                ...   \n",
       "1566       1                                      Cara chato !    \n",
       "1567       1                                 Fala M não vai...    \n",
       "1570       1   Eu agora vou dormir!!!  Mas vocês não podem!!...   \n",
       "1572       1   BoIsotrooper, a GIobo de.ve mais de um biIhão...   \n",
       "1573       1   Tá aí consumidores de drogas essa guerra é po...   \n",
       "\n",
       "                                              minusculo  \\\n",
       "0                                            kkkkkkkk     \n",
       "1      não faz sentido isso que o porteiro disse uma...   \n",
       "2      o nome disso é uso da máquina pública para be...   \n",
       "3      oliveira, não é só pq não é militar que não t...   \n",
       "4                                            alarmada*    \n",
       "...                                                 ...   \n",
       "1566                                      cara chato !    \n",
       "1567                                 fala m não vai...    \n",
       "1570   eu agora vou dormir!!!  mas vocês não podem!!...   \n",
       "1572   boisotrooper, a giobo de.ve mais de um biihão...   \n",
       "1573   tá aí consumidores de drogas essa guerra é po...   \n",
       "\n",
       "                                        whitespacesnone  \\\n",
       "0                                              kkkkkkkk   \n",
       "1     não faz sentido isso que o porteiro disse uma ...   \n",
       "2     o nome disso é uso da máquina pública para ben...   \n",
       "3     oliveira, não é só pq não é militar que não te...   \n",
       "4                                             alarmada*   \n",
       "...                                                 ...   \n",
       "1566                                       cara chato !   \n",
       "1567                                  fala m não vai...   \n",
       "1570  eu agora vou dormir!!!  mas vocês não podem!!!...   \n",
       "1572  boisotrooper, a giobo de.ve mais de um biihão ...   \n",
       "1573  tá aí consumidores de drogas essa guerra é por...   \n",
       "\n",
       "                                              unidecode  \\\n",
       "0                                              kkkkkkkk   \n",
       "1     nao faz sentido isso que o porteiro disse uma ...   \n",
       "2     o nome disso e uso da maquina publica para ben...   \n",
       "3     oliveira, nao e so pq nao e militar que nao te...   \n",
       "4                                             alarmada*   \n",
       "...                                                 ...   \n",
       "1566                                       cara chato !   \n",
       "1567                                  fala m nao vai...   \n",
       "1570  eu agora vou dormir!!!  mas voces nao podem!!!...   \n",
       "1572  boisotrooper, a giobo de.ve mais de um biihao ...   \n",
       "1573  ta ai consumidores de drogas essa guerra e por...   \n",
       "\n",
       "                                    comentario_final_su  \n",
       "0                                              kkkkkkkk  \n",
       "1     sentido o porteiro disse o presidentebolsonaro...  \n",
       "2     o nome d uso máquina pública benefício ... est...  \n",
       "3                       oliveira pq militar treinamento  \n",
       "4                                              alarmada  \n",
       "...                                                 ...  \n",
       "1566                                         cara chato  \n",
       "1567                                         fala m ...  \n",
       "1570  vou dormir      o plantão completo senão o dindin  \n",
       "1572  boisotrooper a giobo de.ve biihão o flsc0 e co...  \n",
       "1573  tá consumidores drogas guerra vcs kd o freixo ...  \n",
       "\n",
       "[1250 rows x 6 columns]"
      ]
     },
     "execution_count": 13,
     "metadata": {},
     "output_type": "execute_result"
    }
   ],
   "source": [
    "# Remove pontuação, stopwords, números soltos e gera os tokens SEM UNIDECODE\n",
    "pontuacoes = list(punctuation)\n",
    "novo_comentario = []\n",
    "stop_word = list(nlp.Defaults.stop_words) \n",
    "\n",
    "for comentario in comentarios_df['whitespacesnone']:\n",
    "    doc = nlp(comentario)\n",
    "    c = ' '.join([token.text for token in doc if token.text not in pontuacoes and token.text not in stop_word and not token.text.isdigit()])\n",
    "    novo_comentario.append(c)\n",
    "    \n",
    "comentarios_df['comentario_final_su'] = novo_comentario\n",
    "comentarios_df"
   ]
  },
  {
   "cell_type": "code",
   "execution_count": 14,
   "metadata": {},
   "outputs": [
    {
     "data": {
      "text/html": [
       "<div>\n",
       "<style scoped>\n",
       "    .dataframe tbody tr th:only-of-type {\n",
       "        vertical-align: middle;\n",
       "    }\n",
       "\n",
       "    .dataframe tbody tr th {\n",
       "        vertical-align: top;\n",
       "    }\n",
       "\n",
       "    .dataframe thead th {\n",
       "        text-align: right;\n",
       "    }\n",
       "</style>\n",
       "<table border=\"1\" class=\"dataframe\">\n",
       "  <thead>\n",
       "    <tr style=\"text-align: right;\">\n",
       "      <th></th>\n",
       "      <th>toxico</th>\n",
       "      <th>comentario</th>\n",
       "      <th>minusculo</th>\n",
       "      <th>whitespacesnone</th>\n",
       "      <th>unidecode</th>\n",
       "      <th>comentario_final_su</th>\n",
       "      <th>comentario_final_wu</th>\n",
       "    </tr>\n",
       "  </thead>\n",
       "  <tbody>\n",
       "    <tr>\n",
       "      <th>0</th>\n",
       "      <td>0</td>\n",
       "      <td>kkkkkkkk</td>\n",
       "      <td>kkkkkkkk</td>\n",
       "      <td>kkkkkkkk</td>\n",
       "      <td>kkkkkkkk</td>\n",
       "      <td>kkkkkkkk</td>\n",
       "      <td>kkkkkkkk</td>\n",
       "    </tr>\n",
       "    <tr>\n",
       "      <th>1</th>\n",
       "      <td>0</td>\n",
       "      <td>Não faz sentido isso que o porteiro disse uma...</td>\n",
       "      <td>não faz sentido isso que o porteiro disse uma...</td>\n",
       "      <td>não faz sentido isso que o porteiro disse uma ...</td>\n",
       "      <td>nao faz sentido isso que o porteiro disse uma ...</td>\n",
       "      <td>sentido o porteiro disse o presidentebolsonaro...</td>\n",
       "      <td>nao sentido o porteiro disse o presidentebolso...</td>\n",
       "    </tr>\n",
       "    <tr>\n",
       "      <th>2</th>\n",
       "      <td>0</td>\n",
       "      <td>O NOME DISSO É USO DA MÁQUINA PÚBLICA PARA BE...</td>\n",
       "      <td>o nome disso é uso da máquina pública para be...</td>\n",
       "      <td>o nome disso é uso da máquina pública para ben...</td>\n",
       "      <td>o nome disso e uso da maquina publica para ben...</td>\n",
       "      <td>o nome d uso máquina pública benefício ... est...</td>\n",
       "      <td>o nome d e uso maquina publica beneficio propr...</td>\n",
       "    </tr>\n",
       "    <tr>\n",
       "      <th>3</th>\n",
       "      <td>0</td>\n",
       "      <td>Oliveira, não é só pq não é militar que não t...</td>\n",
       "      <td>oliveira, não é só pq não é militar que não t...</td>\n",
       "      <td>oliveira, não é só pq não é militar que não te...</td>\n",
       "      <td>oliveira, nao e so pq nao e militar que nao te...</td>\n",
       "      <td>oliveira pq militar treinamento</td>\n",
       "      <td>oliveira nao e so pq nao e militar nao treinam...</td>\n",
       "    </tr>\n",
       "    <tr>\n",
       "      <th>4</th>\n",
       "      <td>0</td>\n",
       "      <td>Alarmada*</td>\n",
       "      <td>alarmada*</td>\n",
       "      <td>alarmada*</td>\n",
       "      <td>alarmada*</td>\n",
       "      <td>alarmada</td>\n",
       "      <td>alarmada</td>\n",
       "    </tr>\n",
       "    <tr>\n",
       "      <th>...</th>\n",
       "      <td>...</td>\n",
       "      <td>...</td>\n",
       "      <td>...</td>\n",
       "      <td>...</td>\n",
       "      <td>...</td>\n",
       "      <td>...</td>\n",
       "      <td>...</td>\n",
       "    </tr>\n",
       "    <tr>\n",
       "      <th>1566</th>\n",
       "      <td>1</td>\n",
       "      <td>Cara chato !</td>\n",
       "      <td>cara chato !</td>\n",
       "      <td>cara chato !</td>\n",
       "      <td>cara chato !</td>\n",
       "      <td>cara chato</td>\n",
       "      <td>cara chato</td>\n",
       "    </tr>\n",
       "    <tr>\n",
       "      <th>1567</th>\n",
       "      <td>1</td>\n",
       "      <td>Fala M não vai...</td>\n",
       "      <td>fala m não vai...</td>\n",
       "      <td>fala m não vai...</td>\n",
       "      <td>fala m nao vai...</td>\n",
       "      <td>fala m ...</td>\n",
       "      <td>fala m nao ...</td>\n",
       "    </tr>\n",
       "    <tr>\n",
       "      <th>1570</th>\n",
       "      <td>1</td>\n",
       "      <td>Eu agora vou dormir!!!  Mas vocês não podem!!...</td>\n",
       "      <td>eu agora vou dormir!!!  mas vocês não podem!!...</td>\n",
       "      <td>eu agora vou dormir!!!  mas vocês não podem!!!...</td>\n",
       "      <td>eu agora vou dormir!!!  mas voces nao podem!!!...</td>\n",
       "      <td>vou dormir      o plantão completo senão o dindin</td>\n",
       "      <td>vou dormir   voces nao    o plantao completo s...</td>\n",
       "    </tr>\n",
       "    <tr>\n",
       "      <th>1572</th>\n",
       "      <td>1</td>\n",
       "      <td>BoIsotrooper, a GIobo de.ve mais de um biIhão...</td>\n",
       "      <td>boisotrooper, a giobo de.ve mais de um biihão...</td>\n",
       "      <td>boisotrooper, a giobo de.ve mais de um biihão ...</td>\n",
       "      <td>boisotrooper, a giobo de.ve mais de um biihao ...</td>\n",
       "      <td>boisotrooper a giobo de.ve biihão o flsc0 e co...</td>\n",
       "      <td>boisotrooper a giobo de.ve biihao o flsc0 e co...</td>\n",
       "    </tr>\n",
       "    <tr>\n",
       "      <th>1573</th>\n",
       "      <td>1</td>\n",
       "      <td>Tá aí consumidores de drogas essa guerra é po...</td>\n",
       "      <td>tá aí consumidores de drogas essa guerra é po...</td>\n",
       "      <td>tá aí consumidores de drogas essa guerra é por...</td>\n",
       "      <td>ta ai consumidores de drogas essa guerra e por...</td>\n",
       "      <td>tá consumidores drogas guerra vcs kd o freixo ...</td>\n",
       "      <td>ta ai consumidores drogas guerra e vcs kd o fr...</td>\n",
       "    </tr>\n",
       "  </tbody>\n",
       "</table>\n",
       "<p>1250 rows × 7 columns</p>\n",
       "</div>"
      ],
      "text/plain": [
       "      toxico                                         comentario  \\\n",
       "0          0                                         kkkkkkkk     \n",
       "1          0   Não faz sentido isso que o porteiro disse uma...   \n",
       "2          0   O NOME DISSO É USO DA MÁQUINA PÚBLICA PARA BE...   \n",
       "3          0   Oliveira, não é só pq não é militar que não t...   \n",
       "4          0                                         Alarmada*    \n",
       "...      ...                                                ...   \n",
       "1566       1                                      Cara chato !    \n",
       "1567       1                                 Fala M não vai...    \n",
       "1570       1   Eu agora vou dormir!!!  Mas vocês não podem!!...   \n",
       "1572       1   BoIsotrooper, a GIobo de.ve mais de um biIhão...   \n",
       "1573       1   Tá aí consumidores de drogas essa guerra é po...   \n",
       "\n",
       "                                              minusculo  \\\n",
       "0                                            kkkkkkkk     \n",
       "1      não faz sentido isso que o porteiro disse uma...   \n",
       "2      o nome disso é uso da máquina pública para be...   \n",
       "3      oliveira, não é só pq não é militar que não t...   \n",
       "4                                            alarmada*    \n",
       "...                                                 ...   \n",
       "1566                                      cara chato !    \n",
       "1567                                 fala m não vai...    \n",
       "1570   eu agora vou dormir!!!  mas vocês não podem!!...   \n",
       "1572   boisotrooper, a giobo de.ve mais de um biihão...   \n",
       "1573   tá aí consumidores de drogas essa guerra é po...   \n",
       "\n",
       "                                        whitespacesnone  \\\n",
       "0                                              kkkkkkkk   \n",
       "1     não faz sentido isso que o porteiro disse uma ...   \n",
       "2     o nome disso é uso da máquina pública para ben...   \n",
       "3     oliveira, não é só pq não é militar que não te...   \n",
       "4                                             alarmada*   \n",
       "...                                                 ...   \n",
       "1566                                       cara chato !   \n",
       "1567                                  fala m não vai...   \n",
       "1570  eu agora vou dormir!!!  mas vocês não podem!!!...   \n",
       "1572  boisotrooper, a giobo de.ve mais de um biihão ...   \n",
       "1573  tá aí consumidores de drogas essa guerra é por...   \n",
       "\n",
       "                                              unidecode  \\\n",
       "0                                              kkkkkkkk   \n",
       "1     nao faz sentido isso que o porteiro disse uma ...   \n",
       "2     o nome disso e uso da maquina publica para ben...   \n",
       "3     oliveira, nao e so pq nao e militar que nao te...   \n",
       "4                                             alarmada*   \n",
       "...                                                 ...   \n",
       "1566                                       cara chato !   \n",
       "1567                                  fala m nao vai...   \n",
       "1570  eu agora vou dormir!!!  mas voces nao podem!!!...   \n",
       "1572  boisotrooper, a giobo de.ve mais de um biihao ...   \n",
       "1573  ta ai consumidores de drogas essa guerra e por...   \n",
       "\n",
       "                                    comentario_final_su  \\\n",
       "0                                              kkkkkkkk   \n",
       "1     sentido o porteiro disse o presidentebolsonaro...   \n",
       "2     o nome d uso máquina pública benefício ... est...   \n",
       "3                       oliveira pq militar treinamento   \n",
       "4                                              alarmada   \n",
       "...                                                 ...   \n",
       "1566                                         cara chato   \n",
       "1567                                         fala m ...   \n",
       "1570  vou dormir      o plantão completo senão o dindin   \n",
       "1572  boisotrooper a giobo de.ve biihão o flsc0 e co...   \n",
       "1573  tá consumidores drogas guerra vcs kd o freixo ...   \n",
       "\n",
       "                                    comentario_final_wu  \n",
       "0                                              kkkkkkkk  \n",
       "1     nao sentido o porteiro disse o presidentebolso...  \n",
       "2     o nome d e uso maquina publica beneficio propr...  \n",
       "3     oliveira nao e so pq nao e militar nao treinam...  \n",
       "4                                              alarmada  \n",
       "...                                                 ...  \n",
       "1566                                         cara chato  \n",
       "1567                                     fala m nao ...  \n",
       "1570  vou dormir   voces nao    o plantao completo s...  \n",
       "1572  boisotrooper a giobo de.ve biihao o flsc0 e co...  \n",
       "1573  ta ai consumidores drogas guerra e vcs kd o fr...  \n",
       "\n",
       "[1250 rows x 7 columns]"
      ]
     },
     "execution_count": 14,
     "metadata": {},
     "output_type": "execute_result"
    }
   ],
   "source": [
    "# Remove pontuação, stopwords, números soltos e gera os tokens COM UNIDECODE\n",
    "pontuacoes = list(punctuation)\n",
    "novo_comentario = []\n",
    "stop_word = list(nlp.Defaults.stop_words) \n",
    "\n",
    "for comentario in comentarios_df['unidecode']:\n",
    "    doc = nlp(comentario)\n",
    "    c = ' '.join([token.text for token in doc if token.text not in pontuacoes and token.text not in stop_word and not token.text.isdigit()])\n",
    "    novo_comentario.append(c)\n",
    "    \n",
    "comentarios_df['comentario_final_wu'] = novo_comentario\n",
    "comentarios_df"
   ]
  },
  {
   "cell_type": "code",
   "execution_count": 15,
   "metadata": {
    "scrolled": true
   },
   "outputs": [
    {
     "data": {
      "text/html": [
       "<div>\n",
       "<style scoped>\n",
       "    .dataframe tbody tr th:only-of-type {\n",
       "        vertical-align: middle;\n",
       "    }\n",
       "\n",
       "    .dataframe tbody tr th {\n",
       "        vertical-align: top;\n",
       "    }\n",
       "\n",
       "    .dataframe thead th {\n",
       "        text-align: right;\n",
       "    }\n",
       "</style>\n",
       "<table border=\"1\" class=\"dataframe\">\n",
       "  <thead>\n",
       "    <tr style=\"text-align: right;\">\n",
       "      <th></th>\n",
       "      <th>toxico</th>\n",
       "      <th>comentario</th>\n",
       "      <th>minusculo</th>\n",
       "      <th>whitespacesnone</th>\n",
       "      <th>unidecode</th>\n",
       "      <th>comentario_final_su</th>\n",
       "      <th>comentario_final_wu</th>\n",
       "    </tr>\n",
       "  </thead>\n",
       "  <tbody>\n",
       "    <tr>\n",
       "      <th>0</th>\n",
       "      <td>0</td>\n",
       "      <td>Uber é regulamentado em SP e funciona muito b...</td>\n",
       "      <td>uber é regulamentado em sp e funciona muito b...</td>\n",
       "      <td>uber é regulamentado em sp e funciona muito be...</td>\n",
       "      <td>uber e regulamentado em sp e funciona muito be...</td>\n",
       "      <td>uber regulamentado sp e funciona a regulamenta...</td>\n",
       "      <td>uber e regulamentado sp e funciona a regulamen...</td>\n",
       "    </tr>\n",
       "    <tr>\n",
       "      <th>1</th>\n",
       "      <td>1</td>\n",
       "      <td>Quando lançarem o Nobel de Malandragem, vamos...</td>\n",
       "      <td>quando lançarem o nobel de malandragem, vamos...</td>\n",
       "      <td>quando lançarem o nobel de malandragem, vamos ...</td>\n",
       "      <td>quando lancarem o nobel de malandragem, vamos ...</td>\n",
       "      <td>lançarem o nobel malandragem vamos faturar anos</td>\n",
       "      <td>lancarem o nobel malandragem vamos faturar anos</td>\n",
       "    </tr>\n",
       "    <tr>\n",
       "      <th>2</th>\n",
       "      <td>0</td>\n",
       "      <td>Será que não com o Queiroz que o porteiro con...</td>\n",
       "      <td>será que não com o queiroz que o porteiro con...</td>\n",
       "      <td>será que não com o queiroz que o porteiro conv...</td>\n",
       "      <td>sera que nao com o queiroz que o porteiro conv...</td>\n",
       "      <td>será o queiroz o porteiro conversou</td>\n",
       "      <td>sera nao o queiroz o porteiro conversou</td>\n",
       "    </tr>\n",
       "    <tr>\n",
       "      <th>3</th>\n",
       "      <td>1</td>\n",
       "      <td>Cadê Macron, cadê ONGs, cadê o Papa...?</td>\n",
       "      <td>cadê macron, cadê ongs, cadê o papa...?</td>\n",
       "      <td>cadê macron, cadê ongs, cadê o papa...?</td>\n",
       "      <td>cade macron, cade ongs, cade o papa...?</td>\n",
       "      <td>cadê macron cadê ongs cadê o papa ...</td>\n",
       "      <td>cade macron cade ongs cade o papa ...</td>\n",
       "    </tr>\n",
       "    <tr>\n",
       "      <th>4</th>\n",
       "      <td>1</td>\n",
       "      <td>Canalhas!!!!!!!</td>\n",
       "      <td>canalhas!!!!!!!</td>\n",
       "      <td>canalhas!!!!!!!</td>\n",
       "      <td>canalhas!!!!!!!</td>\n",
       "      <td>canalhas</td>\n",
       "      <td>canalhas</td>\n",
       "    </tr>\n",
       "    <tr>\n",
       "      <th>...</th>\n",
       "      <td>...</td>\n",
       "      <td>...</td>\n",
       "      <td>...</td>\n",
       "      <td>...</td>\n",
       "      <td>...</td>\n",
       "      <td>...</td>\n",
       "      <td>...</td>\n",
       "    </tr>\n",
       "    <tr>\n",
       "      <th>1245</th>\n",
       "      <td>0</td>\n",
       "      <td>COMUNISTAS DE TODO O MUNDO,  UNI-VOS!!@</td>\n",
       "      <td>comunistas de todo o mundo,  uni-vos!!@</td>\n",
       "      <td>comunistas de todo o mundo,  uni-vos!!@</td>\n",
       "      <td>comunistas de todo o mundo,  uni-vos!!@</td>\n",
       "      <td>comunistas o mundo   uni-vos!!@</td>\n",
       "      <td>comunistas o mundo   uni-vos!!@</td>\n",
       "    </tr>\n",
       "    <tr>\n",
       "      <th>1246</th>\n",
       "      <td>0</td>\n",
       "      <td>Falou a Mara Maravilha.</td>\n",
       "      <td>falou a mara maravilha.</td>\n",
       "      <td>falou a mara maravilha.</td>\n",
       "      <td>falou a mara maravilha.</td>\n",
       "      <td>falou a mara maravilha</td>\n",
       "      <td>falou a mara maravilha</td>\n",
       "    </tr>\n",
       "    <tr>\n",
       "      <th>1247</th>\n",
       "      <td>0</td>\n",
       "      <td>O problema não é presidente Trump e sim a Dec...</td>\n",
       "      <td>o problema não é presidente trump e sim a dec...</td>\n",
       "      <td>o problema não é presidente trump e sim a deci...</td>\n",
       "      <td>o problema nao e presidente trump e sim a deci...</td>\n",
       "      <td>o problema presidente trump e a decisão secret...</td>\n",
       "      <td>o problema nao e presidente trump e a decisao ...</td>\n",
       "    </tr>\n",
       "    <tr>\n",
       "      <th>1248</th>\n",
       "      <td>1</td>\n",
       "      <td>Parabéns! Se você chegou até aqui, essa notíc...</td>\n",
       "      <td>parabéns! se você chegou até aqui, essa notíc...</td>\n",
       "      <td>parabéns! se você chegou até aqui, essa notíci...</td>\n",
       "      <td>parabens! se voce chegou ate aqui, essa notici...</td>\n",
       "      <td>parabéns chegou notícia deu certo clicou n e v...</td>\n",
       "      <td>parabens voce chegou ate noticia deu certo voc...</td>\n",
       "    </tr>\n",
       "    <tr>\n",
       "      <th>1249</th>\n",
       "      <td>1</td>\n",
       "      <td>kkkkk data folha sendo data folha ....... se ...</td>\n",
       "      <td>kkkkk data folha sendo data folha ....... se ...</td>\n",
       "      <td>kkkkk data folha sendo data folha ....... se 3...</td>\n",
       "      <td>kkkkk data folha sendo data folha ....... se 3...</td>\n",
       "      <td>kkkkk data folha sendo data folha ....... repr...</td>\n",
       "      <td>kkkkk data folha sendo data folha ....... repr...</td>\n",
       "    </tr>\n",
       "  </tbody>\n",
       "</table>\n",
       "<p>1250 rows × 7 columns</p>\n",
       "</div>"
      ],
      "text/plain": [
       "      toxico                                         comentario  \\\n",
       "0          0   Uber é regulamentado em SP e funciona muito b...   \n",
       "1          1   Quando lançarem o Nobel de Malandragem, vamos...   \n",
       "2          0   Será que não com o Queiroz que o porteiro con...   \n",
       "3          1           Cadê Macron, cadê ONGs, cadê o Papa...?    \n",
       "4          1                                   Canalhas!!!!!!!    \n",
       "...      ...                                                ...   \n",
       "1245       0           COMUNISTAS DE TODO O MUNDO,  UNI-VOS!!@    \n",
       "1246       0                          Falou a Mara Maravilha.     \n",
       "1247       0   O problema não é presidente Trump e sim a Dec...   \n",
       "1248       1   Parabéns! Se você chegou até aqui, essa notíc...   \n",
       "1249       1   kkkkk data folha sendo data folha ....... se ...   \n",
       "\n",
       "                                              minusculo  \\\n",
       "0      uber é regulamentado em sp e funciona muito b...   \n",
       "1      quando lançarem o nobel de malandragem, vamos...   \n",
       "2      será que não com o queiroz que o porteiro con...   \n",
       "3              cadê macron, cadê ongs, cadê o papa...?    \n",
       "4                                      canalhas!!!!!!!    \n",
       "...                                                 ...   \n",
       "1245           comunistas de todo o mundo,  uni-vos!!@    \n",
       "1246                          falou a mara maravilha.     \n",
       "1247   o problema não é presidente trump e sim a dec...   \n",
       "1248   parabéns! se você chegou até aqui, essa notíc...   \n",
       "1249   kkkkk data folha sendo data folha ....... se ...   \n",
       "\n",
       "                                        whitespacesnone  \\\n",
       "0     uber é regulamentado em sp e funciona muito be...   \n",
       "1     quando lançarem o nobel de malandragem, vamos ...   \n",
       "2     será que não com o queiroz que o porteiro conv...   \n",
       "3               cadê macron, cadê ongs, cadê o papa...?   \n",
       "4                                       canalhas!!!!!!!   \n",
       "...                                                 ...   \n",
       "1245            comunistas de todo o mundo,  uni-vos!!@   \n",
       "1246                            falou a mara maravilha.   \n",
       "1247  o problema não é presidente trump e sim a deci...   \n",
       "1248  parabéns! se você chegou até aqui, essa notíci...   \n",
       "1249  kkkkk data folha sendo data folha ....... se 3...   \n",
       "\n",
       "                                              unidecode  \\\n",
       "0     uber e regulamentado em sp e funciona muito be...   \n",
       "1     quando lancarem o nobel de malandragem, vamos ...   \n",
       "2     sera que nao com o queiroz que o porteiro conv...   \n",
       "3               cade macron, cade ongs, cade o papa...?   \n",
       "4                                       canalhas!!!!!!!   \n",
       "...                                                 ...   \n",
       "1245            comunistas de todo o mundo,  uni-vos!!@   \n",
       "1246                            falou a mara maravilha.   \n",
       "1247  o problema nao e presidente trump e sim a deci...   \n",
       "1248  parabens! se voce chegou ate aqui, essa notici...   \n",
       "1249  kkkkk data folha sendo data folha ....... se 3...   \n",
       "\n",
       "                                    comentario_final_su  \\\n",
       "0     uber regulamentado sp e funciona a regulamenta...   \n",
       "1       lançarem o nobel malandragem vamos faturar anos   \n",
       "2                   será o queiroz o porteiro conversou   \n",
       "3                 cadê macron cadê ongs cadê o papa ...   \n",
       "4                                              canalhas   \n",
       "...                                                 ...   \n",
       "1245                    comunistas o mundo   uni-vos!!@   \n",
       "1246                             falou a mara maravilha   \n",
       "1247  o problema presidente trump e a decisão secret...   \n",
       "1248  parabéns chegou notícia deu certo clicou n e v...   \n",
       "1249  kkkkk data folha sendo data folha ....... repr...   \n",
       "\n",
       "                                    comentario_final_wu  \n",
       "0     uber e regulamentado sp e funciona a regulamen...  \n",
       "1       lancarem o nobel malandragem vamos faturar anos  \n",
       "2               sera nao o queiroz o porteiro conversou  \n",
       "3                 cade macron cade ongs cade o papa ...  \n",
       "4                                              canalhas  \n",
       "...                                                 ...  \n",
       "1245                    comunistas o mundo   uni-vos!!@  \n",
       "1246                             falou a mara maravilha  \n",
       "1247  o problema nao e presidente trump e a decisao ...  \n",
       "1248  parabens voce chegou ate noticia deu certo voc...  \n",
       "1249  kkkkk data folha sendo data folha ....... repr...  \n",
       "\n",
       "[1250 rows x 7 columns]"
      ]
     },
     "execution_count": 15,
     "metadata": {},
     "output_type": "execute_result"
    }
   ],
   "source": [
    "# Mistura os dados que estão no DataFrame para não ter vicio\n",
    "comentarios_df = comentarios_df.sample(frac=1).reset_index(drop=True)\n",
    "comentarios_df"
   ]
  },
  {
   "cell_type": "code",
   "execution_count": 16,
   "metadata": {},
   "outputs": [],
   "source": [
    "# Transforma tóxico em int\n",
    "comentarios_df[\"toxico\"] = pd.to_numeric(comentarios_df[\"toxico\"])"
   ]
  },
  {
   "cell_type": "code",
   "execution_count": 17,
   "metadata": {},
   "outputs": [],
   "source": [
    "# Gera um Json com o dataframe com tratamento \n",
    "with open('comentarios_df.json', 'w', encoding='utf-8') as file:\n",
    "    comentarios_df.to_json(file, force_ascii=False, orient='index')"
   ]
  },
  {
   "cell_type": "markdown",
   "metadata": {},
   "source": [
    "### Palavras frequentes e visualização"
   ]
  },
  {
   "cell_type": "code",
   "execution_count": 90,
   "metadata": {},
   "outputs": [
    {
     "data": {
      "text/html": [
       "<div>\n",
       "<style scoped>\n",
       "    .dataframe tbody tr th:only-of-type {\n",
       "        vertical-align: middle;\n",
       "    }\n",
       "\n",
       "    .dataframe tbody tr th {\n",
       "        vertical-align: top;\n",
       "    }\n",
       "\n",
       "    .dataframe thead th {\n",
       "        text-align: right;\n",
       "    }\n",
       "</style>\n",
       "<table border=\"1\" class=\"dataframe\">\n",
       "  <thead>\n",
       "    <tr style=\"text-align: right;\">\n",
       "      <th></th>\n",
       "      <th>Palavras</th>\n",
       "      <th>Frequencia</th>\n",
       "    </tr>\n",
       "  </thead>\n",
       "  <tbody>\n",
       "    <tr>\n",
       "      <th>0</th>\n",
       "      <td>uber</td>\n",
       "      <td>1</td>\n",
       "    </tr>\n",
       "    <tr>\n",
       "      <th>1</th>\n",
       "      <td>e</td>\n",
       "      <td>992</td>\n",
       "    </tr>\n",
       "    <tr>\n",
       "      <th>2</th>\n",
       "      <td>regulamentado</td>\n",
       "      <td>1</td>\n",
       "    </tr>\n",
       "    <tr>\n",
       "      <th>3</th>\n",
       "      <td>sp</td>\n",
       "      <td>4</td>\n",
       "    </tr>\n",
       "    <tr>\n",
       "      <th>4</th>\n",
       "      <td>funciona</td>\n",
       "      <td>5</td>\n",
       "    </tr>\n",
       "    <tr>\n",
       "      <th>...</th>\n",
       "      <td>...</td>\n",
       "      <td>...</td>\n",
       "    </tr>\n",
       "    <tr>\n",
       "      <th>5218</th>\n",
       "      <td>custar</td>\n",
       "      <td>1</td>\n",
       "    </tr>\n",
       "    <tr>\n",
       "      <th>5219</th>\n",
       "      <td>obviamente</td>\n",
       "      <td>1</td>\n",
       "    </tr>\n",
       "    <tr>\n",
       "      <th>5220</th>\n",
       "      <td>100-36</td>\n",
       "      <td>1</td>\n",
       "    </tr>\n",
       "    <tr>\n",
       "      <th>5221</th>\n",
       "      <td>redator</td>\n",
       "      <td>1</td>\n",
       "    </tr>\n",
       "    <tr>\n",
       "      <th>5222</th>\n",
       "      <td>cacete</td>\n",
       "      <td>1</td>\n",
       "    </tr>\n",
       "  </tbody>\n",
       "</table>\n",
       "<p>5223 rows × 2 columns</p>\n",
       "</div>"
      ],
      "text/plain": [
       "           Palavras  Frequencia\n",
       "0              uber           1\n",
       "1                 e         992\n",
       "2     regulamentado           1\n",
       "3                sp           4\n",
       "4          funciona           5\n",
       "...             ...         ...\n",
       "5218         custar           1\n",
       "5219     obviamente           1\n",
       "5220         100-36           1\n",
       "5221        redator           1\n",
       "5222         cacete           1\n",
       "\n",
       "[5223 rows x 2 columns]"
      ]
     },
     "execution_count": 90,
     "metadata": {},
     "output_type": "execute_result"
    }
   ],
   "source": [
    "import nltk\n",
    "from nltk import tokenize\n",
    "#nltk.download('stopwords') \n",
    "\n",
    "todas_palavras = ' '.join([texto for texto in comentarios_df['comentario_final_wu']])\n",
    "    \n",
    "tokens = tokenize.WhitespaceTokenizer().tokenize(todas_palavras)\n",
    "\n",
    "frequencia = nltk.FreqDist(tokens)\n",
    "\n",
    "df_frequencia = pd.DataFrame({\"Palavras\": list(frequencia.keys()),\n",
    "                             \"Frequencia\": list(frequencia.values())\n",
    "                            })\n",
    "\n",
    "df_frequencia"
   ]
  },
  {
   "cell_type": "code",
   "execution_count": 96,
   "metadata": {},
   "outputs": [
    {
     "data": {
      "text/html": [
       "<div>\n",
       "<style scoped>\n",
       "    .dataframe tbody tr th:only-of-type {\n",
       "        vertical-align: middle;\n",
       "    }\n",
       "\n",
       "    .dataframe tbody tr th {\n",
       "        vertical-align: top;\n",
       "    }\n",
       "\n",
       "    .dataframe thead th {\n",
       "        text-align: right;\n",
       "    }\n",
       "</style>\n",
       "<table border=\"1\" class=\"dataframe\">\n",
       "  <thead>\n",
       "    <tr style=\"text-align: right;\">\n",
       "      <th></th>\n",
       "      <th>Palavras</th>\n",
       "      <th>Frequencia</th>\n",
       "    </tr>\n",
       "  </thead>\n",
       "  <tbody>\n",
       "    <tr>\n",
       "      <th>1</th>\n",
       "      <td>e</td>\n",
       "      <td>992</td>\n",
       "    </tr>\n",
       "    <tr>\n",
       "      <th>13</th>\n",
       "      <td>o</td>\n",
       "      <td>952</td>\n",
       "    </tr>\n",
       "    <tr>\n",
       "      <th>5</th>\n",
       "      <td>a</td>\n",
       "      <td>722</td>\n",
       "    </tr>\n",
       "    <tr>\n",
       "      <th>7</th>\n",
       "      <td>nao</td>\n",
       "      <td>406</td>\n",
       "    </tr>\n",
       "    <tr>\n",
       "      <th>27</th>\n",
       "      <td>...</td>\n",
       "      <td>242</td>\n",
       "    </tr>\n",
       "    <tr>\n",
       "      <th>363</th>\n",
       "      <td>so</td>\n",
       "      <td>127</td>\n",
       "    </tr>\n",
       "    <tr>\n",
       "      <th>237</th>\n",
       "      <td>brasil</td>\n",
       "      <td>108</td>\n",
       "    </tr>\n",
       "    <tr>\n",
       "      <th>34</th>\n",
       "      <td>pra</td>\n",
       "      <td>107</td>\n",
       "    </tr>\n",
       "    <tr>\n",
       "      <th>159</th>\n",
       "      <td>d</td>\n",
       "      <td>87</td>\n",
       "    </tr>\n",
       "    <tr>\n",
       "      <th>288</th>\n",
       "      <td>bozo</td>\n",
       "      <td>81</td>\n",
       "    </tr>\n",
       "  </tbody>\n",
       "</table>\n",
       "</div>"
      ],
      "text/plain": [
       "    Palavras  Frequencia\n",
       "1          e         992\n",
       "13         o         952\n",
       "5          a         722\n",
       "7        nao         406\n",
       "27       ...         242\n",
       "363       so         127\n",
       "237   brasil         108\n",
       "34       pra         107\n",
       "159        d          87\n",
       "288     bozo          81"
      ]
     },
     "execution_count": 96,
     "metadata": {},
     "output_type": "execute_result"
    }
   ],
   "source": [
    "df_frequencia.nlargest(columns=['Frequencia'], n=10)"
   ]
  },
  {
   "cell_type": "code",
   "execution_count": 97,
   "metadata": {},
   "outputs": [
    {
     "name": "stdout",
     "output_type": "stream",
     "text": [
      "Collecting wordcloud\n",
      "  Downloading wordcloud-1.7.0-cp37-cp37m-win_amd64.whl (157 kB)\n",
      "Collecting pillow\n",
      "  Downloading Pillow-7.1.2-cp37-cp37m-win_amd64.whl (2.0 MB)\n",
      "Requirement already satisfied: numpy>=1.6.1 in g:\\anaconda3\\envs\\data_manipulation\\lib\\site-packages (from wordcloud) (1.18.1)\n",
      "Requirement already satisfied: matplotlib in g:\\anaconda3\\envs\\data_manipulation\\lib\\site-packages (from wordcloud) (3.1.3)\n",
      "Requirement already satisfied: kiwisolver>=1.0.1 in g:\\anaconda3\\envs\\data_manipulation\\lib\\site-packages (from matplotlib->wordcloud) (1.1.0)\n",
      "Requirement already satisfied: python-dateutil>=2.1 in g:\\anaconda3\\envs\\data_manipulation\\lib\\site-packages (from matplotlib->wordcloud) (2.8.1)\n",
      "Requirement already satisfied: cycler>=0.10 in g:\\anaconda3\\envs\\data_manipulation\\lib\\site-packages (from matplotlib->wordcloud) (0.10.0)\n",
      "Requirement already satisfied: pyparsing!=2.0.4,!=2.1.2,!=2.1.6,>=2.0.1 in g:\\anaconda3\\envs\\data_manipulation\\lib\\site-packages (from matplotlib->wordcloud) (2.4.6)\n",
      "Requirement already satisfied: setuptools in g:\\anaconda3\\envs\\data_manipulation\\lib\\site-packages (from kiwisolver>=1.0.1->matplotlib->wordcloud) (45.2.0.post20200210)\n",
      "Requirement already satisfied: six>=1.5 in g:\\anaconda3\\envs\\data_manipulation\\lib\\site-packages (from python-dateutil>=2.1->matplotlib->wordcloud) (1.14.0)\n",
      "Installing collected packages: pillow, wordcloud\n",
      "Successfully installed pillow-7.1.2 wordcloud-1.7.0\n"
     ]
    }
   ],
   "source": [
    "# instalação do pacote 'wordcloud':\n",
    "# !pip install wordcloud"
   ]
  },
  {
   "cell_type": "code",
   "execution_count": 98,
   "metadata": {},
   "outputs": [
    {
     "data": {
      "image/png": "[encoded data removed]",
      "text/plain": [
       "<Figure size 720x576 with 1 Axes>"
      ]
     },
     "metadata": {
      "needs_background": "light"
     },
     "output_type": "display_data"
    }
   ],
   "source": [
    "from wordcloud import WordCloud\n",
    "\n",
    "%matplotlib inline\n",
    "\n",
    "word_cloud = WordCloud(height=800, width=600, max_font_size=110,\n",
    "                      collocations=False).generate(todas_palavras)\n",
    "\n",
    "plt.figure(figsize=(10,8))\n",
    "plt.imshow(word_cloud, interpolation='bilinear')\n",
    "plt.axis('off')\n",
    "plt.show()"
   ]
  },
  {
   "cell_type": "markdown",
   "metadata": {},
   "source": [
    "## Começa o treino da ML"
   ]
  },
  {
   "cell_type": "markdown",
   "metadata": {},
   "source": [
    "#### Vai estar separado o treino em base original (em minusculo), base com preprocessamento sem limpeza com unidecode, base com preprocessamento com limpeza de unidecode"
   ]
  },
  {
   "cell_type": "code",
   "execution_count": 51,
   "metadata": {
    "scrolled": false
   },
   "outputs": [],
   "source": [
    "### Criar o bagofwords\n",
    "# base original sem nada\n",
    "vectorizer = CountVectorizer(analyzer='word', lowercase=False)\n",
    "bow = vectorizer.fit_transform(comentarios_df['comentario'])\n",
    "\n",
    "# bow base original\n",
    "vectorizer_lower = CountVectorizer(analyzer='word', lowercase=False)\n",
    "bow_lower = vectorizer_lower.fit_transform(comentarios_df['minusculo'])\n",
    "\n",
    "# bow base original minusculo removendo whitespace\n",
    "vectorizer_spacelower = CountVectorizer(analyzer='word', lowercase=False)\n",
    "bow_spacelower = vectorizer_spacelower.fit_transform(comentarios_df['whitespacesnone'])\n",
    "\n",
    "# bow preprocessamento sem unidecode\n",
    "vectorizer_su = CountVectorizer(analyzer='word', lowercase=False)\n",
    "bow_su = vectorizer_su.fit_transform(comentarios_df['comentario_final_su'])\n",
    "\n",
    "# bow preprocessamento com unidecode\n",
    "vectorizer_wu = CountVectorizer(analyzer='word', lowercase=False)\n",
    "bow_wu = vectorizer_wu.fit_transform(comentarios_df['comentario_final_wu'])"
   ]
  },
  {
   "cell_type": "code",
   "execution_count": 52,
   "metadata": {},
   "outputs": [],
   "source": [
    "### Gerar treino e classe com o train_test_split\n",
    "\n",
    "# treino e classe base original\n",
    "treino, teste, classe_treino, classe_teste = train_test_split(bow,\n",
    "       comentarios_df['toxico'], random_state=42)\n",
    "\n",
    "# treino e classe base original com letras minusculas \n",
    "treino_lower, teste_lower, classe_treino_lower, classe_teste_lower = train_test_split(bow_lower,\n",
    "       comentarios_df['toxico'], random_state=42)\n",
    "\n",
    "# treino e classe base com preprocessamento sem unidecode\n",
    "treino_su, teste_su, classe_treino_su, classe_teste_su = train_test_split(bow_su,\n",
    "       comentarios_df['toxico'], random_state=42)\n",
    "\n",
    "# treino e classe base com preprocessamento com unidecode\n",
    "treino_wu, teste_wu, classe_treino_wu, classe_teste_wu = train_test_split(bow_wu,\n",
    "       comentarios_df['toxico'], random_state=42)"
   ]
  },
  {
   "cell_type": "markdown",
   "metadata": {},
   "source": [
    "### Criação dos modelos e treinamento\n",
    "\n",
    "##### Para cada tipo de modelo foi criado um heatmap de suas matrizes de confusão, gerado precisao e acuracia"
   ]
  },
  {
   "cell_type": "markdown",
   "metadata": {},
   "source": [
    "#### Primeiro com Regressão Logística"
   ]
  },
  {
   "cell_type": "code",
   "execution_count": 68,
   "metadata": {},
   "outputs": [
    {
     "name": "stdout",
     "output_type": "stream",
     "text": [
      "Acuracia: 52.72% Precisao: 56.52%\n"
     ]
    }
   ],
   "source": [
    "# Base original\n",
    "classificador = LogisticRegression(solver='lbfgs')\n",
    "classificador.fit(treino, classe_treino)\n",
    "\n",
    "previsao = classificador.predict(teste)\n",
    "\n",
    "acuracia = accuracy_score(classe_teste, previsao)\n",
    "precisao = precision_score(classe_teste, previsao)\n",
    "\n",
    "print(\"Acuracia: %.2f%%\" % (acuracia * 100.0), \"Precisao: %.2f%%\" % (precisao * 100.0))\n",
    "\n",
    "#report = classification_report(previsao, classe_teste)\n",
    "\n",
    "#print('report:', report, sep='\\n')"
   ]
  },
  {
   "cell_type": "code",
   "execution_count": 73,
   "metadata": {},
   "outputs": [
    {
     "data": {
      "text/plain": [
       "<matplotlib.axes._subplots.AxesSubplot at 0x210a5d9bfc8>"
      ]
     },
     "execution_count": 73,
     "metadata": {},
     "output_type": "execute_result"
    },
    {
     "data": {
      "image/png": "[encoded data removed]",
      "text/plain": [
       "<Figure size 432x288 with 4 Axes>"
      ]
     },
     "metadata": {
      "needs_background": "light"
     },
     "output_type": "display_data"
    }
   ],
   "source": [
    "results_classificador = confusion_matrix(previsao, classe_teste) \n",
    "\n",
    "labels_classificador = [\"True Neg\",\"False Pos\",\"False Neg\",\"True Pos\"]\n",
    "labels_classificador = np.asarray(labels_classificador).reshape(2,2)\n",
    "\n",
    "fig, axs = plt.subplots(ncols=2)\n",
    "\n",
    "sn.heatmap(results_classificador, annot=labels_classificador, fmt=\"\", cmap='Blues', ax=axs[0])\n",
    "\n",
    "sn.heatmap(results_classificador/np.sum(results_classificador), annot=True, \n",
    "            fmt='.2%', cmap='Blues', ax=axs[1])"
   ]
  },
  {
   "cell_type": "code",
   "execution_count": 20,
   "metadata": {},
   "outputs": [
    {
     "name": "stdout",
     "output_type": "stream",
     "text": [
      "Acuracia: 55.59% Precisao: 58.65%\n"
     ]
    }
   ],
   "source": [
    "# Base original com letras minusculas \n",
    "classificador_lower = LogisticRegression(solver='lbfgs')\n",
    "classificador_lower.fit(treino_lower, classe_treino_lower)\n",
    "\n",
    "previsao_lower = classificador_lower.predict(teste_lower)\n",
    "\n",
    "acuracia_lower = accuracy_score(classe_teste_lower, previsao_lower)\n",
    "precisao_lower = precision_score(classe_teste_lower, previsao_lower)\n",
    "\n",
    "print(\"Acuracia: %.2f%%\" % (acuracia_lower * 100.0), \"Precisao: %.2f%%\" % (precisao_lower * 100.0))"
   ]
  },
  {
   "cell_type": "code",
   "execution_count": 72,
   "metadata": {},
   "outputs": [
    {
     "data": {
      "text/plain": [
       "<matplotlib.axes._subplots.AxesSubplot at 0x2109bf89208>"
      ]
     },
     "execution_count": 72,
     "metadata": {},
     "output_type": "execute_result"
    },
    {
     "data": {
      "image/png": "[encoded data removed]",
      "text/plain": [
       "<Figure size 432x288 with 4 Axes>"
      ]
     },
     "metadata": {
      "needs_background": "light"
     },
     "output_type": "display_data"
    }
   ],
   "source": [
    "results_classificador_lower = confusion_matrix(previsao_lower, classe_teste_lower) \n",
    "\n",
    "labels_classificador_lower = [\"True Neg\",\"False Pos\",\"False Neg\",\"True Pos\"]\n",
    "labels_classificador_lower = np.asarray(labels_classificador_lower).reshape(2,2)\n",
    "\n",
    "fig, axs = plt.subplots(ncols=2)\n",
    "\n",
    "sn.heatmap(results_classificador_lower, annot=labels_classificador_lower, fmt=\"\", cmap='Blues', ax=axs[0])\n",
    "\n",
    "sn.heatmap(results_classificador_lower/np.sum(results_classificador_lower), annot=True, \n",
    "            fmt='.2%', cmap='Blues', ax=axs[1])"
   ]
  },
  {
   "cell_type": "code",
   "execution_count": 21,
   "metadata": {},
   "outputs": [
    {
     "name": "stdout",
     "output_type": "stream",
     "text": [
      "Acuracia: 52.72% Precisao: 56.34%\n"
     ]
    }
   ],
   "source": [
    "# Base com preprocessamento sem unidecode\n",
    "classificador_su = LogisticRegression(solver='lbfgs')\n",
    "classificador_su.fit(treino_su, classe_treino_su)\n",
    "\n",
    "previsao_su = classificador_su.predict(teste_su)\n",
    "\n",
    "acuracia_su = accuracy_score(classe_teste_su, previsao_su)\n",
    "precisao_su = precision_score(classe_teste_su, previsao_su)\n",
    "\n",
    "print(\"Acuracia: %.2f%%\" % (acuracia_su * 100.0), \"Precisao: %.2f%%\" % (precisao_su * 100.0))"
   ]
  },
  {
   "cell_type": "code",
   "execution_count": 71,
   "metadata": {},
   "outputs": [
    {
     "data": {
      "text/plain": [
       "<matplotlib.axes._subplots.AxesSubplot at 0x2109be32b08>"
      ]
     },
     "execution_count": 71,
     "metadata": {},
     "output_type": "execute_result"
    },
    {
     "data": {
      "image/png": "[encoded data removed]",
      "text/plain": [
       "<Figure size 432x288 with 4 Axes>"
      ]
     },
     "metadata": {
      "needs_background": "light"
     },
     "output_type": "display_data"
    }
   ],
   "source": [
    "results_classificador_su = confusion_matrix(previsao_su, classe_teste_su) \n",
    "\n",
    "labels_classificador_su = [\"True Neg\",\"False Pos\",\"False Neg\",\"True Pos\"]\n",
    "labels_classificador_su = np.asarray(labels_classificador_su).reshape(2,2)\n",
    "\n",
    "fig, axs = plt.subplots(ncols=2)\n",
    "\n",
    "sn.heatmap(results_classificador_su, annot=labels_classificador_su, fmt=\"\", cmap='Blues', ax=axs[0])\n",
    "\n",
    "sn.heatmap(results_classificador_su/np.sum(results_classificador_su), annot=True, \n",
    "            fmt='.2%', cmap='Blues', ax=axs[1])"
   ]
  },
  {
   "cell_type": "code",
   "execution_count": 22,
   "metadata": {
    "scrolled": true
   },
   "outputs": [
    {
     "name": "stdout",
     "output_type": "stream",
     "text": [
      "Acuracia: 51.44% Precisao: 55.40%\n"
     ]
    }
   ],
   "source": [
    "# Base com preprocessamento com unidecode\n",
    "classificador_wu = LogisticRegression(solver='lbfgs')\n",
    "classificador_wu.fit(treino_wu, classe_treino_wu)\n",
    "\n",
    "previsao_wu = classificador_wu.predict(teste_wu)\n",
    "\n",
    "acuracia_wu = accuracy_score(classe_teste_wu, previsao_wu)\n",
    "precisao_wu = precision_score(classe_teste_wu, previsao_wu)\n",
    "\n",
    "print(\"Acuracia: %.2f%%\" % (acuracia_wu * 100.0), \"Precisao: %.2f%%\" % (precisao_wu * 100.0))"
   ]
  },
  {
   "cell_type": "code",
   "execution_count": 70,
   "metadata": {},
   "outputs": [
    {
     "data": {
      "text/plain": [
       "<matplotlib.axes._subplots.AxesSubplot at 0x2109bcf0fc8>"
      ]
     },
     "execution_count": 70,
     "metadata": {},
     "output_type": "execute_result"
    },
    {
     "data": {
      "image/png": "[encoded data removed]",
      "text/plain": [
       "<Figure size 432x288 with 4 Axes>"
      ]
     },
     "metadata": {
      "needs_background": "light"
     },
     "output_type": "display_data"
    }
   ],
   "source": [
    "results_classificador_wu = confusion_matrix(previsao_wu, classe_teste_wu) \n",
    "\n",
    "labels_classificador_wu = [\"True Neg\",\"False Pos\",\"False Neg\",\"True Pos\"]\n",
    "labels_classificador_wu = np.asarray(labels_classificador_wu).reshape(2,2)\n",
    "\n",
    "fig, axs = plt.subplots(ncols=2)\n",
    "\n",
    "sn.heatmap(results_classificador_wu, annot=labels_classificador_wu, fmt=\"\", cmap='Blues', ax=axs[0])\n",
    "\n",
    "sn.heatmap(results_classificador_wu/np.sum(results_classificador_wu), annot=True, \n",
    "            fmt='.2%', cmap='Blues', ax=axs[1])"
   ]
  },
  {
   "cell_type": "markdown",
   "metadata": {},
   "source": [
    "#### Agora com xgboost"
   ]
  },
  {
   "cell_type": "code",
   "execution_count": 23,
   "metadata": {},
   "outputs": [
    {
     "name": "stdout",
     "output_type": "stream",
     "text": [
      "Acuracia: 51.76% Precisao: 55.56%\n"
     ]
    }
   ],
   "source": [
    "# Base original\n",
    "model_lower = XGBClassifier()\n",
    "model_lower.fit(treino_lower, classe_treino_lower)\n",
    "\n",
    "y_pred_lower = model_lower.predict(teste_lower)\n",
    "predictions_lower = [round(value) for value in y_pred_lower]\n",
    "\n",
    "accuracy_lower = accuracy_score(classe_teste_lower, predictions_lower)\n",
    "precision_lower = precision_score(classe_teste_lower, predictions_lower)\n",
    "\n",
    "print(\"Acuracia: %.2f%%\" % (accuracy_lower * 100.0), \"Precisao: %.2f%%\" % (precision_lower * 100.0))"
   ]
  },
  {
   "cell_type": "code",
   "execution_count": 46,
   "metadata": {},
   "outputs": [
    {
     "data": {
      "text/plain": [
       "<matplotlib.axes._subplots.AxesSubplot at 0x2109a493288>"
      ]
     },
     "execution_count": 46,
     "metadata": {},
     "output_type": "execute_result"
    },
    {
     "data": {
      "image/png": "[encoded data removed]",
      "text/plain": [
       "<Figure size 432x288 with 4 Axes>"
      ]
     },
     "metadata": {
      "needs_background": "light"
     },
     "output_type": "display_data"
    }
   ],
   "source": [
    "results_model_lower = confusion_matrix(y_pred_lower, classe_teste_lower) \n",
    "\n",
    "labels_model_lower = [\"True Neg\",\"False Pos\",\"False Neg\",\"True Pos\"]\n",
    "labels_model_lower = np.asarray(labels_model_lower).reshape(2,2)\n",
    "\n",
    "fig, axs = plt.subplots(ncols=2)\n",
    "\n",
    "sn.heatmap(results_model_lower, annot=labels_model_lower, fmt=\"\", cmap='Blues', ax=axs[0])\n",
    "\n",
    "sn.heatmap(results_model_lower/np.sum(results_model_lower), annot=True, \n",
    "            fmt='.2%', cmap='Blues', ax=axs[1])"
   ]
  },
  {
   "cell_type": "code",
   "execution_count": 42,
   "metadata": {},
   "outputs": [
    {
     "name": "stdout",
     "output_type": "stream",
     "text": [
      "Acuracia: 57.51% Precisao: 58.82%\n"
     ]
    }
   ],
   "source": [
    "# Base com preprocessamento sem unidecode\n",
    "\n",
    "model_su = XGBClassifier()\n",
    "model_su.fit(treino_su, classe_treino_su)\n",
    "\n",
    "y_pred_su = model_su.predict(teste_su)\n",
    "predictions_su = [round(value) for value in y_pred_su]\n",
    "\n",
    "accuracy_su = accuracy_score(classe_teste_su, predictions_su)\n",
    "precision_su = precision_score(classe_teste_su, predictions_su)\n",
    "\n",
    "print(\"Acuracia: %.2f%%\" % (accuracy_su * 100.0), \"Precisao: %.2f%%\" % (precision_su * 100.0))"
   ]
  },
  {
   "cell_type": "code",
   "execution_count": 43,
   "metadata": {},
   "outputs": [
    {
     "data": {
      "text/plain": [
       "<matplotlib.axes._subplots.AxesSubplot at 0x21094dcb588>"
      ]
     },
     "execution_count": 43,
     "metadata": {},
     "output_type": "execute_result"
    },
    {
     "data": {
      "image/png": "[encoded data removed]",
      "text/plain": [
       "<Figure size 432x288 with 4 Axes>"
      ]
     },
     "metadata": {
      "needs_background": "light"
     },
     "output_type": "display_data"
    }
   ],
   "source": [
    "results_model_su = confusion_matrix(y_pred_su, classe_teste_su) \n",
    "\n",
    "labels_model_su = [\"True Neg\",\"False Pos\",\"False Neg\",\"True Pos\"]\n",
    "labels_model_su = np.asarray(labels_model_su).reshape(2,2)\n",
    "\n",
    "fig, axs = plt.subplots(ncols=2)\n",
    "\n",
    "sn.heatmap(results_model_su, annot=labels_model_su, fmt=\"\", cmap='Blues', ax=axs[0])\n",
    "\n",
    "sn.heatmap(results_model_su/np.sum(results_model_su), annot=True, \n",
    "            fmt='.2%', cmap='Blues', ax=axs[1])"
   ]
  },
  {
   "cell_type": "code",
   "execution_count": 40,
   "metadata": {},
   "outputs": [
    {
     "name": "stdout",
     "output_type": "stream",
     "text": [
      "Acuracia: 57.51% Precisao: 57.56%\n"
     ]
    }
   ],
   "source": [
    "# Base com preprocessamento com unidecode\n",
    "model_wu = XGBClassifier()\n",
    "model_wu.fit(treino_wu, classe_treino_wu)\n",
    "\n",
    "y_pred_wu = model_wu.predict(teste_wu)\n",
    "predictions_wu = [round(value) for value in y_pred_wu]\n",
    "\n",
    "accuracy_wu = accuracy_score(classe_teste_wu, predictions_wu)\n",
    "precision_wu = precision_score(classe_teste_wu, predictions_wu)\n",
    "\n",
    "print(\"Acuracia: %.2f%%\" % (accuracy_su * 100.0), \"Precisao: %.2f%%\" % (precision_wu * 100.0))"
   ]
  },
  {
   "cell_type": "code",
   "execution_count": 44,
   "metadata": {},
   "outputs": [
    {
     "data": {
      "text/plain": [
       "<matplotlib.axes._subplots.AxesSubplot at 0x210990c6f88>"
      ]
     },
     "execution_count": 44,
     "metadata": {},
     "output_type": "execute_result"
    },
    {
     "data": {
      "image/png": "[encoded data removed]",
      "text/plain": [
       "<Figure size 432x288 with 4 Axes>"
      ]
     },
     "metadata": {
      "needs_background": "light"
     },
     "output_type": "display_data"
    }
   ],
   "source": [
    "results_model_wu = confusion_matrix(y_pred_wu, classe_teste_wu) \n",
    "\n",
    "labels_model_wu = [\"True Neg\",\"False Pos\",\"False Neg\",\"True Pos\"]\n",
    "labels_model_wu = np.asarray(labels_model_wu).reshape(2,2)\n",
    "\n",
    "fig, axs = plt.subplots(ncols=2)\n",
    "\n",
    "sn.heatmap(results_model_wu, annot=labels_model_wu, fmt=\"\", cmap='Blues', ax=axs[0])\n",
    "\n",
    "sn.heatmap(results_model_wu/np.sum(results_model_wu), annot=True, \n",
    "            fmt='.2%', cmap='Blues', ax=axs[1])"
   ]
  },
  {
   "cell_type": "markdown",
   "metadata": {},
   "source": [
    "#### Agora com gradientboosting classifier"
   ]
  },
  {
   "cell_type": "code",
   "execution_count": 26,
   "metadata": {
    "scrolled": true
   },
   "outputs": [
    {
     "name": "stdout",
     "output_type": "stream",
     "text": [
      "Learning rate:  0.05\n",
      "Accuracy score (training): 0.702\n",
      "Accuracy score (validation): 0.569\n",
      "\n",
      "Learning rate:  0.1\n",
      "Accuracy score (training): 0.788\n",
      "Accuracy score (validation): 0.562\n",
      "\n",
      "Learning rate:  0.25\n",
      "Accuracy score (training): 0.915\n",
      "Accuracy score (validation): 0.527\n",
      "\n",
      "Learning rate:  0.5\n",
      "Accuracy score (training): 0.968\n",
      "Accuracy score (validation): 0.527\n",
      "\n",
      "Learning rate:  0.75\n",
      "Accuracy score (training): 0.977\n",
      "Accuracy score (validation): 0.546\n",
      "\n",
      "Learning rate:  1\n",
      "Accuracy score (training): 0.981\n",
      "Accuracy score (validation): 0.546\n",
      "\n"
     ]
    }
   ],
   "source": [
    "# Define possibilidades de valores de aprendizado e identifica qual tras o melhor scrore em acuracia\n",
    "learning_rates = [0.05, 0.1, 0.25, 0.5, 0.75, 1]\n",
    "for learning_rate in learning_rates:\n",
    "    gb = GradientBoostingClassifier(learning_rate = learning_rate, random_state=42)\n",
    "    gb.fit(treino_lower, classe_treino_lower)\n",
    "    print(\"Learning rate: \", learning_rate)\n",
    "    print(\"Accuracy score (training): {0:.3f}\".format(gb.score(treino_lower, classe_treino_lower)))\n",
    "    print(\"Accuracy score (validation): {0:.3f}\".format(gb.score(teste_lower, classe_teste_lower)))\n",
    "    print()"
   ]
  },
  {
   "cell_type": "code",
   "execution_count": 27,
   "metadata": {},
   "outputs": [
    {
     "name": "stdout",
     "output_type": "stream",
     "text": [
      "Acuracia: 54.63% Precisao: 57.75%\n"
     ]
    }
   ],
   "source": [
    "# Base original\n",
    "gb_lower = GradientBoostingClassifier(learning_rate = 0.75, random_state = 42)\n",
    "gb_lower.fit(treino_lower, classe_treino_lower)\n",
    "predictions_lower = gb.predict(teste_lower)\n",
    "\n",
    "accuracy1 = accuracy_score(classe_teste_lower, predictions_lower)\n",
    "precision1 = precision_score(classe_teste_lower, predictions_lower)\n",
    "print(\"Acuracia: %.2f%%\" % (accuracy1 * 100.0), \"Precisao: %.2f%%\" % (precision1 * 100.0))"
   ]
  },
  {
   "cell_type": "code",
   "execution_count": 28,
   "metadata": {},
   "outputs": [
    {
     "data": {
      "text/plain": [
       "<matplotlib.axes._subplots.AxesSubplot at 0x210983df188>"
      ]
     },
     "execution_count": 28,
     "metadata": {},
     "output_type": "execute_result"
    },
    {
     "data": {
      "image/png": "[encoded data removed]",
      "text/plain": [
       "<Figure size 432x288 with 4 Axes>"
      ]
     },
     "metadata": {
      "needs_background": "light"
     },
     "output_type": "display_data"
    }
   ],
   "source": [
    "results_gb_lower = confusion_matrix(predictions_lower, classe_teste_lower) \n",
    "\n",
    "labels_gb_lower = [\"True Neg\",\"False Pos\",\"False Neg\",\"True Pos\"]\n",
    "labels_gb_lower = np.asarray(labels_gb_lower).reshape(2,2)\n",
    "\n",
    "fig, axs = plt.subplots(ncols=2)\n",
    "\n",
    "sn.heatmap(results_gb_lower, annot=labels_gb_lower, fmt=\"\", cmap='Blues', ax=axs[0])\n",
    "\n",
    "sn.heatmap(results_gb_lower/np.sum(results_gb_lower), annot=True, \n",
    "            fmt='.2%', cmap='Blues', ax=axs[1])"
   ]
  },
  {
   "cell_type": "code",
   "execution_count": 29,
   "metadata": {},
   "outputs": [
    {
     "name": "stdout",
     "output_type": "stream",
     "text": [
      "Acuracia: 55.91% Precisao: 57.74%\n"
     ]
    }
   ],
   "source": [
    "# Base com preprocessamento sem unidecode\n",
    "gb_su = GradientBoostingClassifier(learning_rate = 0.75, random_state = 42)\n",
    "gb_su.fit(treino_su, classe_treino_su)\n",
    "predictions_su = gb_su.predict(teste_su)\n",
    "\n",
    "accuracy2 = accuracy_score(classe_teste_su, predictions_su)\n",
    "precision2 = precision_score(classe_teste_su, predictions_su)\n",
    "print(\"Acuracia: %.2f%%\" % (accuracy2 * 100.0), \"Precisao: %.2f%%\" % (precision2 * 100.0))"
   ]
  },
  {
   "cell_type": "code",
   "execution_count": 30,
   "metadata": {},
   "outputs": [
    {
     "data": {
      "text/plain": [
       "<matplotlib.axes._subplots.AxesSubplot at 0x210988f7c88>"
      ]
     },
     "execution_count": 30,
     "metadata": {},
     "output_type": "execute_result"
    },
    {
     "data": {
      "image/png": "[encoded data removed]",
      "text/plain": [
       "<Figure size 432x288 with 4 Axes>"
      ]
     },
     "metadata": {
      "needs_background": "light"
     },
     "output_type": "display_data"
    }
   ],
   "source": [
    "results_gb_su = confusion_matrix(predictions_su, classe_teste_su) \n",
    "\n",
    "labels_gb_su = [\"True Neg\",\"False Pos\",\"False Neg\",\"True Pos\"]\n",
    "labels_gb_su = np.asarray(labels_gb_su).reshape(2,2)\n",
    "\n",
    "fig, axs = plt.subplots(ncols=2)\n",
    "\n",
    "sn.heatmap(results_gb_su, annot=labels_gb_su, fmt=\"\", cmap='Blues', ax=axs[0])\n",
    "\n",
    "sn.heatmap(results_gb_su/np.sum(results_gb_su), annot=True, \n",
    "            fmt='.2%', cmap='Blues', ax=axs[1])"
   ]
  },
  {
   "cell_type": "code",
   "execution_count": 31,
   "metadata": {},
   "outputs": [
    {
     "name": "stdout",
     "output_type": "stream",
     "text": [
      "Acuracia: 56.55% Precisao: 58.23%\n"
     ]
    }
   ],
   "source": [
    "# Base com preprocessamento com unidecode\n",
    "gb_wu = GradientBoostingClassifier(learning_rate = 0.75, random_state = 42)\n",
    "gb_wu.fit(treino_wu, classe_treino_wu)\n",
    "predictions_wu = gb_wu.predict(teste_wu)\n",
    "\n",
    "accuracy3 = accuracy_score(classe_teste_wu, predictions_wu)\n",
    "precision3 = precision_score(classe_teste_wu, predictions_wu)\n",
    "print(\"Acuracia: %.2f%%\" % (accuracy3 * 100.0), \"Precisao: %.2f%%\" % (precision3 * 100.0))"
   ]
  },
  {
   "cell_type": "code",
   "execution_count": 38,
   "metadata": {},
   "outputs": [
    {
     "data": {
      "text/plain": [
       "<matplotlib.axes._subplots.AxesSubplot at 0x21098db5888>"
      ]
     },
     "execution_count": 38,
     "metadata": {},
     "output_type": "execute_result"
    },
    {
     "data": {
      "image/png": "[encoded data removed]",
      "text/plain": [
       "<Figure size 432x288 with 4 Axes>"
      ]
     },
     "metadata": {
      "needs_background": "light"
     },
     "output_type": "display_data"
    }
   ],
   "source": [
    "results_gb_wu = confusion_matrix(predictions_wu, classe_teste_wu) \n",
    "\n",
    "labels_gb_wu = [\"True Neg\",\"False Pos\",\"False Neg\",\"True Pos\"]\n",
    "labels_gb_wu = np.asarray(labels_gb_wu).reshape(2,2)\n",
    "\n",
    "fig, axs = plt.subplots(ncols=2)\n",
    "\n",
    "sn.heatmap(results_gb_wu, annot=labels_gb_wu, fmt=\"\", cmap='Blues', ax=axs[0])\n",
    "\n",
    "sn.heatmap(results_gb_wu/np.sum(results_gb_wu), annot=True, \n",
    "            fmt='.2%', cmap='Blues', ax=axs[1])"
   ]
  },
  {
   "cell_type": "markdown",
   "metadata": {},
   "source": [
    "## Salva os modelos com pickle"
   ]
  },
  {
   "cell_type": "code",
   "execution_count": 32,
   "metadata": {},
   "outputs": [
    {
     "name": "stdout",
     "output_type": "stream",
     "text": [
      "Modelo regressao logistica lower\n"
     ]
    }
   ],
   "source": [
    "joblib.dump(classificador_lower, 'lr_classificador_lower.pkl')\n",
    "joblib.dump(vectorizer_lower, 'cv_lower.pkl')\n",
    "print(\"Modelo regressao logistica lower\")\n",
    "#lr_lower = joblib.load('lr_classificador_lower.pkl')"
   ]
  },
  {
   "cell_type": "code",
   "execution_count": 33,
   "metadata": {},
   "outputs": [
    {
     "name": "stdout",
     "output_type": "stream",
     "text": [
      "[0]\n"
     ]
    }
   ],
   "source": [
    "model_loaded = open('lr_classificador_lower.pkl', 'rb')\n",
    "cv_loaded = open('cv_lower.pkl', 'rb')\n",
    "clf = joblib.load(model_loaded)\n",
    "cvteste = joblib.load(cv_loaded)\n",
    "\n",
    "datateste = ['sera possivel que sempre vai dar 1 acho que ta viciado']\n",
    "vectteste = cvteste.transform(datateste).toarray()\n",
    "predictteste = clf.predict(vectteste)\n",
    "\n",
    "print(predictteste)"
   ]
  },
  {
   "cell_type": "code",
   "execution_count": 34,
   "metadata": {},
   "outputs": [
    {
     "name": "stdout",
     "output_type": "stream",
     "text": [
      "Modelo regressao logistica wu\n"
     ]
    }
   ],
   "source": [
    "joblib.dump(classificador_wu, 'lr_classificador_wu.pkl')\n",
    "joblib.dump(vectorizer_wu, 'cv_wu.pkl')\n",
    "print(\"Modelo regressao logistica wu\")\n",
    "#lr_lower = joblib.load('lr_classificador_lower.pkl')"
   ]
  },
  {
   "cell_type": "code",
   "execution_count": 35,
   "metadata": {},
   "outputs": [
    {
     "name": "stdout",
     "output_type": "stream",
     "text": [
      "[0]\n"
     ]
    }
   ],
   "source": [
    "model_loaded2 = open('lr_classificador_wu.pkl', 'rb')\n",
    "cv_loaded2 = open('cv_wu.pkl', 'rb')\n",
    "clf2 = joblib.load(model_loaded2)\n",
    "cvteste2 = joblib.load(cv_loaded2)\n",
    "\n",
    "datateste2 = ['sera possivel que sempre vai dar 1 acho que ta viciado']\n",
    "\n",
    "#doc2 = nlp(datateste2)\n",
    "#c2 = ' '.join([token.text for token in doc2 if token.text not in pontuacoes and token.text not in stop_word and not token.text.isdigit()])\n",
    "    \n",
    "vectteste2 = cvteste2.transform(datateste2).toarray()\n",
    "predictteste2 = clf2.predict(vectteste2)\n",
    "\n",
    "print(predictteste2)"
   ]
  },
  {
   "cell_type": "code",
   "execution_count": 36,
   "metadata": {},
   "outputs": [
    {
     "name": "stdout",
     "output_type": "stream",
     "text": [
      "Modelo regressao logistica su\n"
     ]
    }
   ],
   "source": [
    "joblib.dump(classificador_su, 'lr_classificador_su.pkl')\n",
    "joblib.dump(vectorizer_su, 'cv_su.pkl')\n",
    "print(\"Modelo regressao logistica su\")\n",
    "#lr_lower = joblib.load('lr_classificador_lower.pkl')"
   ]
  },
  {
   "cell_type": "code",
   "execution_count": 37,
   "metadata": {},
   "outputs": [
    {
     "name": "stdout",
     "output_type": "stream",
     "text": [
      "[1]\n"
     ]
    }
   ],
   "source": [
    "model_loaded3 = open('lr_classificador_su.pkl', 'rb')\n",
    "cv_loaded3 = open('cv_su.pkl', 'rb')\n",
    "clf3 = joblib.load(model_loaded3)\n",
    "cvteste3 = joblib.load(cv_loaded3)\n",
    "\n",
    "datateste3 = ['sera possivel que sempre vai dar 1 acho que ta viciado']\n",
    "vectteste3 = cvteste3.transform(datateste3).toarray()\n",
    "predictteste3 = clf3.predict(vectteste3)\n",
    "\n",
    "print(predictteste3)"
   ]
  },
  {
   "cell_type": "code",
   "execution_count": null,
   "metadata": {},
   "outputs": [],
   "source": []
  }
 ],
 "metadata": {
  "kernelspec": {
   "display_name": "Python 3",
   "language": "python",
   "name": "python3"
  },
  "language_info": {
   "codemirror_mode": {
    "name": "ipython",
    "version": 3
   },
   "file_extension": ".py",
   "mimetype": "text/x-python",
   "name": "python",
   "nbconvert_exporter": "python",
   "pygments_lexer": "ipython3",
   "version": "3.7.6"
  }
 },
 "nbformat": 4,
 "nbformat_minor": 4
}
