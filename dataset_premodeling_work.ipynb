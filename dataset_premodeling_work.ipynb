{
 "cells": [
  {
   "cell_type": "code",
   "execution_count": 1,
   "metadata": {},
   "outputs": [],
   "source": [
    "import pandas as pd"
   ]
  },
  {
   "cell_type": "markdown",
   "metadata": {},
   "source": [
    "#### Leitura da base em JSON"
   ]
  },
  {
   "cell_type": "code",
   "execution_count": 2,
   "metadata": {},
   "outputs": [
    {
     "data": {
      "text/html": [
       "<div>\n",
       "<style scoped>\n",
       "    .dataframe tbody tr th:only-of-type {\n",
       "        vertical-align: middle;\n",
       "    }\n",
       "\n",
       "    .dataframe tbody tr th {\n",
       "        vertical-align: top;\n",
       "    }\n",
       "\n",
       "    .dataframe thead th {\n",
       "        text-align: right;\n",
       "    }\n",
       "</style>\n",
       "<table border=\"1\" class=\"dataframe\">\n",
       "  <thead>\n",
       "    <tr style=\"text-align: right;\">\n",
       "      <th></th>\n",
       "      <th>idcomentario</th>\n",
       "      <th>toxico</th>\n",
       "      <th>comentario</th>\n",
       "      <th>tipo</th>\n",
       "    </tr>\n",
       "  </thead>\n",
       "  <tbody>\n",
       "    <tr>\n",
       "      <th>0</th>\n",
       "      <td>5e52b6f032766bbb6d01c5cc</td>\n",
       "      <td>False</td>\n",
       "      <td>Passando o pacote anti crime na camara e sena...</td>\n",
       "      <td></td>\n",
       "    </tr>\n",
       "    <tr>\n",
       "      <th>1</th>\n",
       "      <td>5e52b83c32766bbb6d01d2c0</td>\n",
       "      <td>False</td>\n",
       "      <td>nossa ai fica dificil...antes sobia 20 reais ...</td>\n",
       "      <td></td>\n",
       "    </tr>\n",
       "    <tr>\n",
       "      <th>2</th>\n",
       "      <td>5e52b83c32766bbb6d01d1e2</td>\n",
       "      <td>False</td>\n",
       "      <td>Até quando ele vai comparar tudo a um casamen...</td>\n",
       "      <td></td>\n",
       "    </tr>\n",
       "    <tr>\n",
       "      <th>3</th>\n",
       "      <td>5e52b84f32766bbb6d01db26</td>\n",
       "      <td>False</td>\n",
       "      <td>99 nunca mais! Usei o 99 para pagar com cartã...</td>\n",
       "      <td></td>\n",
       "    </tr>\n",
       "    <tr>\n",
       "      <th>4</th>\n",
       "      <td>5e52b84f32766bbb6d01d883</td>\n",
       "      <td>False</td>\n",
       "      <td>Já foi confirmado pela UFBA que é óleo venezu...</td>\n",
       "      <td></td>\n",
       "    </tr>\n",
       "  </tbody>\n",
       "</table>\n",
       "</div>"
      ],
      "text/plain": [
       "               idcomentario  toxico  \\\n",
       "0  5e52b6f032766bbb6d01c5cc   False   \n",
       "1  5e52b83c32766bbb6d01d2c0   False   \n",
       "2  5e52b83c32766bbb6d01d1e2   False   \n",
       "3  5e52b84f32766bbb6d01db26   False   \n",
       "4  5e52b84f32766bbb6d01d883   False   \n",
       "\n",
       "                                          comentario tipo  \n",
       "0   Passando o pacote anti crime na camara e sena...       \n",
       "1   nossa ai fica dificil...antes sobia 20 reais ...       \n",
       "2   Até quando ele vai comparar tudo a um casamen...       \n",
       "3   99 nunca mais! Usei o 99 para pagar com cartã...       \n",
       "4   Já foi confirmado pela UFBA que é óleo venezu...       "
      ]
     },
     "execution_count": 2,
     "metadata": {},
     "output_type": "execute_result"
    }
   ],
   "source": [
    "# Ler arquivo Json - arquivo usando com orient=records\n",
    "data = pd.read_json('definedcommentsdf.json')\n",
    "\n",
    "# Cria um dataframe so para os valores das colunas toxico e comentario\n",
    "comments_toxico = data.drop(['link','datahora'], axis=1)\n",
    "comments_toxico.head()"
   ]
  },
  {
   "cell_type": "code",
   "execution_count": 3,
   "metadata": {},
   "outputs": [
    {
     "data": {
      "text/plain": [
       "False    1565\n",
       "True      787\n",
       "Name: toxico, dtype: int64"
      ]
     },
     "execution_count": 3,
     "metadata": {},
     "output_type": "execute_result"
    }
   ],
   "source": [
    "comments_toxico['toxico'].value_counts()"
   ]
  },
  {
   "cell_type": "markdown",
   "metadata": {},
   "source": [
    "## Aqui começa o tratamento da base"
   ]
  },
  {
   "cell_type": "code",
   "execution_count": 4,
   "metadata": {},
   "outputs": [],
   "source": [
    "# Modifica valores false/true para 0,1\n",
    "comments_toxico.loc[(comments_toxico.toxico == True),'toxico'] = 1\n",
    "comments_toxico.loc[(comments_toxico.toxico == False),'toxico'] = 0"
   ]
  },
  {
   "cell_type": "code",
   "execution_count": 5,
   "metadata": {},
   "outputs": [],
   "source": [
    "# DataFrame com toxicos e não toxicos\n",
    "toxic_data = comments_toxico[comments_toxico.toxico == 1]\n",
    "nontoxic_data = comments_toxico[comments_toxico.toxico == 0]"
   ]
  },
  {
   "cell_type": "code",
   "execution_count": 6,
   "metadata": {},
   "outputs": [],
   "source": [
    "# Conta quantidade de cada classificacao\n",
    "count_toxic = toxic_data.shape[0]\n",
    "count_nontoxic = nontoxic_data.shape[0]\n",
    "\n",
    "# Checa a quantidade de cada dataset e deixa 50%/50% de cada classificacao \n",
    "if count_nontoxic > count_toxic:\n",
    "    nontoxic_data = nontoxic_data.sample(count_toxic, replace=True)\n",
    "    \n",
    "if count_toxic > count_nontoxic:\n",
    "    toxic_data = toxic_data.sample(count_nontoxic, replace=True)\n",
    "    \n",
    "# Ignora Warnings de indexação\n",
    "pd.options.mode.chained_assignment = None\n",
    "\n",
    "# Cria contagem de idcomentarios iguais\n",
    "nontoxic_data['amount_idcomentario']= nontoxic_data.idcomentario.map(nontoxic_data.idcomentario.value_counts())\n",
    "toxic_data['amount_idcomentario']= toxic_data.idcomentario.map(toxic_data.idcomentario.value_counts())\n",
    "\n",
    "# Criar listas de apoio\n",
    "data_bigtoxic = [] \n",
    "data_bignontoxic = []\n",
    "dataigual = []\n",
    "for row in nontoxic_data.itertuples():\n",
    "    for row1 in toxic_data.itertuples():\n",
    "        if row1.idcomentario == row.idcomentario and row1.amount_idcomentario > row.amount_idcomentario:\n",
    "            data_bigtoxic.append(row1)\n",
    "        elif row1.idcomentario == row.idcomentario and row1.amount_idcomentario < row.amount_idcomentario:\n",
    "            data_bignontoxic.append(row)\n",
    "        elif row1.idcomentario == row.idcomentario and row1.amount_idcomentario == row.amount_idcomentario:\n",
    "            dataigual.append(row1.idcomentario)"
   ]
  },
  {
   "cell_type": "code",
   "execution_count": 7,
   "metadata": {},
   "outputs": [],
   "source": [
    "# Recria dataframe com samples de toxic e non toxic, resetando index \n",
    "mergedata = [nontoxic_data,toxic_data]\n",
    "new_dataframe = pd.concat(mergedata)\n",
    "new_dataframe.reset_index(drop=True, inplace=True)"
   ]
  },
  {
   "cell_type": "markdown",
   "metadata": {},
   "source": [
    "#### Caso queira remover comentário que tem notação tóxica e não tóxica "
   ]
  },
  {
   "cell_type": "code",
   "execution_count": 8,
   "metadata": {},
   "outputs": [],
   "source": [
    "# Remove comentarios que tem mesmo valor de toxico e nao toxico\n",
    "# data_framefinal = new_dataframe[~new_dataframe.idcomentario.isin(dataigual)]"
   ]
  },
  {
   "cell_type": "code",
   "execution_count": 9,
   "metadata": {},
   "outputs": [],
   "source": [
    "# remove itens duplicados\n",
    "# comentarios_df = data_framefinal.drop(['idcomentario','tipo','amount_idcomentario'], axis=1)\n",
    "# comentarios_df = comentarios_df.drop_duplicates(subset=['toxico', 'comentario'], keep='first')\n",
    "# comentarios_df"
   ]
  },
  {
   "cell_type": "code",
   "execution_count": 10,
   "metadata": {},
   "outputs": [
    {
     "data": {
      "text/plain": [
       "1    787\n",
       "0    787\n",
       "Name: toxico, dtype: int64"
      ]
     },
     "execution_count": 10,
     "metadata": {},
     "output_type": "execute_result"
    }
   ],
   "source": [
    "comentarios_df = new_dataframe.drop(['idcomentario','tipo','amount_idcomentario'], axis=1)\n",
    "comentarios_df['toxico'].value_counts()"
   ]
  },
  {
   "cell_type": "code",
   "execution_count": 11,
   "metadata": {},
   "outputs": [],
   "source": [
    "# Transforma tóxico em int\n",
    "comentarios_df[\"toxico\"] = pd.to_numeric(comentarios_df[\"toxico\"])"
   ]
  },
  {
   "cell_type": "code",
   "execution_count": 12,
   "metadata": {},
   "outputs": [],
   "source": [
    "# Gera um Json com o dataframe com tratamento \n",
    "with open('dataset_for_modeling.json', 'w', encoding='utf-8') as file:\n",
    "    comentarios_df.to_json(file, force_ascii=False, orient='records')"
   ]
  },
  {
   "cell_type": "code",
   "execution_count": null,
   "metadata": {},
   "outputs": [],
   "source": []
  }
 ],
 "metadata": {
  "kernelspec": {
   "display_name": "Python 3",
   "language": "python",
   "name": "python3"
  },
  "language_info": {
   "codemirror_mode": {
    "name": "ipython",
    "version": 3
   },
   "file_extension": ".py",
   "mimetype": "text/x-python",
   "name": "python",
   "nbconvert_exporter": "python",
   "pygments_lexer": "ipython3",
   "version": "3.7.6"
  }
 },
 "nbformat": 4,
 "nbformat_minor": 4
}
